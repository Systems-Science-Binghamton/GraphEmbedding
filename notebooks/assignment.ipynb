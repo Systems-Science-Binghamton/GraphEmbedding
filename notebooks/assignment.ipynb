{
 "cells": [
  {
   "cell_type": "markdown",
   "id": "6c8b547d",
   "metadata": {},
   "source": [
    "# Assignment\n",
    "\n",
    "In this assignment, we will use the dolphin network. The data is in \"./data\" folder. There are two csv files, i.e., node_table.csv and edge_table.csv. \n",
    "Load the network and complete the following assignments. "
   ]
  },
  {
   "cell_type": "code",
   "execution_count": 19,
   "id": "65836ae1",
   "metadata": {},
   "outputs": [],
   "source": [
    "import pandas as pd\n",
    "import igraph\n",
    "import numpy as np\n",
    "from scipy import sparse\n",
    "\n",
    "node_table = pd.read_csv(\"../data/node_table.csv\")\n",
    "edge_table = pd.read_csv(\"../data/edge_table.csv\")\n",
    "src, trg = tuple(edge_table[[\"src\", \"trg\"]].values.T)\n",
    "edge_list = tuple(zip(src, trg))\n",
    "\n",
    "# node_id and name dictionary\n",
    "n_nodes = node_table.shape[0]\n",
    "\n",
    "# Construct the igraph object\n",
    "g = igraph.Graph(edge_list, directed=False)\n",
    "\n",
    "# Construct the adjacency matrix\n",
    "A = g.get_adjacency_sparse()\n",
    "\n",
    "# Node's group attribute\n",
    "group_labels, group_membership = np.unique(\n",
    "    node_table[\"sex\"].values, return_inverse=True\n",
    ")"
   ]
  },
  {
   "cell_type": "markdown",
   "id": "23aa69da",
   "metadata": {},
   "source": [
    "**Question 1: Implement the following function to compute the degree assortativity of the network. Do not use the igraph.assortativity and g.assortativity_degree APIs.**"
   ]
  },
  {
   "cell_type": "code",
   "execution_count": 22,
   "id": "d56010fc",
   "metadata": {},
   "outputs": [
    {
     "data": {
      "text/plain": [
       "True"
      ]
     },
     "execution_count": 22,
     "metadata": {},
     "output_type": "execute_result"
    }
   ],
   "source": [
    "from scipy import stats\n",
    "\n",
    "\n",
    "def degree_assortativity(A):\n",
    "    \"\"\"Compute the degree assortativity\n",
    "\n",
    "    A: scipy.sparse adjacency matrix of a network\n",
    "\n",
    "    Return:\n",
    "    degree assortativity of the network.\n",
    "    \"\"\"\n",
    "    src, trg, _ = sparse.find(sparse.triu(A, 1))\n",
    "    deg = np.array(A.sum(axis=0)).ravel()\n",
    "    return stats.pearsonr(deg[src], deg[trg])[0]\n",
    "\n",
    "\n",
    "# Test\n",
    "np.isclose(degree_assortativity(A), g.assortativity_degree(), 1e-2)"
   ]
  },
  {
   "cell_type": "markdown",
   "id": "626c24dc",
   "metadata": {},
   "source": [
    "**Question 2: Implement the following function and compute the modularity for the \"sex\" node attribute.**"
   ]
  },
  {
   "cell_type": "code",
   "execution_count": null,
   "id": "47b68e08",
   "metadata": {},
   "outputs": [],
   "source": [
    "def calc_modularity(A, membership):\n",
    "    \"\"\"\n",
    "    Calculate the modularity of a graph given the membership of the nodes.\n",
    "    A: CSR representation of the adjacency matrix\n",
    "    membership: 1D array of integers\n",
    "\n",
    "    Return the modularity value of the given membership\n",
    "    \"\"\"\n",
    "    Q = ...\n",
    "    return Q\n",
    "\n",
    "\n",
    "# Test\n",
    "assert np.isclose(calc_modularity(A, membership), g.modularity(membership), 1e-2)"
   ]
  },
  {
   "cell_type": "markdown",
   "id": "8615de49",
   "metadata": {},
   "source": [
    "**Question 3: Implement the Girvan-Newman algorithm**\n",
    "\n",
    "Hint: In the previous assignment, we implemented a network attack based on betweenness centrality. You can recycle the most part of the code. Note that you need to remove an edge not a node.   "
   ]
  },
  {
   "cell_type": "code",
   "execution_count": null,
   "id": "4438df82",
   "metadata": {},
   "outputs": [],
   "source": [
    "def girvan_newman_algorithm(g):\n",
    "    \"\"\"\n",
    "    Perform the Girvan-Newman algorithm on a graph.\n",
    "    g: igraph Graph object\n",
    "\n",
    "    Return the 1D array of membership of the nodes\n",
    "    \"\"\"\n",
    "    membership = ...\n",
    "    return membership\n",
    "\n",
    "\n",
    "# Test\n",
    "assert (\n",
    "    g.community_edge_betweenness().as_clustering().membership\n",
    "    == girvan_newman_algorithm(g)\n",
    ")"
   ]
  },
  {
   "cell_type": "markdown",
   "id": "04a2937a",
   "metadata": {},
   "source": [
    "**Question 4: Implement the following function and generate a network with 120 nodes and 20 communities by using the stochastic block model**"
   ]
  },
  {
   "cell_type": "code",
   "execution_count": 35,
   "id": "2b32c9b5",
   "metadata": {},
   "outputs": [],
   "source": [
    "def generate_SBM_network(n_nodes, membership, P):\n",
    "    \"\"\"\n",
    "    Generate a stochastic block model network\n",
    "    n_nodes: number of nodes\n",
    "    membership: 1D array of integers\n",
    "    P: 2D array of connection probability between groups\n",
    "\n",
    "    Return:\n",
    "    net: CSR representation of the adjacency matrix generated by the SBM\n",
    "    \"\"\"\n",
    "    # Generate the adjacency matrix\n",
    "    Asbm = ...\n",
    "    return Asbm\n",
    "\n",
    "\n",
    "n_nodes = 120\n",
    "K = 20\n",
    "n_nodes_per_community = n_nodes // K\n",
    "membership = np.arange(n_nodes) // n_nodes_per_community\n",
    "P = np.ones(K) * (1.0 / n_nodes) + np.eye(K) * 0.9\n",
    "\n",
    "net = generate_SBM_network(n_nodes=n_nodes, membership=membership, P=P)"
   ]
  },
  {
   "cell_type": "code",
   "execution_count": 39,
   "id": "c28f9271",
   "metadata": {},
   "outputs": [],
   "source": [
    "# Test\n",
    "def test_sbm_network(net, membership, P):\n",
    "    rows, cols = np.arange(len(membership), dtype=int), membership\n",
    "    membership_list = np.unique(membership)\n",
    "\n",
    "    nrows, ncols = net.shape[0], len(membership_list)\n",
    "    U = sparse.csr_matrix(\n",
    "        (np.ones_like(rows), (rows, cols)),\n",
    "        shape=(nrows, ncols),\n",
    "    )\n",
    "    E = U.T @ net @ U\n",
    "    Nc = np.array(U.sum(axis=0)).reshape(-1)\n",
    "    E = E.toarray()\n",
    "    Pest = E / np.outer(Nc, Nc)\n",
    "    Pest[np.isnan(Pest)] = 0.0\n",
    "    assert np.sqrt(np.mean((Pest - P) ** 2)) <= 0.1\n",
    "\n",
    "\n",
    "test_sbm_network(net, membership, P)"
   ]
  },
  {
   "cell_type": "code",
   "execution_count": null,
   "id": "f54e8901",
   "metadata": {},
   "outputs": [],
   "source": []
  }
 ],
 "metadata": {
  "kernelspec": {
   "display_name": "advnetsci",
   "language": "python",
   "name": "python3"
  },
  "language_info": {
   "codemirror_mode": {
    "name": "ipython",
    "version": 3
   },
   "file_extension": ".py",
   "mimetype": "text/x-python",
   "name": "python",
   "nbconvert_exporter": "python",
   "pygments_lexer": "ipython3",
   "version": "3.9.16"
  }
 },
 "nbformat": 4,
 "nbformat_minor": 5
}
