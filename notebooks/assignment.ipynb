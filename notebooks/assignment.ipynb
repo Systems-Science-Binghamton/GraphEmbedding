{
 "cells": [
  {
   "cell_type": "markdown",
   "id": "a32bb9da",
   "metadata": {},
   "source": [
    "# Assignment\n",
    "\n",
    "In this assignment, we will use an airport network. While the airport network is directed, we ignore its directionality and use it its undirected citation networks."
   ]
  },
  {
   "cell_type": "code",
   "execution_count": null,
   "id": "e09356b3",
   "metadata": {},
   "outputs": [],
   "source": [
    "import pandas as pd\n",
    "import numpy as np\n",
    "from scipy import sparse\n",
    "\n",
    "node_table = pd.read_csv(\n",
    "    \"https://raw.githubusercontent.com/skojaku/adv-net-sci-course/main/data/airport_network_v2/node_table.csv\"\n",
    ")\n",
    "edge_table = pd.read_csv(\n",
    "    \"https://raw.githubusercontent.com/skojaku/adv-net-sci-course/main/data/airport_network_v2/edge_table.csv\",\n",
    "    dtype={\"src\": np.int32, \"trg\": np.int32},\n",
    ")\n",
    "src, trg = tuple(edge_table[[\"src\", \"trg\"]].values.T)\n",
    "\n",
    "rows, cols = src, trg\n",
    "nrows, ncols = node_table.shape[0], node_table.shape[0]\n",
    "A = sparse.csr_matrix(\n",
    "    (np.ones_like(rows), (rows, cols)),\n",
    "    shape=(nrows, ncols),\n",
    ").asfptype()\n",
    "\n",
    "# Symmterize and binarize\n",
    "A = A + A.T\n",
    "A.data = A.data * 0 + 1"
   ]
  },
  {
   "cell_type": "markdown",
   "id": "64588398",
   "metadata": {},
   "source": [
    "---\n",
    "\n",
    "**Question 1: Implement the following function to compute the eigenvector centrality. Then, find the top 10 journals with the highest centrality**\n",
    "Hint:\n",
    "- Use `scipy.sparse.linalg.eigs` to compute the eigenvector. The returned vector might be a complex number. In this case, take its real part by using `np.real`.\n",
    "- The sign of an eigenvector is not fixed; it is indefinite, meaning that if a matrix $X$ has an eigenvector $v$, then $-v$ is also an eigenvector of $X$ with the same eigenvalue. Since eigencentrality should always be non-negative, flip the sign of the eigenvector if necessary."
   ]
  },
  {
   "cell_type": "code",
   "execution_count": null,
   "id": "1fcf5c99",
   "metadata": {},
   "outputs": [],
   "source": [
    "def compute_eigencentrality(A):\n",
    "    \"\"\"\n",
    "    Compute the eigenvector centrality of a network.\n",
    "\n",
    "    Parameters\n",
    "    ----------\n",
    "    A : scipy.sparse.csr_matrix\n",
    "      Adjacency matrix of the network.\n",
    "\n",
    "    Returns\n",
    "    -------\n",
    "    ec : numpy.ndarray\n",
    "      Eigenvector centrality of the network.\n",
    "    \"\"\"\n",
    "    # Your code here\n",
    "    return ec"
   ]
  },
  {
   "cell_type": "code",
   "execution_count": null,
   "id": "770f26f5",
   "metadata": {},
   "outputs": [],
   "source": [
    "# Test\n",
    "def test_compute_eigencentrality():\n",
    "    ec = compute_eigencentrality(A)\n",
    "    assert len(ec) == A.shape[0]\n",
    "    assert np.all(ec >= 0)\n",
    "    assert ~np.any(np.iscomplex(ec))\n",
    "\n",
    "\n",
    "test_compute_eigencentrality()"
   ]
  },
  {
   "cell_type": "code",
   "execution_count": null,
   "id": "a4b92894",
   "metadata": {},
   "outputs": [],
   "source": [
    "ec = compute_eigencentrality(A)\n",
    "top_node_ids = np.argsort(ec)[::-1][:10]\n",
    "node_table.query(\"node_id in @top_node_ids\")"
   ]
  },
  {
   "cell_type": "markdown",
   "id": "c4f13421",
   "metadata": {},
   "source": [
    "---\n",
    "**Question 2: Implement the following function to embed a network by using the spectral embedding of the adjacency matrix. The embedding vectors should be associated with the largest eigenvalues in magnitude. Then, draw the embedding based on the second and third principal eigenvectors. Color the nodes by the `region` of the node.**"
   ]
  },
  {
   "cell_type": "code",
   "execution_count": null,
   "id": "f3e4db4e",
   "metadata": {},
   "outputs": [],
   "source": [
    "def spectral_embedding(A, dim):\n",
    "    \"\"\"Spectral embedding based on the adjacency matrix.\n",
    "\n",
    "    Parameters\n",
    "    ----------\n",
    "    A : scipy.sparse.csr_matrix\n",
    "      Adjacency matrix of the network.\n",
    "    dim : int\n",
    "      Dimension of the embedding.\n",
    "\n",
    "    Returns\n",
    "    -------\n",
    "    X : numpy.ndarray\n",
    "      Spectral embedding. The shape is (n_nodes, dim).\n",
    "    lams: numpy.ndarray\n",
    "      Eigenvalues associated with each column of X. The shape is (dim,).\n",
    "    \"\"\"\n",
    "    return ..."
   ]
  },
  {
   "cell_type": "code",
   "execution_count": null,
   "id": "cc5ef1b5",
   "metadata": {},
   "outputs": [],
   "source": [
    "# Draw the plot"
   ]
  },
  {
   "cell_type": "markdown",
   "id": "3d828603",
   "metadata": {},
   "source": [
    "---\n",
    "**Question 3: Implement the following function that computes the reconstruction errors for dimensions k = 1, 2, ..., 300. Draw a line plot for the reconstruction error as a function of the dimensions.**\n",
    "Hint\n",
    "- If $A$ is symmetric, $A$ can be approximately reconstructed by $A\\sim U \\Lambda U^\\top$, where $U$ is $N\\times K$ matrix for a network of $N$ nodes and $K$ dimensional embedding.\n",
    "- But, constructing $A$ for every $k$ is time-consuming. You might want to leverage the relationships between the eigenvalues and reconstruction errors."
   ]
  },
  {
   "cell_type": "code",
   "execution_count": null,
   "id": "901c0c80",
   "metadata": {},
   "outputs": [],
   "source": [
    "def compute_reconstruction_error(A, kmax=300):\n",
    "    \"\"\"Compute reconstruction error for dimensions k = 1, 2, ..., kmax\n",
    "\n",
    "    Parameter:\n",
    "    -----------\n",
    "    A: scipy.sparse.csr_matrix\n",
    "      Adjacency matrix\n",
    "    kmax: int\n",
    "      Maximum dimension\n",
    "\n",
    "    Returns:\n",
    "    --------\n",
    "    error: np.ndarray\n",
    "      Reconstruction error for k = 1, 2, ..., kmax\n",
    "    \"\"\"\n",
    "    return ...\n",
    "\n",
    "\n",
    "def test_compute_reconstruction_error():\n",
    "    error = compute_reconstruction_error(A, kmax=30)\n",
    "    assert error.shape[0] == 30, \"error should have the size of kmax\"\n",
    "    assert np.all(error >= 0), \"error should be positive\"\n",
    "    assert np.all(error[:-1] >= error[1:]), \"error should be decreasing\"\n",
    "    w, _ = sparse.linalg.eigs(A, k=30)\n",
    "    assert np.isclose(\n",
    "        np.sort(w * w)[::-1][1:] + np.diff(error), 0, atol=1e-2\n",
    "    ).all(), \"error difference should be the same as the squared eigenvalues.\"\n",
    "\n",
    "\n",
    "# Code test\n",
    "test_compute_reconstruction_error()"
   ]
  },
  {
   "cell_type": "code",
   "execution_count": null,
   "id": "a109813c",
   "metadata": {},
   "outputs": [],
   "source": [
    "# And draw the plot"
   ]
  },
  {
   "cell_type": "markdown",
   "id": "8c48ed0b",
   "metadata": {},
   "source": [
    "---\n",
    "**Question 4: Suppose a classification problem in which we want to classify airports into regions based on the network structure. Construct a classifier that takes a network embedding of airports and predicts its region.**\n",
    "\n",
    "First, we will use 10% of the data for training and 90% of the data for evaluating the performance.\n",
    "(notice that we only know a handful of regional 'labels' and want to predict the region of most airports!!!!)"
   ]
  },
  {
   "cell_type": "code",
   "execution_count": null,
   "id": "758797f5",
   "metadata": {},
   "outputs": [],
   "source": [
    "# Split the node table into the train and test set.\n",
    "df = node_table.sample(frac=1, random_state=0)\n",
    "train_node_table = df.iloc[: int(len(df) * 0.1)]\n",
    "test_node_table = df.iloc[int(len(df) * 0.1) :]"
   ]
  },
  {
   "cell_type": "markdown",
   "id": "f4fc4029",
   "metadata": {},
   "source": [
    "Then, generate the embedding."
   ]
  },
  {
   "cell_type": "code",
   "execution_count": null,
   "id": "33789c91",
   "metadata": {},
   "outputs": [],
   "source": [
    "emb, lams = spectral_embedding(A, dim=30)\n",
    "emb = np.real(emb)"
   ]
  },
  {
   "cell_type": "markdown",
   "id": "fffd2327",
   "metadata": {},
   "source": [
    "We will evaluate the classification performance by the accuracy:"
   ]
  },
  {
   "cell_type": "code",
   "execution_count": null,
   "id": "c8e22d3b",
   "metadata": {},
   "outputs": [],
   "source": [
    "def eval_prediction_accuracy(y, yred):\n",
    "    \"\"\"Calculate prediction accuracy.\n",
    "\n",
    "    Parameters\n",
    "    ----------\n",
    "    y : numpy.ndarray\n",
    "      True labels.\n",
    "    ypred : numpy.ndarray\n",
    "      Predicted labels.\n",
    "\n",
    "    Returns\n",
    "    -------\n",
    "    acc : float\n",
    "      Prediction accuracy.\n",
    "    \"\"\"\n",
    "    return np.sum(y == yred) / len(y)"
   ]
  },
  {
   "cell_type": "markdown",
   "id": "ed2311db",
   "metadata": {},
   "source": [
    "Implement the functions `fit` and `predict` in the following Python class."
   ]
  },
  {
   "cell_type": "code",
   "execution_count": null,
   "id": "65750579",
   "metadata": {},
   "outputs": [],
   "source": [
    "class MyClassifier:\n",
    "    \"\"\"A model for the node classification task.\n",
    "    You can use any classifier you want. For instance,\n",
    "    - sklearn.discriminant_analysis.LinearDiscriminantAnalysis,\n",
    "    - sklearn.svm.SVC,\n",
    "    - sklearn.linear_model.LogisticRegression,\n",
    "    - sklearn.ensemble.RandomForestClassifier, etc.\n",
    "    \"\"\"\n",
    "\n",
    "    def __init__(self):\n",
    "        pass\n",
    "\n",
    "    def fit(self, X, y):\n",
    "        \"\"\"Fit the classifier.\n",
    "\n",
    "        Parameters\n",
    "        ----------\n",
    "        X : numpy.ndarray\n",
    "          The shape is (n_train_nodes, dim).\n",
    "        y : numpy.ndarray\n",
    "          The shape is (n_train_nodes,).\n",
    "        \"\"\"\n",
    "        pass\n",
    "\n",
    "    def predict(self, X):\n",
    "        \"\"\"Predict the class of nodes.\n",
    "\n",
    "        Parameters\n",
    "        ----------\n",
    "        X : numpy.ndarray\n",
    "          The shape is (n_test_nodes, dim).\n",
    "\n",
    "        Returns\n",
    "        -------\n",
    "        y : numpy.ndarray\n",
    "          The shape is (n_test_nodes,).\n",
    "        \"\"\"\n",
    "        pass"
   ]
  },
  {
   "cell_type": "code",
   "execution_count": null,
   "id": "022515b2",
   "metadata": {},
   "outputs": [],
   "source": [
    "# Train\n",
    "clf = MyClassifier()\n",
    "clf.fit(emb[train_node_table[\"node_id\"].values], train_node_table[\"region\"].values)\n",
    "\n",
    "# Predict\n",
    "ypred = clf.predict(emb[test_node_table[\"node_id\"].values])\n",
    "\n",
    "# Evaluation\n",
    "accuracy = eval_prediction_accuracy(predicted_region, test_node_table[\"region\"].values)\n",
    "\n",
    "print(f\"Accuracy: {accuracy:.3f}\")"
   ]
  },
  {
   "cell_type": "markdown",
   "id": "bc14702a",
   "metadata": {},
   "source": [
    "---\n",
    "**Question 5: Draw a line plot for the accuracy as a function of the embedding dimension, with the maximum dimension being 100.**"
   ]
  },
  {
   "cell_type": "code",
   "execution_count": null,
   "id": "53f66199",
   "metadata": {},
   "outputs": [],
   "source": []
  },
  {
   "cell_type": "markdown",
   "id": "559a4d52",
   "metadata": {},
   "source": [
    "---\n",
    "**Question 6: Why did the accuracy not improve as the embedding dimension increases? Answer in less than 10 words.**"
   ]
  },
  {
   "cell_type": "markdown",
   "id": "9bff12ba",
   "metadata": {},
   "source": []
  },
  {
   "cell_type": "markdown",
   "id": "9306c86f",
   "metadata": {},
   "source": [
    "---\n",
    "**Question 7: Implement the spectral embedding based on the normalized Lacplain. Do not include the trivial eigenvector associated with the eigenvalue of zero.**"
   ]
  },
  {
   "cell_type": "code",
   "execution_count": null,
   "id": "1cc85679",
   "metadata": {},
   "outputs": [],
   "source": [
    "def spectral_embedding_normalized_laplacian(A, dim):\n",
    "    \"\"\"Perform the spectral embedding based on the normalized Laplacian matrix.\n",
    "\n",
    "    Parameters\n",
    "    ----------\n",
    "    A : scipy.sparse.csr_matrix\n",
    "      The adjacency matrix of the network.\n",
    "    dim : int\n",
    "      Embedding dimension.\n",
    "\n",
    "    Returns\n",
    "    -------\n",
    "    X : numpy.ndarray\n",
    "      Spectral embedding. The shape is (n_nodes, dim).\n",
    "    \"\"\"\n",
    "    # Your code here\n",
    "    pass"
   ]
  },
  {
   "cell_type": "code",
   "execution_count": null,
   "id": "b56b4547",
   "metadata": {},
   "outputs": [],
   "source": [
    "# Evaluate your classifier.\n",
    "emb, lams = spectral_embedding_normalized_laplacian(A, dim=100)\n",
    "\n",
    "clf = MyClassifier()\n",
    "clf.fit(emb[train_node_table[\"node_id\"].values], train_node_table[\"region\"].values)\n",
    "ypred = clf.predict(emb[test_node_table[\"node_id\"].values])\n",
    "\n",
    "ypred = clf.predict(emb[test_node_table[\"node_id\"].values])\n",
    "accuracy = eval_prediction_accuracy(ypred, test_node_table[\"region\"].values)\n",
    "print(f\"Accuracy: {accuracy:.3f}\")"
   ]
  }
 ],
 "metadata": {
  "kernelspec": {
   "display_name": "advnetsci",
   "language": "python",
   "name": "python3"
  }
 },
 "nbformat": 4,
 "nbformat_minor": 5
}
