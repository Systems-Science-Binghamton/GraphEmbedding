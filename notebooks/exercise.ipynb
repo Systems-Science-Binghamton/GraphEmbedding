{
 "cells": [
  {
   "cell_type": "markdown",
   "id": "49c7d211",
   "metadata": {},
   "source": [
    "# Assortativity\n",
    "\n",
    "## Assortative mixing\n",
    "\n",
    "Assortativity is a common characteristic observed in empirical networks, where nodes with similar attributes tend to be connected to each other. For instance, in social networks, individuals often interact with others of similar age, resulting in assortativity based on age.\n",
    "\n",
    "Let's consider how to measure the level of assortativity. In an assortative network, nodes with similar attributes are more likely to be connected by an edge. Therefore, if we randomly select an edge from the network, the edge will likely connect nodes with similar attributes.\n",
    "\n",
    "Now, let's make it more explicit about the node attributes. There are two types of attributes, namely an *enumerative attribute* and a *scalar attribute*.\n",
    "An enumerative attribute is a categorical value that does not have an inherent ordering (e.g., gender).\n",
    "A scalar attribute is a real numerical value that can be ordered (e.g., age).\n",
    "\n",
    "With this in mind, let's consider step by step using the karate club network."
   ]
  },
  {
   "cell_type": "code",
   "execution_count": 1,
   "id": "726f876e",
   "metadata": {},
   "outputs": [
    {
     "name": "stdout",
     "output_type": "stream",
     "text": [
      "Intel MKL WARNING: Support of Intel(R) Streaming SIMD Extensions 4.2 (Intel(R) SSE4.2) enabled only processors has been deprecated. Intel oneAPI Math Kernel Library 2025.0 will require Intel(R) Advanced Vector Extensions (Intel(R) AVX) instructions.\n",
      "Intel MKL WARNING: Support of Intel(R) Streaming SIMD Extensions 4.2 (Intel(R) SSE4.2) enabled only processors has been deprecated. Intel oneAPI Math Kernel Library 2025.0 will require Intel(R) Advanced Vector Extensions (Intel(R) AVX) instructions.\n"
     ]
    },
    {
     "data": {
      "image/svg+xml": [
       "<?xml version=\"1.0\" encoding=\"UTF-8\"?>\n",
       "<svg xmlns=\"http://www.w3.org/2000/svg\" xmlns:xlink=\"http://www.w3.org/1999/xlink\" width=\"300pt\" height=\"300pt\" viewBox=\"0 0 300 300\" version=\"1.1\">\n",
       "<g id=\"surface2\">\n",
       "<rect x=\"0\" y=\"0\" width=\"300\" height=\"300\" style=\"fill:rgb(100%,100%,100%);fill-opacity:1;stroke:none;\"/>\n",
       "<path style=\"fill:none;stroke-width:1;stroke-linecap:butt;stroke-linejoin:miter;stroke:rgb(26.666667%,26.666667%,26.666667%);stroke-opacity:1;stroke-miterlimit:10;\" d=\"M 135.25 187.199219 L 88.394531 172.304688 \"/>\n",
       "<path style=\"fill:none;stroke-width:1;stroke-linecap:butt;stroke-linejoin:miter;stroke:rgb(26.666667%,26.666667%,26.666667%);stroke-opacity:1;stroke-miterlimit:10;\" d=\"M 135.25 187.199219 L 152.933594 136.320312 \"/>\n",
       "<path style=\"fill:none;stroke-width:1;stroke-linecap:butt;stroke-linejoin:miter;stroke:rgb(26.666667%,26.666667%,26.666667%);stroke-opacity:1;stroke-miterlimit:10;\" d=\"M 88.394531 172.304688 L 152.933594 136.320312 \"/>\n",
       "<path style=\"fill:none;stroke-width:1;stroke-linecap:butt;stroke-linejoin:miter;stroke:rgb(26.666667%,26.666667%,26.666667%);stroke-opacity:1;stroke-miterlimit:10;\" d=\"M 135.25 187.199219 L 153.957031 175.265625 \"/>\n",
       "<path style=\"fill:none;stroke-width:1;stroke-linecap:butt;stroke-linejoin:miter;stroke:rgb(26.666667%,26.666667%,26.666667%);stroke-opacity:1;stroke-miterlimit:10;\" d=\"M 88.394531 172.304688 L 153.957031 175.265625 \"/>\n",
       "<path style=\"fill:none;stroke-width:1;stroke-linecap:butt;stroke-linejoin:miter;stroke:rgb(26.666667%,26.666667%,26.666667%);stroke-opacity:1;stroke-miterlimit:10;\" d=\"M 152.933594 136.320312 L 153.957031 175.265625 \"/>\n",
       "<path style=\"fill:none;stroke-width:1;stroke-linecap:butt;stroke-linejoin:miter;stroke:rgb(26.666667%,26.666667%,26.666667%);stroke-opacity:1;stroke-miterlimit:10;\" d=\"M 135.25 187.199219 L 239.691406 201.546875 \"/>\n",
       "<path style=\"fill:none;stroke-width:1;stroke-linecap:butt;stroke-linejoin:miter;stroke:rgb(26.666667%,26.666667%,26.666667%);stroke-opacity:1;stroke-miterlimit:10;\" d=\"M 135.25 187.199219 L 159.222656 241.8125 \"/>\n",
       "<path style=\"fill:none;stroke-width:1;stroke-linecap:butt;stroke-linejoin:miter;stroke:rgb(26.666667%,26.666667%,26.666667%);stroke-opacity:1;stroke-miterlimit:10;\" d=\"M 135.25 187.199219 L 204.128906 231.523438 \"/>\n",
       "<path style=\"fill:none;stroke-width:1;stroke-linecap:butt;stroke-linejoin:miter;stroke:rgb(26.666667%,26.666667%,26.666667%);stroke-opacity:1;stroke-miterlimit:10;\" d=\"M 239.691406 201.546875 L 204.128906 231.523438 \"/>\n",
       "<path style=\"fill:none;stroke-width:1;stroke-linecap:butt;stroke-linejoin:miter;stroke:rgb(26.666667%,26.666667%,26.666667%);stroke-opacity:1;stroke-miterlimit:10;\" d=\"M 159.222656 241.8125 L 204.128906 231.523438 \"/>\n",
       "<path style=\"fill:none;stroke-width:1;stroke-linecap:butt;stroke-linejoin:miter;stroke:rgb(26.666667%,26.666667%,26.666667%);stroke-opacity:1;stroke-miterlimit:10;\" d=\"M 135.25 187.199219 L 195.40625 171.046875 \"/>\n",
       "<path style=\"fill:none;stroke-width:1;stroke-linecap:butt;stroke-linejoin:miter;stroke:rgb(26.666667%,26.666667%,26.666667%);stroke-opacity:1;stroke-miterlimit:10;\" d=\"M 88.394531 172.304688 L 195.40625 171.046875 \"/>\n",
       "<path style=\"fill:none;stroke-width:1;stroke-linecap:butt;stroke-linejoin:miter;stroke:rgb(26.666667%,26.666667%,26.666667%);stroke-opacity:1;stroke-miterlimit:10;\" d=\"M 152.933594 136.320312 L 195.40625 171.046875 \"/>\n",
       "<path style=\"fill:none;stroke-width:1;stroke-linecap:butt;stroke-linejoin:miter;stroke:rgb(26.666667%,26.666667%,26.666667%);stroke-opacity:1;stroke-miterlimit:10;\" d=\"M 153.957031 175.265625 L 195.40625 171.046875 \"/>\n",
       "<path style=\"fill:none;stroke-width:1;stroke-linecap:butt;stroke-linejoin:miter;stroke:rgb(26.666667%,26.666667%,26.666667%);stroke-opacity:1;stroke-miterlimit:10;\" d=\"M 135.25 187.199219 L 93.839844 131.648438 \"/>\n",
       "<path style=\"fill:none;stroke-width:1;stroke-linecap:butt;stroke-linejoin:miter;stroke:rgb(26.666667%,26.666667%,26.666667%);stroke-opacity:1;stroke-miterlimit:10;\" d=\"M 152.933594 136.320312 L 93.839844 131.648438 \"/>\n",
       "<path style=\"fill:none;stroke-width:1;stroke-linecap:butt;stroke-linejoin:miter;stroke:rgb(26.666667%,26.666667%,26.666667%);stroke-opacity:1;stroke-miterlimit:10;\" d=\"M 152.933594 136.320312 L 158.285156 93.035156 \"/>\n",
       "<path style=\"fill:none;stroke-width:1;stroke-linecap:butt;stroke-linejoin:miter;stroke:rgb(26.666667%,26.666667%,26.666667%);stroke-opacity:1;stroke-miterlimit:10;\" d=\"M 135.25 187.199219 L 201.183594 216.214844 \"/>\n",
       "<path style=\"fill:none;stroke-width:1;stroke-linecap:butt;stroke-linejoin:miter;stroke:rgb(26.666667%,26.666667%,26.666667%);stroke-opacity:1;stroke-miterlimit:10;\" d=\"M 239.691406 201.546875 L 201.183594 216.214844 \"/>\n",
       "<path style=\"fill:none;stroke-width:1;stroke-linecap:butt;stroke-linejoin:miter;stroke:rgb(26.666667%,26.666667%,26.666667%);stroke-opacity:1;stroke-miterlimit:10;\" d=\"M 159.222656 241.8125 L 201.183594 216.214844 \"/>\n",
       "<path style=\"fill:none;stroke-width:1;stroke-linecap:butt;stroke-linejoin:miter;stroke:rgb(26.666667%,26.666667%,26.666667%);stroke-opacity:1;stroke-miterlimit:10;\" d=\"M 135.25 187.199219 L 81.503906 234.9375 \"/>\n",
       "<path style=\"fill:none;stroke-width:1;stroke-linecap:butt;stroke-linejoin:miter;stroke:rgb(26.666667%,26.666667%,26.666667%);stroke-opacity:1;stroke-miterlimit:10;\" d=\"M 135.25 187.199219 L 121.117188 227.421875 \"/>\n",
       "<path style=\"fill:none;stroke-width:1;stroke-linecap:butt;stroke-linejoin:miter;stroke:rgb(26.666667%,26.666667%,26.666667%);stroke-opacity:1;stroke-miterlimit:10;\" d=\"M 153.957031 175.265625 L 121.117188 227.421875 \"/>\n",
       "<path style=\"fill:none;stroke-width:1;stroke-linecap:butt;stroke-linejoin:miter;stroke:rgb(26.666667%,26.666667%,26.666667%);stroke-opacity:1;stroke-miterlimit:10;\" d=\"M 135.25 187.199219 L 112.117188 142.675781 \"/>\n",
       "<path style=\"fill:none;stroke-width:1;stroke-linecap:butt;stroke-linejoin:miter;stroke:rgb(26.666667%,26.666667%,26.666667%);stroke-opacity:1;stroke-miterlimit:10;\" d=\"M 88.394531 172.304688 L 112.117188 142.675781 \"/>\n",
       "<path style=\"fill:none;stroke-width:1;stroke-linecap:butt;stroke-linejoin:miter;stroke:rgb(26.666667%,26.666667%,26.666667%);stroke-opacity:1;stroke-miterlimit:10;\" d=\"M 152.933594 136.320312 L 112.117188 142.675781 \"/>\n",
       "<path style=\"fill:none;stroke-width:1;stroke-linecap:butt;stroke-linejoin:miter;stroke:rgb(26.666667%,26.666667%,26.666667%);stroke-opacity:1;stroke-miterlimit:10;\" d=\"M 153.957031 175.265625 L 112.117188 142.675781 \"/>\n",
       "<path style=\"fill:none;stroke-width:1;stroke-linecap:butt;stroke-linejoin:miter;stroke:rgb(26.666667%,26.666667%,26.666667%);stroke-opacity:1;stroke-miterlimit:10;\" d=\"M 159.222656 241.8125 L 218.210938 280 \"/>\n",
       "<path style=\"fill:none;stroke-width:1;stroke-linecap:butt;stroke-linejoin:miter;stroke:rgb(26.666667%,26.666667%,26.666667%);stroke-opacity:1;stroke-miterlimit:10;\" d=\"M 204.128906 231.523438 L 218.210938 280 \"/>\n",
       "<path style=\"fill:none;stroke-width:1;stroke-linecap:butt;stroke-linejoin:miter;stroke:rgb(26.666667%,26.666667%,26.666667%);stroke-opacity:1;stroke-miterlimit:10;\" d=\"M 135.25 187.199219 L 36.539062 199.703125 \"/>\n",
       "<path style=\"fill:none;stroke-width:1;stroke-linecap:butt;stroke-linejoin:miter;stroke:rgb(26.666667%,26.666667%,26.666667%);stroke-opacity:1;stroke-miterlimit:10;\" d=\"M 88.394531 172.304688 L 36.539062 199.703125 \"/>\n",
       "<path style=\"fill:none;stroke-width:1;stroke-linecap:butt;stroke-linejoin:miter;stroke:rgb(26.666667%,26.666667%,26.666667%);stroke-opacity:1;stroke-miterlimit:10;\" d=\"M 135.25 187.199219 L 67.367188 142.605469 \"/>\n",
       "<path style=\"fill:none;stroke-width:1;stroke-linecap:butt;stroke-linejoin:miter;stroke:rgb(26.666667%,26.666667%,26.666667%);stroke-opacity:1;stroke-miterlimit:10;\" d=\"M 88.394531 172.304688 L 67.367188 142.605469 \"/>\n",
       "<path style=\"fill:none;stroke-width:1;stroke-linecap:butt;stroke-linejoin:miter;stroke:rgb(26.666667%,26.666667%,26.666667%);stroke-opacity:1;stroke-miterlimit:10;\" d=\"M 135.25 187.199219 L 57.894531 213.238281 \"/>\n",
       "<path style=\"fill:none;stroke-width:1;stroke-linecap:butt;stroke-linejoin:miter;stroke:rgb(26.666667%,26.666667%,26.666667%);stroke-opacity:1;stroke-miterlimit:10;\" d=\"M 88.394531 172.304688 L 57.894531 213.238281 \"/>\n",
       "<path style=\"fill:none;stroke-width:1;stroke-linecap:butt;stroke-linejoin:miter;stroke:rgb(26.666667%,26.666667%,26.666667%);stroke-opacity:1;stroke-miterlimit:10;\" d=\"M 203.121094 60.371094 L 272.636719 116.835938 \"/>\n",
       "<path style=\"fill:none;stroke-width:1;stroke-linecap:butt;stroke-linejoin:miter;stroke:rgb(26.666667%,26.666667%,26.666667%);stroke-opacity:1;stroke-miterlimit:10;\" d=\"M 280 97.191406 L 272.636719 116.835938 \"/>\n",
       "<path style=\"fill:none;stroke-width:1;stroke-linecap:butt;stroke-linejoin:miter;stroke:rgb(26.666667%,26.666667%,26.666667%);stroke-opacity:1;stroke-miterlimit:10;\" d=\"M 152.933594 136.320312 L 210.191406 95.410156 \"/>\n",
       "<path style=\"fill:none;stroke-width:1;stroke-linecap:butt;stroke-linejoin:miter;stroke:rgb(26.666667%,26.666667%,26.666667%);stroke-opacity:1;stroke-miterlimit:10;\" d=\"M 203.121094 60.371094 L 210.191406 95.410156 \"/>\n",
       "<path style=\"fill:none;stroke-width:1;stroke-linecap:butt;stroke-linejoin:miter;stroke:rgb(26.666667%,26.666667%,26.666667%);stroke-opacity:1;stroke-miterlimit:10;\" d=\"M 280 97.191406 L 210.191406 95.410156 \"/>\n",
       "<path style=\"fill:none;stroke-width:1;stroke-linecap:butt;stroke-linejoin:miter;stroke:rgb(26.666667%,26.666667%,26.666667%);stroke-opacity:1;stroke-miterlimit:10;\" d=\"M 152.933594 136.320312 L 186.199219 93.90625 \"/>\n",
       "<path style=\"fill:none;stroke-width:1;stroke-linecap:butt;stroke-linejoin:miter;stroke:rgb(26.666667%,26.666667%,26.666667%);stroke-opacity:1;stroke-miterlimit:10;\" d=\"M 203.121094 60.371094 L 164.558594 42.386719 \"/>\n",
       "<path style=\"fill:none;stroke-width:1;stroke-linecap:butt;stroke-linejoin:miter;stroke:rgb(26.666667%,26.666667%,26.666667%);stroke-opacity:1;stroke-miterlimit:10;\" d=\"M 139.347656 20 L 164.558594 42.386719 \"/>\n",
       "<path style=\"fill:none;stroke-width:1;stroke-linecap:butt;stroke-linejoin:miter;stroke:rgb(26.666667%,26.666667%,26.666667%);stroke-opacity:1;stroke-miterlimit:10;\" d=\"M 88.394531 172.304688 L 43.53125 117.613281 \"/>\n",
       "<path style=\"fill:none;stroke-width:1;stroke-linecap:butt;stroke-linejoin:miter;stroke:rgb(26.666667%,26.666667%,26.666667%);stroke-opacity:1;stroke-miterlimit:10;\" d=\"M 93.839844 131.648438 L 43.53125 117.613281 \"/>\n",
       "<path style=\"fill:none;stroke-width:1;stroke-linecap:butt;stroke-linejoin:miter;stroke:rgb(26.666667%,26.666667%,26.666667%);stroke-opacity:1;stroke-miterlimit:10;\" d=\"M 135.25 187.199219 L 185.917969 127.445312 \"/>\n",
       "<path style=\"fill:none;stroke-width:1;stroke-linecap:butt;stroke-linejoin:miter;stroke:rgb(26.666667%,26.666667%,26.666667%);stroke-opacity:1;stroke-miterlimit:10;\" d=\"M 280 97.191406 L 185.917969 127.445312 \"/>\n",
       "<path style=\"fill:none;stroke-width:1;stroke-linecap:butt;stroke-linejoin:miter;stroke:rgb(26.666667%,26.666667%,26.666667%);stroke-opacity:1;stroke-miterlimit:10;\" d=\"M 272.636719 116.835938 L 185.917969 127.445312 \"/>\n",
       "<path style=\"fill:none;stroke-width:1;stroke-linecap:butt;stroke-linejoin:miter;stroke:rgb(26.666667%,26.666667%,26.666667%);stroke-opacity:1;stroke-miterlimit:10;\" d=\"M 186.199219 93.90625 L 185.917969 127.445312 \"/>\n",
       "<path style=\"fill:none;stroke-width:1;stroke-linecap:butt;stroke-linejoin:miter;stroke:rgb(26.666667%,26.666667%,26.666667%);stroke-opacity:1;stroke-miterlimit:10;\" d=\"M 152.933594 136.320312 L 99.78125 86.125 \"/>\n",
       "<path style=\"fill:none;stroke-width:1;stroke-linecap:butt;stroke-linejoin:miter;stroke:rgb(26.666667%,26.666667%,26.666667%);stroke-opacity:1;stroke-miterlimit:10;\" d=\"M 93.839844 131.648438 L 99.78125 86.125 \"/>\n",
       "<path style=\"fill:none;stroke-width:1;stroke-linecap:butt;stroke-linejoin:miter;stroke:rgb(26.666667%,26.666667%,26.666667%);stroke-opacity:1;stroke-miterlimit:10;\" d=\"M 76.507812 38.511719 L 99.78125 86.125 \"/>\n",
       "<path style=\"fill:none;stroke-width:1;stroke-linecap:butt;stroke-linejoin:miter;stroke:rgb(26.666667%,26.666667%,26.666667%);stroke-opacity:1;stroke-miterlimit:10;\" d=\"M 30.738281 64.691406 L 99.78125 86.125 \"/>\n",
       "<path style=\"fill:none;stroke-width:1;stroke-linecap:butt;stroke-linejoin:miter;stroke:rgb(26.666667%,26.666667%,26.666667%);stroke-opacity:1;stroke-miterlimit:10;\" d=\"M 20 81.96875 L 99.78125 86.125 \"/>\n",
       "<path style=\"fill:none;stroke-width:1;stroke-linecap:butt;stroke-linejoin:miter;stroke:rgb(26.666667%,26.666667%,26.666667%);stroke-opacity:1;stroke-miterlimit:10;\" d=\"M 49.894531 49.550781 L 99.78125 86.125 \"/>\n",
       "<path style=\"fill:none;stroke-width:1;stroke-linecap:butt;stroke-linejoin:miter;stroke:rgb(26.666667%,26.666667%,26.666667%);stroke-opacity:1;stroke-miterlimit:10;\" d=\"M 109.835938 36.0625 L 99.78125 86.125 \"/>\n",
       "<path style=\"fill:none;stroke-width:1;stroke-linecap:butt;stroke-linejoin:miter;stroke:rgb(26.666667%,26.666667%,26.666667%);stroke-opacity:1;stroke-miterlimit:10;\" d=\"M 203.121094 60.371094 L 99.78125 86.125 \"/>\n",
       "<path style=\"fill:none;stroke-width:1;stroke-linecap:butt;stroke-linejoin:miter;stroke:rgb(26.666667%,26.666667%,26.666667%);stroke-opacity:1;stroke-miterlimit:10;\" d=\"M 164.558594 42.386719 L 99.78125 86.125 \"/>\n",
       "<path style=\"fill:none;stroke-width:1;stroke-linecap:butt;stroke-linejoin:miter;stroke:rgb(26.666667%,26.666667%,26.666667%);stroke-opacity:1;stroke-miterlimit:10;\" d=\"M 43.53125 117.613281 L 99.78125 86.125 \"/>\n",
       "<path style=\"fill:none;stroke-width:1;stroke-linecap:butt;stroke-linejoin:miter;stroke:rgb(26.666667%,26.666667%,26.666667%);stroke-opacity:1;stroke-miterlimit:10;\" d=\"M 185.917969 127.445312 L 99.78125 86.125 \"/>\n",
       "<path style=\"fill:none;stroke-width:1;stroke-linecap:butt;stroke-linejoin:miter;stroke:rgb(26.666667%,26.666667%,26.666667%);stroke-opacity:1;stroke-miterlimit:10;\" d=\"M 93.839844 131.648438 L 117.730469 82.863281 \"/>\n",
       "<path style=\"fill:none;stroke-width:1;stroke-linecap:butt;stroke-linejoin:miter;stroke:rgb(26.666667%,26.666667%,26.666667%);stroke-opacity:1;stroke-miterlimit:10;\" d=\"M 158.285156 93.035156 L 117.730469 82.863281 \"/>\n",
       "<path style=\"fill:none;stroke-width:1;stroke-linecap:butt;stroke-linejoin:miter;stroke:rgb(26.666667%,26.666667%,26.666667%);stroke-opacity:1;stroke-miterlimit:10;\" d=\"M 112.117188 142.675781 L 117.730469 82.863281 \"/>\n",
       "<path style=\"fill:none;stroke-width:1;stroke-linecap:butt;stroke-linejoin:miter;stroke:rgb(26.666667%,26.666667%,26.666667%);stroke-opacity:1;stroke-miterlimit:10;\" d=\"M 76.507812 38.511719 L 117.730469 82.863281 \"/>\n",
       "<path style=\"fill:none;stroke-width:1;stroke-linecap:butt;stroke-linejoin:miter;stroke:rgb(26.666667%,26.666667%,26.666667%);stroke-opacity:1;stroke-miterlimit:10;\" d=\"M 30.738281 64.691406 L 117.730469 82.863281 \"/>\n",
       "<path style=\"fill:none;stroke-width:1;stroke-linecap:butt;stroke-linejoin:miter;stroke:rgb(26.666667%,26.666667%,26.666667%);stroke-opacity:1;stroke-miterlimit:10;\" d=\"M 20 81.96875 L 117.730469 82.863281 \"/>\n",
       "<path style=\"fill:none;stroke-width:1;stroke-linecap:butt;stroke-linejoin:miter;stroke:rgb(26.666667%,26.666667%,26.666667%);stroke-opacity:1;stroke-miterlimit:10;\" d=\"M 67.367188 142.605469 L 117.730469 82.863281 \"/>\n",
       "<path style=\"fill:none;stroke-width:1;stroke-linecap:butt;stroke-linejoin:miter;stroke:rgb(26.666667%,26.666667%,26.666667%);stroke-opacity:1;stroke-miterlimit:10;\" d=\"M 49.894531 49.550781 L 117.730469 82.863281 \"/>\n",
       "<path style=\"fill:none;stroke-width:1;stroke-linecap:butt;stroke-linejoin:miter;stroke:rgb(26.666667%,26.666667%,26.666667%);stroke-opacity:1;stroke-miterlimit:10;\" d=\"M 109.835938 36.0625 L 117.730469 82.863281 \"/>\n",
       "<path style=\"fill:none;stroke-width:1;stroke-linecap:butt;stroke-linejoin:miter;stroke:rgb(26.666667%,26.666667%,26.666667%);stroke-opacity:1;stroke-miterlimit:10;\" d=\"M 203.121094 60.371094 L 117.730469 82.863281 \"/>\n",
       "<path style=\"fill:none;stroke-width:1;stroke-linecap:butt;stroke-linejoin:miter;stroke:rgb(26.666667%,26.666667%,26.666667%);stroke-opacity:1;stroke-miterlimit:10;\" d=\"M 139.347656 20 L 117.730469 82.863281 \"/>\n",
       "<path style=\"fill:none;stroke-width:1;stroke-linecap:butt;stroke-linejoin:miter;stroke:rgb(26.666667%,26.666667%,26.666667%);stroke-opacity:1;stroke-miterlimit:10;\" d=\"M 210.191406 95.410156 L 117.730469 82.863281 \"/>\n",
       "<path style=\"fill:none;stroke-width:1;stroke-linecap:butt;stroke-linejoin:miter;stroke:rgb(26.666667%,26.666667%,26.666667%);stroke-opacity:1;stroke-miterlimit:10;\" d=\"M 186.199219 93.90625 L 117.730469 82.863281 \"/>\n",
       "<path style=\"fill:none;stroke-width:1;stroke-linecap:butt;stroke-linejoin:miter;stroke:rgb(26.666667%,26.666667%,26.666667%);stroke-opacity:1;stroke-miterlimit:10;\" d=\"M 164.558594 42.386719 L 117.730469 82.863281 \"/>\n",
       "<path style=\"fill:none;stroke-width:1;stroke-linecap:butt;stroke-linejoin:miter;stroke:rgb(26.666667%,26.666667%,26.666667%);stroke-opacity:1;stroke-miterlimit:10;\" d=\"M 43.53125 117.613281 L 117.730469 82.863281 \"/>\n",
       "<path style=\"fill:none;stroke-width:1;stroke-linecap:butt;stroke-linejoin:miter;stroke:rgb(26.666667%,26.666667%,26.666667%);stroke-opacity:1;stroke-miterlimit:10;\" d=\"M 185.917969 127.445312 L 117.730469 82.863281 \"/>\n",
       "<path style=\"fill:none;stroke-width:1;stroke-linecap:butt;stroke-linejoin:miter;stroke:rgb(26.666667%,26.666667%,26.666667%);stroke-opacity:1;stroke-miterlimit:10;\" d=\"M 99.78125 86.125 L 117.730469 82.863281 \"/>\n",
       "<path style=\"fill-rule:nonzero;fill:rgb(100%,0%,0%);fill-opacity:1;stroke-width:1;stroke-linecap:butt;stroke-linejoin:miter;stroke:rgb(0%,0%,0%);stroke-opacity:1;stroke-miterlimit:10;\" d=\"M 145.25 187.199219 C 145.25 192.722656 140.773438 197.199219 135.25 197.199219 C 129.730469 197.199219 125.25 192.722656 125.25 187.199219 C 125.25 181.675781 129.730469 177.199219 135.25 177.199219 C 140.773438 177.199219 145.25 181.675781 145.25 187.199219 \"/>\n",
       "<path style=\"fill-rule:nonzero;fill:rgb(100%,0%,0%);fill-opacity:1;stroke-width:1;stroke-linecap:butt;stroke-linejoin:miter;stroke:rgb(0%,0%,0%);stroke-opacity:1;stroke-miterlimit:10;\" d=\"M 98.394531 172.304688 C 98.394531 177.828125 93.917969 182.304688 88.394531 182.304688 C 82.871094 182.304688 78.394531 177.828125 78.394531 172.304688 C 78.394531 166.78125 82.871094 162.304688 88.394531 162.304688 C 93.917969 162.304688 98.394531 166.78125 98.394531 172.304688 \"/>\n",
       "<path style=\"fill-rule:nonzero;fill:rgb(100%,0%,0%);fill-opacity:1;stroke-width:1;stroke-linecap:butt;stroke-linejoin:miter;stroke:rgb(0%,0%,0%);stroke-opacity:1;stroke-miterlimit:10;\" d=\"M 162.933594 136.320312 C 162.933594 141.84375 158.457031 146.320312 152.933594 146.320312 C 147.410156 146.320312 142.933594 141.84375 142.933594 136.320312 C 142.933594 130.796875 147.410156 126.320312 152.933594 126.320312 C 158.457031 126.320312 162.933594 130.796875 162.933594 136.320312 \"/>\n",
       "<path style=\"fill-rule:nonzero;fill:rgb(100%,0%,0%);fill-opacity:1;stroke-width:1;stroke-linecap:butt;stroke-linejoin:miter;stroke:rgb(0%,0%,0%);stroke-opacity:1;stroke-miterlimit:10;\" d=\"M 163.957031 175.265625 C 163.957031 180.789062 159.480469 185.265625 153.957031 185.265625 C 148.433594 185.265625 143.957031 180.789062 143.957031 175.265625 C 143.957031 169.742188 148.433594 165.265625 153.957031 165.265625 C 159.480469 165.265625 163.957031 169.742188 163.957031 175.265625 \"/>\n",
       "<path style=\"fill-rule:nonzero;fill:rgb(100%,0%,0%);fill-opacity:1;stroke-width:1;stroke-linecap:butt;stroke-linejoin:miter;stroke:rgb(0%,0%,0%);stroke-opacity:1;stroke-miterlimit:10;\" d=\"M 249.691406 201.546875 C 249.691406 207.070312 245.214844 211.546875 239.691406 211.546875 C 234.171875 211.546875 229.691406 207.070312 229.691406 201.546875 C 229.691406 196.023438 234.171875 191.546875 239.691406 191.546875 C 245.214844 191.546875 249.691406 196.023438 249.691406 201.546875 \"/>\n",
       "<path style=\"fill-rule:nonzero;fill:rgb(100%,0%,0%);fill-opacity:1;stroke-width:1;stroke-linecap:butt;stroke-linejoin:miter;stroke:rgb(0%,0%,0%);stroke-opacity:1;stroke-miterlimit:10;\" d=\"M 169.222656 241.8125 C 169.222656 247.335938 164.746094 251.8125 159.222656 251.8125 C 153.703125 251.8125 149.222656 247.335938 149.222656 241.8125 C 149.222656 236.289062 153.703125 231.8125 159.222656 231.8125 C 164.746094 231.8125 169.222656 236.289062 169.222656 241.8125 \"/>\n",
       "<path style=\"fill-rule:nonzero;fill:rgb(100%,0%,0%);fill-opacity:1;stroke-width:1;stroke-linecap:butt;stroke-linejoin:miter;stroke:rgb(0%,0%,0%);stroke-opacity:1;stroke-miterlimit:10;\" d=\"M 214.128906 231.523438 C 214.128906 237.042969 209.652344 241.523438 204.128906 241.523438 C 198.609375 241.523438 194.128906 237.042969 194.128906 231.523438 C 194.128906 226 198.609375 221.523438 204.128906 221.523438 C 209.652344 221.523438 214.128906 226 214.128906 231.523438 \"/>\n",
       "<path style=\"fill-rule:nonzero;fill:rgb(100%,0%,0%);fill-opacity:1;stroke-width:1;stroke-linecap:butt;stroke-linejoin:miter;stroke:rgb(0%,0%,0%);stroke-opacity:1;stroke-miterlimit:10;\" d=\"M 205.40625 171.046875 C 205.40625 176.570312 200.929688 181.046875 195.40625 181.046875 C 189.882812 181.046875 185.40625 176.570312 185.40625 171.046875 C 185.40625 165.523438 189.882812 161.046875 195.40625 161.046875 C 200.929688 161.046875 205.40625 165.523438 205.40625 171.046875 \"/>\n",
       "<path style=\"fill-rule:nonzero;fill:rgb(100%,0%,0%);fill-opacity:1;stroke-width:1;stroke-linecap:butt;stroke-linejoin:miter;stroke:rgb(0%,0%,0%);stroke-opacity:1;stroke-miterlimit:10;\" d=\"M 103.839844 131.648438 C 103.839844 137.171875 99.359375 141.648438 93.839844 141.648438 C 88.316406 141.648438 83.839844 137.171875 83.839844 131.648438 C 83.839844 126.125 88.316406 121.648438 93.839844 121.648438 C 99.359375 121.648438 103.839844 126.125 103.839844 131.648438 \"/>\n",
       "<path style=\"fill-rule:nonzero;fill:rgb(100%,0%,0%);fill-opacity:1;stroke-width:1;stroke-linecap:butt;stroke-linejoin:miter;stroke:rgb(0%,0%,0%);stroke-opacity:1;stroke-miterlimit:10;\" d=\"M 168.285156 93.035156 C 168.285156 98.558594 163.808594 103.035156 158.285156 103.035156 C 152.765625 103.035156 148.285156 98.558594 148.285156 93.035156 C 148.285156 87.511719 152.765625 83.035156 158.285156 83.035156 C 163.808594 83.035156 168.285156 87.511719 168.285156 93.035156 \"/>\n",
       "<path style=\"fill-rule:nonzero;fill:rgb(100%,0%,0%);fill-opacity:1;stroke-width:1;stroke-linecap:butt;stroke-linejoin:miter;stroke:rgb(0%,0%,0%);stroke-opacity:1;stroke-miterlimit:10;\" d=\"M 211.183594 216.214844 C 211.183594 221.738281 206.707031 226.214844 201.183594 226.214844 C 195.664062 226.214844 191.183594 221.738281 191.183594 216.214844 C 191.183594 210.691406 195.664062 206.214844 201.183594 206.214844 C 206.707031 206.214844 211.183594 210.691406 211.183594 216.214844 \"/>\n",
       "<path style=\"fill-rule:nonzero;fill:rgb(100%,0%,0%);fill-opacity:1;stroke-width:1;stroke-linecap:butt;stroke-linejoin:miter;stroke:rgb(0%,0%,0%);stroke-opacity:1;stroke-miterlimit:10;\" d=\"M 91.503906 234.9375 C 91.503906 240.460938 87.027344 244.9375 81.503906 244.9375 C 75.984375 244.9375 71.503906 240.460938 71.503906 234.9375 C 71.503906 229.414062 75.984375 224.9375 81.503906 224.9375 C 87.027344 224.9375 91.503906 229.414062 91.503906 234.9375 \"/>\n",
       "<path style=\"fill-rule:nonzero;fill:rgb(100%,0%,0%);fill-opacity:1;stroke-width:1;stroke-linecap:butt;stroke-linejoin:miter;stroke:rgb(0%,0%,0%);stroke-opacity:1;stroke-miterlimit:10;\" d=\"M 131.117188 227.421875 C 131.117188 232.941406 126.640625 237.421875 121.117188 237.421875 C 115.59375 237.421875 111.117188 232.941406 111.117188 227.421875 C 111.117188 221.898438 115.59375 217.421875 121.117188 217.421875 C 126.640625 217.421875 131.117188 221.898438 131.117188 227.421875 \"/>\n",
       "<path style=\"fill-rule:nonzero;fill:rgb(100%,0%,0%);fill-opacity:1;stroke-width:1;stroke-linecap:butt;stroke-linejoin:miter;stroke:rgb(0%,0%,0%);stroke-opacity:1;stroke-miterlimit:10;\" d=\"M 122.117188 142.675781 C 122.117188 148.199219 117.640625 152.675781 112.117188 152.675781 C 106.59375 152.675781 102.117188 148.199219 102.117188 142.675781 C 102.117188 137.152344 106.59375 132.675781 112.117188 132.675781 C 117.640625 132.675781 122.117188 137.152344 122.117188 142.675781 \"/>\n",
       "<path style=\"fill-rule:nonzero;fill:rgb(100%,0%,0%);fill-opacity:1;stroke-width:1;stroke-linecap:butt;stroke-linejoin:miter;stroke:rgb(0%,0%,0%);stroke-opacity:1;stroke-miterlimit:10;\" d=\"M 86.507812 38.511719 C 86.507812 44.03125 82.03125 48.511719 76.507812 48.511719 C 70.984375 48.511719 66.507812 44.03125 66.507812 38.511719 C 66.507812 32.988281 70.984375 28.511719 76.507812 28.511719 C 82.03125 28.511719 86.507812 32.988281 86.507812 38.511719 \"/>\n",
       "<path style=\"fill-rule:nonzero;fill:rgb(100%,0%,0%);fill-opacity:1;stroke-width:1;stroke-linecap:butt;stroke-linejoin:miter;stroke:rgb(0%,0%,0%);stroke-opacity:1;stroke-miterlimit:10;\" d=\"M 40.738281 64.691406 C 40.738281 70.214844 36.261719 74.691406 30.738281 74.691406 C 25.214844 74.691406 20.738281 70.214844 20.738281 64.691406 C 20.738281 59.167969 25.214844 54.691406 30.738281 54.691406 C 36.261719 54.691406 40.738281 59.167969 40.738281 64.691406 \"/>\n",
       "<path style=\"fill-rule:nonzero;fill:rgb(100%,0%,0%);fill-opacity:1;stroke-width:1;stroke-linecap:butt;stroke-linejoin:miter;stroke:rgb(0%,0%,0%);stroke-opacity:1;stroke-miterlimit:10;\" d=\"M 228.210938 280 C 228.210938 285.523438 223.734375 290 218.210938 290 C 212.6875 290 208.210938 285.523438 208.210938 280 C 208.210938 274.476562 212.6875 270 218.210938 270 C 223.734375 270 228.210938 274.476562 228.210938 280 \"/>\n",
       "<path style=\"fill-rule:nonzero;fill:rgb(100%,0%,0%);fill-opacity:1;stroke-width:1;stroke-linecap:butt;stroke-linejoin:miter;stroke:rgb(0%,0%,0%);stroke-opacity:1;stroke-miterlimit:10;\" d=\"M 46.539062 199.703125 C 46.539062 205.226562 42.0625 209.703125 36.539062 209.703125 C 31.015625 209.703125 26.539062 205.226562 26.539062 199.703125 C 26.539062 194.183594 31.015625 189.703125 36.539062 189.703125 C 42.0625 189.703125 46.539062 194.183594 46.539062 199.703125 \"/>\n",
       "<path style=\"fill-rule:nonzero;fill:rgb(100%,0%,0%);fill-opacity:1;stroke-width:1;stroke-linecap:butt;stroke-linejoin:miter;stroke:rgb(0%,0%,0%);stroke-opacity:1;stroke-miterlimit:10;\" d=\"M 30 81.96875 C 30 87.492188 25.523438 91.96875 20 91.96875 C 14.476562 91.96875 10 87.492188 10 81.96875 C 10 76.445312 14.476562 71.96875 20 71.96875 C 25.523438 71.96875 30 76.445312 30 81.96875 \"/>\n",
       "<path style=\"fill-rule:nonzero;fill:rgb(100%,0%,0%);fill-opacity:1;stroke-width:1;stroke-linecap:butt;stroke-linejoin:miter;stroke:rgb(0%,0%,0%);stroke-opacity:1;stroke-miterlimit:10;\" d=\"M 77.367188 142.605469 C 77.367188 148.128906 72.890625 152.605469 67.367188 152.605469 C 61.847656 152.605469 57.367188 148.128906 57.367188 142.605469 C 57.367188 137.082031 61.847656 132.605469 67.367188 132.605469 C 72.890625 132.605469 77.367188 137.082031 77.367188 142.605469 \"/>\n",
       "<path style=\"fill-rule:nonzero;fill:rgb(100%,0%,0%);fill-opacity:1;stroke-width:1;stroke-linecap:butt;stroke-linejoin:miter;stroke:rgb(0%,0%,0%);stroke-opacity:1;stroke-miterlimit:10;\" d=\"M 59.894531 49.550781 C 59.894531 55.074219 55.417969 59.550781 49.894531 59.550781 C 44.371094 59.550781 39.894531 55.074219 39.894531 49.550781 C 39.894531 44.027344 44.371094 39.550781 49.894531 39.550781 C 55.417969 39.550781 59.894531 44.027344 59.894531 49.550781 \"/>\n",
       "<path style=\"fill-rule:nonzero;fill:rgb(100%,0%,0%);fill-opacity:1;stroke-width:1;stroke-linecap:butt;stroke-linejoin:miter;stroke:rgb(0%,0%,0%);stroke-opacity:1;stroke-miterlimit:10;\" d=\"M 67.894531 213.238281 C 67.894531 218.761719 63.417969 223.238281 57.894531 223.238281 C 52.375 223.238281 47.894531 218.761719 47.894531 213.238281 C 47.894531 207.714844 52.375 203.238281 57.894531 203.238281 C 63.417969 203.238281 67.894531 207.714844 67.894531 213.238281 \"/>\n",
       "<path style=\"fill-rule:nonzero;fill:rgb(100%,0%,0%);fill-opacity:1;stroke-width:1;stroke-linecap:butt;stroke-linejoin:miter;stroke:rgb(0%,0%,0%);stroke-opacity:1;stroke-miterlimit:10;\" d=\"M 119.835938 36.0625 C 119.835938 41.585938 115.359375 46.0625 109.835938 46.0625 C 104.3125 46.0625 99.835938 41.585938 99.835938 36.0625 C 99.835938 30.539062 104.3125 26.0625 109.835938 26.0625 C 115.359375 26.0625 119.835938 30.539062 119.835938 36.0625 \"/>\n",
       "<path style=\"fill-rule:nonzero;fill:rgb(100%,0%,0%);fill-opacity:1;stroke-width:1;stroke-linecap:butt;stroke-linejoin:miter;stroke:rgb(0%,0%,0%);stroke-opacity:1;stroke-miterlimit:10;\" d=\"M 213.121094 60.371094 C 213.121094 65.894531 208.644531 70.371094 203.121094 70.371094 C 197.597656 70.371094 193.121094 65.894531 193.121094 60.371094 C 193.121094 54.847656 197.597656 50.371094 203.121094 50.371094 C 208.644531 50.371094 213.121094 54.847656 213.121094 60.371094 \"/>\n",
       "<path style=\"fill-rule:nonzero;fill:rgb(100%,0%,0%);fill-opacity:1;stroke-width:1;stroke-linecap:butt;stroke-linejoin:miter;stroke:rgb(0%,0%,0%);stroke-opacity:1;stroke-miterlimit:10;\" d=\"M 290 97.191406 C 290 102.714844 285.523438 107.191406 280 107.191406 C 274.476562 107.191406 270 102.714844 270 97.191406 C 270 91.671875 274.476562 87.191406 280 87.191406 C 285.523438 87.191406 290 91.671875 290 97.191406 \"/>\n",
       "<path style=\"fill-rule:nonzero;fill:rgb(100%,0%,0%);fill-opacity:1;stroke-width:1;stroke-linecap:butt;stroke-linejoin:miter;stroke:rgb(0%,0%,0%);stroke-opacity:1;stroke-miterlimit:10;\" d=\"M 282.636719 116.835938 C 282.636719 122.359375 278.160156 126.835938 272.636719 126.835938 C 267.113281 126.835938 262.636719 122.359375 262.636719 116.835938 C 262.636719 111.3125 267.113281 106.835938 272.636719 106.835938 C 278.160156 106.835938 282.636719 111.3125 282.636719 116.835938 \"/>\n",
       "<path style=\"fill-rule:nonzero;fill:rgb(100%,0%,0%);fill-opacity:1;stroke-width:1;stroke-linecap:butt;stroke-linejoin:miter;stroke:rgb(0%,0%,0%);stroke-opacity:1;stroke-miterlimit:10;\" d=\"M 149.347656 20 C 149.347656 25.523438 144.871094 30 139.347656 30 C 133.824219 30 129.347656 25.523438 129.347656 20 C 129.347656 14.476562 133.824219 10 139.347656 10 C 144.871094 10 149.347656 14.476562 149.347656 20 \"/>\n",
       "<path style=\"fill-rule:nonzero;fill:rgb(100%,0%,0%);fill-opacity:1;stroke-width:1;stroke-linecap:butt;stroke-linejoin:miter;stroke:rgb(0%,0%,0%);stroke-opacity:1;stroke-miterlimit:10;\" d=\"M 220.191406 95.410156 C 220.191406 100.933594 215.714844 105.410156 210.191406 105.410156 C 204.671875 105.410156 200.191406 100.933594 200.191406 95.410156 C 200.191406 89.886719 204.671875 85.410156 210.191406 85.410156 C 215.714844 85.410156 220.191406 89.886719 220.191406 95.410156 \"/>\n",
       "<path style=\"fill-rule:nonzero;fill:rgb(100%,0%,0%);fill-opacity:1;stroke-width:1;stroke-linecap:butt;stroke-linejoin:miter;stroke:rgb(0%,0%,0%);stroke-opacity:1;stroke-miterlimit:10;\" d=\"M 196.199219 93.90625 C 196.199219 99.429688 191.71875 103.90625 186.199219 103.90625 C 180.675781 103.90625 176.199219 99.429688 176.199219 93.90625 C 176.199219 88.382812 180.675781 83.90625 186.199219 83.90625 C 191.71875 83.90625 196.199219 88.382812 196.199219 93.90625 \"/>\n",
       "<path style=\"fill-rule:nonzero;fill:rgb(100%,0%,0%);fill-opacity:1;stroke-width:1;stroke-linecap:butt;stroke-linejoin:miter;stroke:rgb(0%,0%,0%);stroke-opacity:1;stroke-miterlimit:10;\" d=\"M 174.558594 42.386719 C 174.558594 47.90625 170.082031 52.386719 164.558594 52.386719 C 159.035156 52.386719 154.558594 47.90625 154.558594 42.386719 C 154.558594 36.863281 159.035156 32.386719 164.558594 32.386719 C 170.082031 32.386719 174.558594 36.863281 174.558594 42.386719 \"/>\n",
       "<path style=\"fill-rule:nonzero;fill:rgb(100%,0%,0%);fill-opacity:1;stroke-width:1;stroke-linecap:butt;stroke-linejoin:miter;stroke:rgb(0%,0%,0%);stroke-opacity:1;stroke-miterlimit:10;\" d=\"M 53.53125 117.613281 C 53.53125 123.136719 49.050781 127.613281 43.53125 127.613281 C 38.007812 127.613281 33.53125 123.136719 33.53125 117.613281 C 33.53125 112.09375 38.007812 107.613281 43.53125 107.613281 C 49.050781 107.613281 53.53125 112.09375 53.53125 117.613281 \"/>\n",
       "<path style=\"fill-rule:nonzero;fill:rgb(100%,0%,0%);fill-opacity:1;stroke-width:1;stroke-linecap:butt;stroke-linejoin:miter;stroke:rgb(0%,0%,0%);stroke-opacity:1;stroke-miterlimit:10;\" d=\"M 195.917969 127.445312 C 195.917969 132.96875 191.441406 137.445312 185.917969 137.445312 C 180.394531 137.445312 175.917969 132.96875 175.917969 127.445312 C 175.917969 121.921875 180.394531 117.445312 185.917969 117.445312 C 191.441406 117.445312 195.917969 121.921875 195.917969 127.445312 \"/>\n",
       "<path style=\"fill-rule:nonzero;fill:rgb(100%,0%,0%);fill-opacity:1;stroke-width:1;stroke-linecap:butt;stroke-linejoin:miter;stroke:rgb(0%,0%,0%);stroke-opacity:1;stroke-miterlimit:10;\" d=\"M 109.78125 86.125 C 109.78125 91.644531 105.304688 96.125 99.78125 96.125 C 94.257812 96.125 89.78125 91.644531 89.78125 86.125 C 89.78125 80.601562 94.257812 76.125 99.78125 76.125 C 105.304688 76.125 109.78125 80.601562 109.78125 86.125 \"/>\n",
       "<path style=\"fill-rule:nonzero;fill:rgb(100%,0%,0%);fill-opacity:1;stroke-width:1;stroke-linecap:butt;stroke-linejoin:miter;stroke:rgb(0%,0%,0%);stroke-opacity:1;stroke-miterlimit:10;\" d=\"M 127.730469 82.863281 C 127.730469 88.386719 123.253906 92.863281 117.730469 92.863281 C 112.207031 92.863281 107.730469 88.386719 107.730469 82.863281 C 107.730469 77.339844 112.207031 72.863281 117.730469 72.863281 C 123.253906 72.863281 127.730469 77.339844 127.730469 82.863281 \"/>\n",
       "</g>\n",
       "</svg>\n"
      ],
      "text/plain": [
       "<igraph.drawing.cairo.plot.CairoPlot at 0x7f9d003c5e20>"
      ]
     },
     "execution_count": 1,
     "metadata": {
      "image/svg+xml": {
       "isolated": true
      }
     },
     "output_type": "execute_result"
    }
   ],
   "source": [
    "import networkx as nx\n",
    "import igraph\n",
    "import numpy as np\n",
    "from scipy import sparse\n",
    "\n",
    "# Load the adjacency matrix of the krate club network\n",
    "A = nx.to_scipy_sparse_array(nx.karate_club_graph())\n",
    "A.data = A.data * 0 + 1  # this converts the weighted network to unweighted network\n",
    "\n",
    "# Convert to igraph object for visualization\n",
    "src, trg, _ = sparse.find(sparse.triu(A, 1))\n",
    "deg = np.array(A.sum(axis=1)).ravel()\n",
    "g = igraph.Graph(edges=list(zip(src, trg)), directed=False)\n",
    "\n",
    "igraph.plot(g, bbox=(300, 300))"
   ]
  },
  {
   "cell_type": "markdown",
   "id": "0dacd5d4",
   "metadata": {},
   "source": [
    "## Assortativity for scalar values\n",
    "\n",
    "When the node attribute is a scalar variable, such as age, we can quantify the similarity between the attributes of two directly connected nodes using the Pearson correlation coefficient. If the correlation is positive, we say that the network is assortative for the node attribute. Conversely, if the correlation is negative, we say that the network is disassortative.\n",
    "\n",
    "Let us calculate the assortativity in terms of node degree, known as *degree assortativity*, for the karate club network."
   ]
  },
  {
   "cell_type": "code",
   "execution_count": 3,
   "id": "20c1e380",
   "metadata": {},
   "outputs": [
    {
     "data": {
      "text/plain": [
       "-0.47561309768461435"
      ]
     },
     "execution_count": 3,
     "metadata": {},
     "output_type": "execute_result"
    }
   ],
   "source": [
    "from scipy import stats\n",
    "import matplotlib.pyplot as plt\n",
    "import seaborn as sns\n",
    "\n",
    "\n",
    "def degree_assortativity(A):\n",
    "    \"\"\"Compute the degree assortativity\n",
    "\n",
    "    A: scipy.sparse adjacency matrix of a network\n",
    "\n",
    "    Return:\n",
    "    degree assortativity of the network.\n",
    "\n",
    "    Hint:\n",
    "    - use sparse.find(A) to find the node ids of the connected nodes.\n",
    "    - use scipy.stats.pearsonr to compute the correlation coefficient\n",
    "    \"\"\"\n",
    "\n",
    "    return\n",
    "\n",
    "\n",
    "#corr = degree_assortativity(A)\n",
    "#print(f\"Degree assortativity = {corr}\")\n",
    "import networkx as nx\n",
    "import igraph\n",
    "import numpy as np\n",
    "from scipy import sparse\n",
    "\n",
    "# Load the adjacency matrix of the krate club network\n",
    "A = nx.to_scipy_sparse_array(nx.karate_club_graph())\n",
    "A.data = A.data * 0 + 1  # this converts the weighted network to unweighted network\n",
    "\n",
    "# Convert to igraph object for visualization\n",
    "src, trg, _ = sparse.find(sparse.triu(A, 1))\n",
    "deg = np.array(A.sum(axis=1)).ravel()\n",
    "g = igraph.Graph(edges=list(zip(src, trg)), directed=False)\n",
    "\n",
    "igraph.plot(g, bbox=(300, 300))\n",
    "g.assortativity_degree()"
   ]
  },
  {
   "cell_type": "code",
   "execution_count": null,
   "id": "6ab26724",
   "metadata": {},
   "outputs": [],
   "source": []
  },
  {
   "cell_type": "markdown",
   "id": "00e637ca",
   "metadata": {},
   "source": [
    "The karate club network exhibits a strong degree of disassortativity. In a degree disassortative network, nodes with a high degree are more likely to be connected to nodes with a lower degree, resulting in a star-like structure. Conversely, in a strongly assortative network, nodes with a high degree are more likely to be connected, creating a dense core within the network. This core can be identified using $k$-core decomposition.\n",
    "\n",
    "![](https://qph.cf2.quoracdn.net/main-qimg-468957ce83120cad98d6fcb168ff8658-pjlq)\n",
    "\n",
    "## Modularity\n",
    "The karate club network represents the social connections among members of a university karate club. One unique aspect of this network is the division within the club between the instructor and the president. Each individual member has an enumerative variable about whom to support, either the instructor or the president. The attributes of each node can be obtained by"
   ]
  },
  {
   "cell_type": "code",
   "execution_count": 3,
   "id": "6775e673",
   "metadata": {},
   "outputs": [
    {
     "data": {
      "text/plain": [
       "(array(['Mr. Hi', 'Mr. Hi', 'Mr. Hi'], dtype='<U7'),\n",
       " array(['Officer', 'Officer', 'Officer'], dtype='<U7'))"
      ]
     },
     "execution_count": 3,
     "metadata": {},
     "output_type": "execute_result"
    }
   ],
   "source": [
    "G = nx.karate_club_graph()\n",
    "categories = np.array([d[1][\"club\"] for d in G.nodes(data=True)])\n",
    "categories[:3], categories[-3:]"
   ]
  },
  {
   "cell_type": "markdown",
   "id": "2aacd6c2",
   "metadata": {},
   "source": [
    "Let's reflect on the enumerative variable in the network visualization."
   ]
  },
  {
   "cell_type": "code",
   "execution_count": 4,
   "id": "a4db4044",
   "metadata": {},
   "outputs": [
    {
     "data": {
      "image/svg+xml": [
       "<?xml version=\"1.0\" encoding=\"UTF-8\"?>\n",
       "<svg xmlns=\"http://www.w3.org/2000/svg\" xmlns:xlink=\"http://www.w3.org/1999/xlink\" width=\"300pt\" height=\"300pt\" viewBox=\"0 0 300 300\" version=\"1.1\">\n",
       "<g id=\"surface8\">\n",
       "<rect x=\"0\" y=\"0\" width=\"300\" height=\"300\" style=\"fill:rgb(100%,100%,100%);fill-opacity:1;stroke:none;\"/>\n",
       "<path style=\"fill:none;stroke-width:1;stroke-linecap:butt;stroke-linejoin:miter;stroke:rgb(26.666667%,26.666667%,26.666667%);stroke-opacity:1;stroke-miterlimit:10;\" d=\"M 135.25 187.199219 L 88.394531 172.304688 \"/>\n",
       "<path style=\"fill:none;stroke-width:1;stroke-linecap:butt;stroke-linejoin:miter;stroke:rgb(26.666667%,26.666667%,26.666667%);stroke-opacity:1;stroke-miterlimit:10;\" d=\"M 135.25 187.199219 L 152.933594 136.320312 \"/>\n",
       "<path style=\"fill:none;stroke-width:1;stroke-linecap:butt;stroke-linejoin:miter;stroke:rgb(26.666667%,26.666667%,26.666667%);stroke-opacity:1;stroke-miterlimit:10;\" d=\"M 88.394531 172.304688 L 152.933594 136.320312 \"/>\n",
       "<path style=\"fill:none;stroke-width:1;stroke-linecap:butt;stroke-linejoin:miter;stroke:rgb(26.666667%,26.666667%,26.666667%);stroke-opacity:1;stroke-miterlimit:10;\" d=\"M 135.25 187.199219 L 153.957031 175.265625 \"/>\n",
       "<path style=\"fill:none;stroke-width:1;stroke-linecap:butt;stroke-linejoin:miter;stroke:rgb(26.666667%,26.666667%,26.666667%);stroke-opacity:1;stroke-miterlimit:10;\" d=\"M 88.394531 172.304688 L 153.957031 175.265625 \"/>\n",
       "<path style=\"fill:none;stroke-width:1;stroke-linecap:butt;stroke-linejoin:miter;stroke:rgb(26.666667%,26.666667%,26.666667%);stroke-opacity:1;stroke-miterlimit:10;\" d=\"M 152.933594 136.320312 L 153.957031 175.265625 \"/>\n",
       "<path style=\"fill:none;stroke-width:1;stroke-linecap:butt;stroke-linejoin:miter;stroke:rgb(26.666667%,26.666667%,26.666667%);stroke-opacity:1;stroke-miterlimit:10;\" d=\"M 135.25 187.199219 L 239.691406 201.546875 \"/>\n",
       "<path style=\"fill:none;stroke-width:1;stroke-linecap:butt;stroke-linejoin:miter;stroke:rgb(26.666667%,26.666667%,26.666667%);stroke-opacity:1;stroke-miterlimit:10;\" d=\"M 135.25 187.199219 L 159.222656 241.8125 \"/>\n",
       "<path style=\"fill:none;stroke-width:1;stroke-linecap:butt;stroke-linejoin:miter;stroke:rgb(26.666667%,26.666667%,26.666667%);stroke-opacity:1;stroke-miterlimit:10;\" d=\"M 135.25 187.199219 L 204.128906 231.523438 \"/>\n",
       "<path style=\"fill:none;stroke-width:1;stroke-linecap:butt;stroke-linejoin:miter;stroke:rgb(26.666667%,26.666667%,26.666667%);stroke-opacity:1;stroke-miterlimit:10;\" d=\"M 239.691406 201.546875 L 204.128906 231.523438 \"/>\n",
       "<path style=\"fill:none;stroke-width:1;stroke-linecap:butt;stroke-linejoin:miter;stroke:rgb(26.666667%,26.666667%,26.666667%);stroke-opacity:1;stroke-miterlimit:10;\" d=\"M 159.222656 241.8125 L 204.128906 231.523438 \"/>\n",
       "<path style=\"fill:none;stroke-width:1;stroke-linecap:butt;stroke-linejoin:miter;stroke:rgb(26.666667%,26.666667%,26.666667%);stroke-opacity:1;stroke-miterlimit:10;\" d=\"M 135.25 187.199219 L 195.40625 171.046875 \"/>\n",
       "<path style=\"fill:none;stroke-width:1;stroke-linecap:butt;stroke-linejoin:miter;stroke:rgb(26.666667%,26.666667%,26.666667%);stroke-opacity:1;stroke-miterlimit:10;\" d=\"M 88.394531 172.304688 L 195.40625 171.046875 \"/>\n",
       "<path style=\"fill:none;stroke-width:1;stroke-linecap:butt;stroke-linejoin:miter;stroke:rgb(26.666667%,26.666667%,26.666667%);stroke-opacity:1;stroke-miterlimit:10;\" d=\"M 152.933594 136.320312 L 195.40625 171.046875 \"/>\n",
       "<path style=\"fill:none;stroke-width:1;stroke-linecap:butt;stroke-linejoin:miter;stroke:rgb(26.666667%,26.666667%,26.666667%);stroke-opacity:1;stroke-miterlimit:10;\" d=\"M 153.957031 175.265625 L 195.40625 171.046875 \"/>\n",
       "<path style=\"fill:none;stroke-width:1;stroke-linecap:butt;stroke-linejoin:miter;stroke:rgb(26.666667%,26.666667%,26.666667%);stroke-opacity:1;stroke-miterlimit:10;\" d=\"M 135.25 187.199219 L 93.839844 131.648438 \"/>\n",
       "<path style=\"fill:none;stroke-width:1;stroke-linecap:butt;stroke-linejoin:miter;stroke:rgb(26.666667%,26.666667%,26.666667%);stroke-opacity:1;stroke-miterlimit:10;\" d=\"M 152.933594 136.320312 L 93.839844 131.648438 \"/>\n",
       "<path style=\"fill:none;stroke-width:1;stroke-linecap:butt;stroke-linejoin:miter;stroke:rgb(26.666667%,26.666667%,26.666667%);stroke-opacity:1;stroke-miterlimit:10;\" d=\"M 152.933594 136.320312 L 158.285156 93.035156 \"/>\n",
       "<path style=\"fill:none;stroke-width:1;stroke-linecap:butt;stroke-linejoin:miter;stroke:rgb(26.666667%,26.666667%,26.666667%);stroke-opacity:1;stroke-miterlimit:10;\" d=\"M 135.25 187.199219 L 201.183594 216.214844 \"/>\n",
       "<path style=\"fill:none;stroke-width:1;stroke-linecap:butt;stroke-linejoin:miter;stroke:rgb(26.666667%,26.666667%,26.666667%);stroke-opacity:1;stroke-miterlimit:10;\" d=\"M 239.691406 201.546875 L 201.183594 216.214844 \"/>\n",
       "<path style=\"fill:none;stroke-width:1;stroke-linecap:butt;stroke-linejoin:miter;stroke:rgb(26.666667%,26.666667%,26.666667%);stroke-opacity:1;stroke-miterlimit:10;\" d=\"M 159.222656 241.8125 L 201.183594 216.214844 \"/>\n",
       "<path style=\"fill:none;stroke-width:1;stroke-linecap:butt;stroke-linejoin:miter;stroke:rgb(26.666667%,26.666667%,26.666667%);stroke-opacity:1;stroke-miterlimit:10;\" d=\"M 135.25 187.199219 L 81.503906 234.9375 \"/>\n",
       "<path style=\"fill:none;stroke-width:1;stroke-linecap:butt;stroke-linejoin:miter;stroke:rgb(26.666667%,26.666667%,26.666667%);stroke-opacity:1;stroke-miterlimit:10;\" d=\"M 135.25 187.199219 L 121.117188 227.421875 \"/>\n",
       "<path style=\"fill:none;stroke-width:1;stroke-linecap:butt;stroke-linejoin:miter;stroke:rgb(26.666667%,26.666667%,26.666667%);stroke-opacity:1;stroke-miterlimit:10;\" d=\"M 153.957031 175.265625 L 121.117188 227.421875 \"/>\n",
       "<path style=\"fill:none;stroke-width:1;stroke-linecap:butt;stroke-linejoin:miter;stroke:rgb(26.666667%,26.666667%,26.666667%);stroke-opacity:1;stroke-miterlimit:10;\" d=\"M 135.25 187.199219 L 112.117188 142.675781 \"/>\n",
       "<path style=\"fill:none;stroke-width:1;stroke-linecap:butt;stroke-linejoin:miter;stroke:rgb(26.666667%,26.666667%,26.666667%);stroke-opacity:1;stroke-miterlimit:10;\" d=\"M 88.394531 172.304688 L 112.117188 142.675781 \"/>\n",
       "<path style=\"fill:none;stroke-width:1;stroke-linecap:butt;stroke-linejoin:miter;stroke:rgb(26.666667%,26.666667%,26.666667%);stroke-opacity:1;stroke-miterlimit:10;\" d=\"M 152.933594 136.320312 L 112.117188 142.675781 \"/>\n",
       "<path style=\"fill:none;stroke-width:1;stroke-linecap:butt;stroke-linejoin:miter;stroke:rgb(26.666667%,26.666667%,26.666667%);stroke-opacity:1;stroke-miterlimit:10;\" d=\"M 153.957031 175.265625 L 112.117188 142.675781 \"/>\n",
       "<path style=\"fill:none;stroke-width:1;stroke-linecap:butt;stroke-linejoin:miter;stroke:rgb(26.666667%,26.666667%,26.666667%);stroke-opacity:1;stroke-miterlimit:10;\" d=\"M 159.222656 241.8125 L 218.210938 280 \"/>\n",
       "<path style=\"fill:none;stroke-width:1;stroke-linecap:butt;stroke-linejoin:miter;stroke:rgb(26.666667%,26.666667%,26.666667%);stroke-opacity:1;stroke-miterlimit:10;\" d=\"M 204.128906 231.523438 L 218.210938 280 \"/>\n",
       "<path style=\"fill:none;stroke-width:1;stroke-linecap:butt;stroke-linejoin:miter;stroke:rgb(26.666667%,26.666667%,26.666667%);stroke-opacity:1;stroke-miterlimit:10;\" d=\"M 135.25 187.199219 L 36.539062 199.703125 \"/>\n",
       "<path style=\"fill:none;stroke-width:1;stroke-linecap:butt;stroke-linejoin:miter;stroke:rgb(26.666667%,26.666667%,26.666667%);stroke-opacity:1;stroke-miterlimit:10;\" d=\"M 88.394531 172.304688 L 36.539062 199.703125 \"/>\n",
       "<path style=\"fill:none;stroke-width:1;stroke-linecap:butt;stroke-linejoin:miter;stroke:rgb(26.666667%,26.666667%,26.666667%);stroke-opacity:1;stroke-miterlimit:10;\" d=\"M 135.25 187.199219 L 67.367188 142.605469 \"/>\n",
       "<path style=\"fill:none;stroke-width:1;stroke-linecap:butt;stroke-linejoin:miter;stroke:rgb(26.666667%,26.666667%,26.666667%);stroke-opacity:1;stroke-miterlimit:10;\" d=\"M 88.394531 172.304688 L 67.367188 142.605469 \"/>\n",
       "<path style=\"fill:none;stroke-width:1;stroke-linecap:butt;stroke-linejoin:miter;stroke:rgb(26.666667%,26.666667%,26.666667%);stroke-opacity:1;stroke-miterlimit:10;\" d=\"M 135.25 187.199219 L 57.894531 213.238281 \"/>\n",
       "<path style=\"fill:none;stroke-width:1;stroke-linecap:butt;stroke-linejoin:miter;stroke:rgb(26.666667%,26.666667%,26.666667%);stroke-opacity:1;stroke-miterlimit:10;\" d=\"M 88.394531 172.304688 L 57.894531 213.238281 \"/>\n",
       "<path style=\"fill:none;stroke-width:1;stroke-linecap:butt;stroke-linejoin:miter;stroke:rgb(26.666667%,26.666667%,26.666667%);stroke-opacity:1;stroke-miterlimit:10;\" d=\"M 203.121094 60.371094 L 272.636719 116.835938 \"/>\n",
       "<path style=\"fill:none;stroke-width:1;stroke-linecap:butt;stroke-linejoin:miter;stroke:rgb(26.666667%,26.666667%,26.666667%);stroke-opacity:1;stroke-miterlimit:10;\" d=\"M 280 97.191406 L 272.636719 116.835938 \"/>\n",
       "<path style=\"fill:none;stroke-width:1;stroke-linecap:butt;stroke-linejoin:miter;stroke:rgb(26.666667%,26.666667%,26.666667%);stroke-opacity:1;stroke-miterlimit:10;\" d=\"M 152.933594 136.320312 L 210.191406 95.410156 \"/>\n",
       "<path style=\"fill:none;stroke-width:1;stroke-linecap:butt;stroke-linejoin:miter;stroke:rgb(26.666667%,26.666667%,26.666667%);stroke-opacity:1;stroke-miterlimit:10;\" d=\"M 203.121094 60.371094 L 210.191406 95.410156 \"/>\n",
       "<path style=\"fill:none;stroke-width:1;stroke-linecap:butt;stroke-linejoin:miter;stroke:rgb(26.666667%,26.666667%,26.666667%);stroke-opacity:1;stroke-miterlimit:10;\" d=\"M 280 97.191406 L 210.191406 95.410156 \"/>\n",
       "<path style=\"fill:none;stroke-width:1;stroke-linecap:butt;stroke-linejoin:miter;stroke:rgb(26.666667%,26.666667%,26.666667%);stroke-opacity:1;stroke-miterlimit:10;\" d=\"M 152.933594 136.320312 L 186.199219 93.90625 \"/>\n",
       "<path style=\"fill:none;stroke-width:1;stroke-linecap:butt;stroke-linejoin:miter;stroke:rgb(26.666667%,26.666667%,26.666667%);stroke-opacity:1;stroke-miterlimit:10;\" d=\"M 203.121094 60.371094 L 164.558594 42.386719 \"/>\n",
       "<path style=\"fill:none;stroke-width:1;stroke-linecap:butt;stroke-linejoin:miter;stroke:rgb(26.666667%,26.666667%,26.666667%);stroke-opacity:1;stroke-miterlimit:10;\" d=\"M 139.347656 20 L 164.558594 42.386719 \"/>\n",
       "<path style=\"fill:none;stroke-width:1;stroke-linecap:butt;stroke-linejoin:miter;stroke:rgb(26.666667%,26.666667%,26.666667%);stroke-opacity:1;stroke-miterlimit:10;\" d=\"M 88.394531 172.304688 L 43.53125 117.613281 \"/>\n",
       "<path style=\"fill:none;stroke-width:1;stroke-linecap:butt;stroke-linejoin:miter;stroke:rgb(26.666667%,26.666667%,26.666667%);stroke-opacity:1;stroke-miterlimit:10;\" d=\"M 93.839844 131.648438 L 43.53125 117.613281 \"/>\n",
       "<path style=\"fill:none;stroke-width:1;stroke-linecap:butt;stroke-linejoin:miter;stroke:rgb(26.666667%,26.666667%,26.666667%);stroke-opacity:1;stroke-miterlimit:10;\" d=\"M 135.25 187.199219 L 185.917969 127.445312 \"/>\n",
       "<path style=\"fill:none;stroke-width:1;stroke-linecap:butt;stroke-linejoin:miter;stroke:rgb(26.666667%,26.666667%,26.666667%);stroke-opacity:1;stroke-miterlimit:10;\" d=\"M 280 97.191406 L 185.917969 127.445312 \"/>\n",
       "<path style=\"fill:none;stroke-width:1;stroke-linecap:butt;stroke-linejoin:miter;stroke:rgb(26.666667%,26.666667%,26.666667%);stroke-opacity:1;stroke-miterlimit:10;\" d=\"M 272.636719 116.835938 L 185.917969 127.445312 \"/>\n",
       "<path style=\"fill:none;stroke-width:1;stroke-linecap:butt;stroke-linejoin:miter;stroke:rgb(26.666667%,26.666667%,26.666667%);stroke-opacity:1;stroke-miterlimit:10;\" d=\"M 186.199219 93.90625 L 185.917969 127.445312 \"/>\n",
       "<path style=\"fill:none;stroke-width:1;stroke-linecap:butt;stroke-linejoin:miter;stroke:rgb(26.666667%,26.666667%,26.666667%);stroke-opacity:1;stroke-miterlimit:10;\" d=\"M 152.933594 136.320312 L 99.78125 86.125 \"/>\n",
       "<path style=\"fill:none;stroke-width:1;stroke-linecap:butt;stroke-linejoin:miter;stroke:rgb(26.666667%,26.666667%,26.666667%);stroke-opacity:1;stroke-miterlimit:10;\" d=\"M 93.839844 131.648438 L 99.78125 86.125 \"/>\n",
       "<path style=\"fill:none;stroke-width:1;stroke-linecap:butt;stroke-linejoin:miter;stroke:rgb(26.666667%,26.666667%,26.666667%);stroke-opacity:1;stroke-miterlimit:10;\" d=\"M 76.507812 38.511719 L 99.78125 86.125 \"/>\n",
       "<path style=\"fill:none;stroke-width:1;stroke-linecap:butt;stroke-linejoin:miter;stroke:rgb(26.666667%,26.666667%,26.666667%);stroke-opacity:1;stroke-miterlimit:10;\" d=\"M 30.738281 64.691406 L 99.78125 86.125 \"/>\n",
       "<path style=\"fill:none;stroke-width:1;stroke-linecap:butt;stroke-linejoin:miter;stroke:rgb(26.666667%,26.666667%,26.666667%);stroke-opacity:1;stroke-miterlimit:10;\" d=\"M 20 81.96875 L 99.78125 86.125 \"/>\n",
       "<path style=\"fill:none;stroke-width:1;stroke-linecap:butt;stroke-linejoin:miter;stroke:rgb(26.666667%,26.666667%,26.666667%);stroke-opacity:1;stroke-miterlimit:10;\" d=\"M 49.894531 49.550781 L 99.78125 86.125 \"/>\n",
       "<path style=\"fill:none;stroke-width:1;stroke-linecap:butt;stroke-linejoin:miter;stroke:rgb(26.666667%,26.666667%,26.666667%);stroke-opacity:1;stroke-miterlimit:10;\" d=\"M 109.835938 36.0625 L 99.78125 86.125 \"/>\n",
       "<path style=\"fill:none;stroke-width:1;stroke-linecap:butt;stroke-linejoin:miter;stroke:rgb(26.666667%,26.666667%,26.666667%);stroke-opacity:1;stroke-miterlimit:10;\" d=\"M 203.121094 60.371094 L 99.78125 86.125 \"/>\n",
       "<path style=\"fill:none;stroke-width:1;stroke-linecap:butt;stroke-linejoin:miter;stroke:rgb(26.666667%,26.666667%,26.666667%);stroke-opacity:1;stroke-miterlimit:10;\" d=\"M 164.558594 42.386719 L 99.78125 86.125 \"/>\n",
       "<path style=\"fill:none;stroke-width:1;stroke-linecap:butt;stroke-linejoin:miter;stroke:rgb(26.666667%,26.666667%,26.666667%);stroke-opacity:1;stroke-miterlimit:10;\" d=\"M 43.53125 117.613281 L 99.78125 86.125 \"/>\n",
       "<path style=\"fill:none;stroke-width:1;stroke-linecap:butt;stroke-linejoin:miter;stroke:rgb(26.666667%,26.666667%,26.666667%);stroke-opacity:1;stroke-miterlimit:10;\" d=\"M 185.917969 127.445312 L 99.78125 86.125 \"/>\n",
       "<path style=\"fill:none;stroke-width:1;stroke-linecap:butt;stroke-linejoin:miter;stroke:rgb(26.666667%,26.666667%,26.666667%);stroke-opacity:1;stroke-miterlimit:10;\" d=\"M 93.839844 131.648438 L 117.730469 82.863281 \"/>\n",
       "<path style=\"fill:none;stroke-width:1;stroke-linecap:butt;stroke-linejoin:miter;stroke:rgb(26.666667%,26.666667%,26.666667%);stroke-opacity:1;stroke-miterlimit:10;\" d=\"M 158.285156 93.035156 L 117.730469 82.863281 \"/>\n",
       "<path style=\"fill:none;stroke-width:1;stroke-linecap:butt;stroke-linejoin:miter;stroke:rgb(26.666667%,26.666667%,26.666667%);stroke-opacity:1;stroke-miterlimit:10;\" d=\"M 112.117188 142.675781 L 117.730469 82.863281 \"/>\n",
       "<path style=\"fill:none;stroke-width:1;stroke-linecap:butt;stroke-linejoin:miter;stroke:rgb(26.666667%,26.666667%,26.666667%);stroke-opacity:1;stroke-miterlimit:10;\" d=\"M 76.507812 38.511719 L 117.730469 82.863281 \"/>\n",
       "<path style=\"fill:none;stroke-width:1;stroke-linecap:butt;stroke-linejoin:miter;stroke:rgb(26.666667%,26.666667%,26.666667%);stroke-opacity:1;stroke-miterlimit:10;\" d=\"M 30.738281 64.691406 L 117.730469 82.863281 \"/>\n",
       "<path style=\"fill:none;stroke-width:1;stroke-linecap:butt;stroke-linejoin:miter;stroke:rgb(26.666667%,26.666667%,26.666667%);stroke-opacity:1;stroke-miterlimit:10;\" d=\"M 20 81.96875 L 117.730469 82.863281 \"/>\n",
       "<path style=\"fill:none;stroke-width:1;stroke-linecap:butt;stroke-linejoin:miter;stroke:rgb(26.666667%,26.666667%,26.666667%);stroke-opacity:1;stroke-miterlimit:10;\" d=\"M 67.367188 142.605469 L 117.730469 82.863281 \"/>\n",
       "<path style=\"fill:none;stroke-width:1;stroke-linecap:butt;stroke-linejoin:miter;stroke:rgb(26.666667%,26.666667%,26.666667%);stroke-opacity:1;stroke-miterlimit:10;\" d=\"M 49.894531 49.550781 L 117.730469 82.863281 \"/>\n",
       "<path style=\"fill:none;stroke-width:1;stroke-linecap:butt;stroke-linejoin:miter;stroke:rgb(26.666667%,26.666667%,26.666667%);stroke-opacity:1;stroke-miterlimit:10;\" d=\"M 109.835938 36.0625 L 117.730469 82.863281 \"/>\n",
       "<path style=\"fill:none;stroke-width:1;stroke-linecap:butt;stroke-linejoin:miter;stroke:rgb(26.666667%,26.666667%,26.666667%);stroke-opacity:1;stroke-miterlimit:10;\" d=\"M 203.121094 60.371094 L 117.730469 82.863281 \"/>\n",
       "<path style=\"fill:none;stroke-width:1;stroke-linecap:butt;stroke-linejoin:miter;stroke:rgb(26.666667%,26.666667%,26.666667%);stroke-opacity:1;stroke-miterlimit:10;\" d=\"M 139.347656 20 L 117.730469 82.863281 \"/>\n",
       "<path style=\"fill:none;stroke-width:1;stroke-linecap:butt;stroke-linejoin:miter;stroke:rgb(26.666667%,26.666667%,26.666667%);stroke-opacity:1;stroke-miterlimit:10;\" d=\"M 210.191406 95.410156 L 117.730469 82.863281 \"/>\n",
       "<path style=\"fill:none;stroke-width:1;stroke-linecap:butt;stroke-linejoin:miter;stroke:rgb(26.666667%,26.666667%,26.666667%);stroke-opacity:1;stroke-miterlimit:10;\" d=\"M 186.199219 93.90625 L 117.730469 82.863281 \"/>\n",
       "<path style=\"fill:none;stroke-width:1;stroke-linecap:butt;stroke-linejoin:miter;stroke:rgb(26.666667%,26.666667%,26.666667%);stroke-opacity:1;stroke-miterlimit:10;\" d=\"M 164.558594 42.386719 L 117.730469 82.863281 \"/>\n",
       "<path style=\"fill:none;stroke-width:1;stroke-linecap:butt;stroke-linejoin:miter;stroke:rgb(26.666667%,26.666667%,26.666667%);stroke-opacity:1;stroke-miterlimit:10;\" d=\"M 43.53125 117.613281 L 117.730469 82.863281 \"/>\n",
       "<path style=\"fill:none;stroke-width:1;stroke-linecap:butt;stroke-linejoin:miter;stroke:rgb(26.666667%,26.666667%,26.666667%);stroke-opacity:1;stroke-miterlimit:10;\" d=\"M 185.917969 127.445312 L 117.730469 82.863281 \"/>\n",
       "<path style=\"fill:none;stroke-width:1;stroke-linecap:butt;stroke-linejoin:miter;stroke:rgb(26.666667%,26.666667%,26.666667%);stroke-opacity:1;stroke-miterlimit:10;\" d=\"M 99.78125 86.125 L 117.730469 82.863281 \"/>\n",
       "<path style=\"fill-rule:nonzero;fill:rgb(12.156863%,46.666667%,70.588235%);fill-opacity:1;stroke-width:1;stroke-linecap:butt;stroke-linejoin:miter;stroke:rgb(0%,0%,0%);stroke-opacity:1;stroke-miterlimit:10;\" d=\"M 145.25 187.199219 C 145.25 192.722656 140.773438 197.199219 135.25 197.199219 C 129.730469 197.199219 125.25 192.722656 125.25 187.199219 C 125.25 181.675781 129.730469 177.199219 135.25 177.199219 C 140.773438 177.199219 145.25 181.675781 145.25 187.199219 \"/>\n",
       "<path style=\"fill-rule:nonzero;fill:rgb(12.156863%,46.666667%,70.588235%);fill-opacity:1;stroke-width:1;stroke-linecap:butt;stroke-linejoin:miter;stroke:rgb(0%,0%,0%);stroke-opacity:1;stroke-miterlimit:10;\" d=\"M 98.394531 172.304688 C 98.394531 177.828125 93.917969 182.304688 88.394531 182.304688 C 82.871094 182.304688 78.394531 177.828125 78.394531 172.304688 C 78.394531 166.78125 82.871094 162.304688 88.394531 162.304688 C 93.917969 162.304688 98.394531 166.78125 98.394531 172.304688 \"/>\n",
       "<path style=\"fill-rule:nonzero;fill:rgb(12.156863%,46.666667%,70.588235%);fill-opacity:1;stroke-width:1;stroke-linecap:butt;stroke-linejoin:miter;stroke:rgb(0%,0%,0%);stroke-opacity:1;stroke-miterlimit:10;\" d=\"M 162.933594 136.320312 C 162.933594 141.84375 158.457031 146.320312 152.933594 146.320312 C 147.410156 146.320312 142.933594 141.84375 142.933594 136.320312 C 142.933594 130.796875 147.410156 126.320312 152.933594 126.320312 C 158.457031 126.320312 162.933594 130.796875 162.933594 136.320312 \"/>\n",
       "<path style=\"fill-rule:nonzero;fill:rgb(12.156863%,46.666667%,70.588235%);fill-opacity:1;stroke-width:1;stroke-linecap:butt;stroke-linejoin:miter;stroke:rgb(0%,0%,0%);stroke-opacity:1;stroke-miterlimit:10;\" d=\"M 163.957031 175.265625 C 163.957031 180.789062 159.480469 185.265625 153.957031 185.265625 C 148.433594 185.265625 143.957031 180.789062 143.957031 175.265625 C 143.957031 169.742188 148.433594 165.265625 153.957031 165.265625 C 159.480469 165.265625 163.957031 169.742188 163.957031 175.265625 \"/>\n",
       "<path style=\"fill-rule:nonzero;fill:rgb(12.156863%,46.666667%,70.588235%);fill-opacity:1;stroke-width:1;stroke-linecap:butt;stroke-linejoin:miter;stroke:rgb(0%,0%,0%);stroke-opacity:1;stroke-miterlimit:10;\" d=\"M 249.691406 201.546875 C 249.691406 207.070312 245.214844 211.546875 239.691406 211.546875 C 234.171875 211.546875 229.691406 207.070312 229.691406 201.546875 C 229.691406 196.023438 234.171875 191.546875 239.691406 191.546875 C 245.214844 191.546875 249.691406 196.023438 249.691406 201.546875 \"/>\n",
       "<path style=\"fill-rule:nonzero;fill:rgb(12.156863%,46.666667%,70.588235%);fill-opacity:1;stroke-width:1;stroke-linecap:butt;stroke-linejoin:miter;stroke:rgb(0%,0%,0%);stroke-opacity:1;stroke-miterlimit:10;\" d=\"M 169.222656 241.8125 C 169.222656 247.335938 164.746094 251.8125 159.222656 251.8125 C 153.703125 251.8125 149.222656 247.335938 149.222656 241.8125 C 149.222656 236.289062 153.703125 231.8125 159.222656 231.8125 C 164.746094 231.8125 169.222656 236.289062 169.222656 241.8125 \"/>\n",
       "<path style=\"fill-rule:nonzero;fill:rgb(12.156863%,46.666667%,70.588235%);fill-opacity:1;stroke-width:1;stroke-linecap:butt;stroke-linejoin:miter;stroke:rgb(0%,0%,0%);stroke-opacity:1;stroke-miterlimit:10;\" d=\"M 214.128906 231.523438 C 214.128906 237.042969 209.652344 241.523438 204.128906 241.523438 C 198.609375 241.523438 194.128906 237.042969 194.128906 231.523438 C 194.128906 226 198.609375 221.523438 204.128906 221.523438 C 209.652344 221.523438 214.128906 226 214.128906 231.523438 \"/>\n",
       "<path style=\"fill-rule:nonzero;fill:rgb(12.156863%,46.666667%,70.588235%);fill-opacity:1;stroke-width:1;stroke-linecap:butt;stroke-linejoin:miter;stroke:rgb(0%,0%,0%);stroke-opacity:1;stroke-miterlimit:10;\" d=\"M 205.40625 171.046875 C 205.40625 176.570312 200.929688 181.046875 195.40625 181.046875 C 189.882812 181.046875 185.40625 176.570312 185.40625 171.046875 C 185.40625 165.523438 189.882812 161.046875 195.40625 161.046875 C 200.929688 161.046875 205.40625 165.523438 205.40625 171.046875 \"/>\n",
       "<path style=\"fill-rule:nonzero;fill:rgb(12.156863%,46.666667%,70.588235%);fill-opacity:1;stroke-width:1;stroke-linecap:butt;stroke-linejoin:miter;stroke:rgb(0%,0%,0%);stroke-opacity:1;stroke-miterlimit:10;\" d=\"M 103.839844 131.648438 C 103.839844 137.171875 99.359375 141.648438 93.839844 141.648438 C 88.316406 141.648438 83.839844 137.171875 83.839844 131.648438 C 83.839844 126.125 88.316406 121.648438 93.839844 121.648438 C 99.359375 121.648438 103.839844 126.125 103.839844 131.648438 \"/>\n",
       "<path style=\"fill-rule:nonzero;fill:rgb(100%,49.803922%,5.490196%);fill-opacity:1;stroke-width:1;stroke-linecap:butt;stroke-linejoin:miter;stroke:rgb(0%,0%,0%);stroke-opacity:1;stroke-miterlimit:10;\" d=\"M 168.285156 93.035156 C 168.285156 98.558594 163.808594 103.035156 158.285156 103.035156 C 152.765625 103.035156 148.285156 98.558594 148.285156 93.035156 C 148.285156 87.511719 152.765625 83.035156 158.285156 83.035156 C 163.808594 83.035156 168.285156 87.511719 168.285156 93.035156 \"/>\n",
       "<path style=\"fill-rule:nonzero;fill:rgb(12.156863%,46.666667%,70.588235%);fill-opacity:1;stroke-width:1;stroke-linecap:butt;stroke-linejoin:miter;stroke:rgb(0%,0%,0%);stroke-opacity:1;stroke-miterlimit:10;\" d=\"M 211.183594 216.214844 C 211.183594 221.738281 206.707031 226.214844 201.183594 226.214844 C 195.664062 226.214844 191.183594 221.738281 191.183594 216.214844 C 191.183594 210.691406 195.664062 206.214844 201.183594 206.214844 C 206.707031 206.214844 211.183594 210.691406 211.183594 216.214844 \"/>\n",
       "<path style=\"fill-rule:nonzero;fill:rgb(12.156863%,46.666667%,70.588235%);fill-opacity:1;stroke-width:1;stroke-linecap:butt;stroke-linejoin:miter;stroke:rgb(0%,0%,0%);stroke-opacity:1;stroke-miterlimit:10;\" d=\"M 91.503906 234.9375 C 91.503906 240.460938 87.027344 244.9375 81.503906 244.9375 C 75.984375 244.9375 71.503906 240.460938 71.503906 234.9375 C 71.503906 229.414062 75.984375 224.9375 81.503906 224.9375 C 87.027344 224.9375 91.503906 229.414062 91.503906 234.9375 \"/>\n",
       "<path style=\"fill-rule:nonzero;fill:rgb(12.156863%,46.666667%,70.588235%);fill-opacity:1;stroke-width:1;stroke-linecap:butt;stroke-linejoin:miter;stroke:rgb(0%,0%,0%);stroke-opacity:1;stroke-miterlimit:10;\" d=\"M 131.117188 227.421875 C 131.117188 232.941406 126.640625 237.421875 121.117188 237.421875 C 115.59375 237.421875 111.117188 232.941406 111.117188 227.421875 C 111.117188 221.898438 115.59375 217.421875 121.117188 217.421875 C 126.640625 217.421875 131.117188 221.898438 131.117188 227.421875 \"/>\n",
       "<path style=\"fill-rule:nonzero;fill:rgb(12.156863%,46.666667%,70.588235%);fill-opacity:1;stroke-width:1;stroke-linecap:butt;stroke-linejoin:miter;stroke:rgb(0%,0%,0%);stroke-opacity:1;stroke-miterlimit:10;\" d=\"M 122.117188 142.675781 C 122.117188 148.199219 117.640625 152.675781 112.117188 152.675781 C 106.59375 152.675781 102.117188 148.199219 102.117188 142.675781 C 102.117188 137.152344 106.59375 132.675781 112.117188 132.675781 C 117.640625 132.675781 122.117188 137.152344 122.117188 142.675781 \"/>\n",
       "<path style=\"fill-rule:nonzero;fill:rgb(100%,49.803922%,5.490196%);fill-opacity:1;stroke-width:1;stroke-linecap:butt;stroke-linejoin:miter;stroke:rgb(0%,0%,0%);stroke-opacity:1;stroke-miterlimit:10;\" d=\"M 86.507812 38.511719 C 86.507812 44.03125 82.03125 48.511719 76.507812 48.511719 C 70.984375 48.511719 66.507812 44.03125 66.507812 38.511719 C 66.507812 32.988281 70.984375 28.511719 76.507812 28.511719 C 82.03125 28.511719 86.507812 32.988281 86.507812 38.511719 \"/>\n",
       "<path style=\"fill-rule:nonzero;fill:rgb(100%,49.803922%,5.490196%);fill-opacity:1;stroke-width:1;stroke-linecap:butt;stroke-linejoin:miter;stroke:rgb(0%,0%,0%);stroke-opacity:1;stroke-miterlimit:10;\" d=\"M 40.738281 64.691406 C 40.738281 70.214844 36.261719 74.691406 30.738281 74.691406 C 25.214844 74.691406 20.738281 70.214844 20.738281 64.691406 C 20.738281 59.167969 25.214844 54.691406 30.738281 54.691406 C 36.261719 54.691406 40.738281 59.167969 40.738281 64.691406 \"/>\n",
       "<path style=\"fill-rule:nonzero;fill:rgb(12.156863%,46.666667%,70.588235%);fill-opacity:1;stroke-width:1;stroke-linecap:butt;stroke-linejoin:miter;stroke:rgb(0%,0%,0%);stroke-opacity:1;stroke-miterlimit:10;\" d=\"M 228.210938 280 C 228.210938 285.523438 223.734375 290 218.210938 290 C 212.6875 290 208.210938 285.523438 208.210938 280 C 208.210938 274.476562 212.6875 270 218.210938 270 C 223.734375 270 228.210938 274.476562 228.210938 280 \"/>\n",
       "<path style=\"fill-rule:nonzero;fill:rgb(12.156863%,46.666667%,70.588235%);fill-opacity:1;stroke-width:1;stroke-linecap:butt;stroke-linejoin:miter;stroke:rgb(0%,0%,0%);stroke-opacity:1;stroke-miterlimit:10;\" d=\"M 46.539062 199.703125 C 46.539062 205.226562 42.0625 209.703125 36.539062 209.703125 C 31.015625 209.703125 26.539062 205.226562 26.539062 199.703125 C 26.539062 194.183594 31.015625 189.703125 36.539062 189.703125 C 42.0625 189.703125 46.539062 194.183594 46.539062 199.703125 \"/>\n",
       "<path style=\"fill-rule:nonzero;fill:rgb(100%,49.803922%,5.490196%);fill-opacity:1;stroke-width:1;stroke-linecap:butt;stroke-linejoin:miter;stroke:rgb(0%,0%,0%);stroke-opacity:1;stroke-miterlimit:10;\" d=\"M 30 81.96875 C 30 87.492188 25.523438 91.96875 20 91.96875 C 14.476562 91.96875 10 87.492188 10 81.96875 C 10 76.445312 14.476562 71.96875 20 71.96875 C 25.523438 71.96875 30 76.445312 30 81.96875 \"/>\n",
       "<path style=\"fill-rule:nonzero;fill:rgb(12.156863%,46.666667%,70.588235%);fill-opacity:1;stroke-width:1;stroke-linecap:butt;stroke-linejoin:miter;stroke:rgb(0%,0%,0%);stroke-opacity:1;stroke-miterlimit:10;\" d=\"M 77.367188 142.605469 C 77.367188 148.128906 72.890625 152.605469 67.367188 152.605469 C 61.847656 152.605469 57.367188 148.128906 57.367188 142.605469 C 57.367188 137.082031 61.847656 132.605469 67.367188 132.605469 C 72.890625 132.605469 77.367188 137.082031 77.367188 142.605469 \"/>\n",
       "<path style=\"fill-rule:nonzero;fill:rgb(100%,49.803922%,5.490196%);fill-opacity:1;stroke-width:1;stroke-linecap:butt;stroke-linejoin:miter;stroke:rgb(0%,0%,0%);stroke-opacity:1;stroke-miterlimit:10;\" d=\"M 59.894531 49.550781 C 59.894531 55.074219 55.417969 59.550781 49.894531 59.550781 C 44.371094 59.550781 39.894531 55.074219 39.894531 49.550781 C 39.894531 44.027344 44.371094 39.550781 49.894531 39.550781 C 55.417969 39.550781 59.894531 44.027344 59.894531 49.550781 \"/>\n",
       "<path style=\"fill-rule:nonzero;fill:rgb(12.156863%,46.666667%,70.588235%);fill-opacity:1;stroke-width:1;stroke-linecap:butt;stroke-linejoin:miter;stroke:rgb(0%,0%,0%);stroke-opacity:1;stroke-miterlimit:10;\" d=\"M 67.894531 213.238281 C 67.894531 218.761719 63.417969 223.238281 57.894531 223.238281 C 52.375 223.238281 47.894531 218.761719 47.894531 213.238281 C 47.894531 207.714844 52.375 203.238281 57.894531 203.238281 C 63.417969 203.238281 67.894531 207.714844 67.894531 213.238281 \"/>\n",
       "<path style=\"fill-rule:nonzero;fill:rgb(100%,49.803922%,5.490196%);fill-opacity:1;stroke-width:1;stroke-linecap:butt;stroke-linejoin:miter;stroke:rgb(0%,0%,0%);stroke-opacity:1;stroke-miterlimit:10;\" d=\"M 119.835938 36.0625 C 119.835938 41.585938 115.359375 46.0625 109.835938 46.0625 C 104.3125 46.0625 99.835938 41.585938 99.835938 36.0625 C 99.835938 30.539062 104.3125 26.0625 109.835938 26.0625 C 115.359375 26.0625 119.835938 30.539062 119.835938 36.0625 \"/>\n",
       "<path style=\"fill-rule:nonzero;fill:rgb(100%,49.803922%,5.490196%);fill-opacity:1;stroke-width:1;stroke-linecap:butt;stroke-linejoin:miter;stroke:rgb(0%,0%,0%);stroke-opacity:1;stroke-miterlimit:10;\" d=\"M 213.121094 60.371094 C 213.121094 65.894531 208.644531 70.371094 203.121094 70.371094 C 197.597656 70.371094 193.121094 65.894531 193.121094 60.371094 C 193.121094 54.847656 197.597656 50.371094 203.121094 50.371094 C 208.644531 50.371094 213.121094 54.847656 213.121094 60.371094 \"/>\n",
       "<path style=\"fill-rule:nonzero;fill:rgb(100%,49.803922%,5.490196%);fill-opacity:1;stroke-width:1;stroke-linecap:butt;stroke-linejoin:miter;stroke:rgb(0%,0%,0%);stroke-opacity:1;stroke-miterlimit:10;\" d=\"M 290 97.191406 C 290 102.714844 285.523438 107.191406 280 107.191406 C 274.476562 107.191406 270 102.714844 270 97.191406 C 270 91.671875 274.476562 87.191406 280 87.191406 C 285.523438 87.191406 290 91.671875 290 97.191406 \"/>\n",
       "<path style=\"fill-rule:nonzero;fill:rgb(100%,49.803922%,5.490196%);fill-opacity:1;stroke-width:1;stroke-linecap:butt;stroke-linejoin:miter;stroke:rgb(0%,0%,0%);stroke-opacity:1;stroke-miterlimit:10;\" d=\"M 282.636719 116.835938 C 282.636719 122.359375 278.160156 126.835938 272.636719 126.835938 C 267.113281 126.835938 262.636719 122.359375 262.636719 116.835938 C 262.636719 111.3125 267.113281 106.835938 272.636719 106.835938 C 278.160156 106.835938 282.636719 111.3125 282.636719 116.835938 \"/>\n",
       "<path style=\"fill-rule:nonzero;fill:rgb(100%,49.803922%,5.490196%);fill-opacity:1;stroke-width:1;stroke-linecap:butt;stroke-linejoin:miter;stroke:rgb(0%,0%,0%);stroke-opacity:1;stroke-miterlimit:10;\" d=\"M 149.347656 20 C 149.347656 25.523438 144.871094 30 139.347656 30 C 133.824219 30 129.347656 25.523438 129.347656 20 C 129.347656 14.476562 133.824219 10 139.347656 10 C 144.871094 10 149.347656 14.476562 149.347656 20 \"/>\n",
       "<path style=\"fill-rule:nonzero;fill:rgb(100%,49.803922%,5.490196%);fill-opacity:1;stroke-width:1;stroke-linecap:butt;stroke-linejoin:miter;stroke:rgb(0%,0%,0%);stroke-opacity:1;stroke-miterlimit:10;\" d=\"M 220.191406 95.410156 C 220.191406 100.933594 215.714844 105.410156 210.191406 105.410156 C 204.671875 105.410156 200.191406 100.933594 200.191406 95.410156 C 200.191406 89.886719 204.671875 85.410156 210.191406 85.410156 C 215.714844 85.410156 220.191406 89.886719 220.191406 95.410156 \"/>\n",
       "<path style=\"fill-rule:nonzero;fill:rgb(100%,49.803922%,5.490196%);fill-opacity:1;stroke-width:1;stroke-linecap:butt;stroke-linejoin:miter;stroke:rgb(0%,0%,0%);stroke-opacity:1;stroke-miterlimit:10;\" d=\"M 196.199219 93.90625 C 196.199219 99.429688 191.71875 103.90625 186.199219 103.90625 C 180.675781 103.90625 176.199219 99.429688 176.199219 93.90625 C 176.199219 88.382812 180.675781 83.90625 186.199219 83.90625 C 191.71875 83.90625 196.199219 88.382812 196.199219 93.90625 \"/>\n",
       "<path style=\"fill-rule:nonzero;fill:rgb(100%,49.803922%,5.490196%);fill-opacity:1;stroke-width:1;stroke-linecap:butt;stroke-linejoin:miter;stroke:rgb(0%,0%,0%);stroke-opacity:1;stroke-miterlimit:10;\" d=\"M 174.558594 42.386719 C 174.558594 47.90625 170.082031 52.386719 164.558594 52.386719 C 159.035156 52.386719 154.558594 47.90625 154.558594 42.386719 C 154.558594 36.863281 159.035156 32.386719 164.558594 32.386719 C 170.082031 32.386719 174.558594 36.863281 174.558594 42.386719 \"/>\n",
       "<path style=\"fill-rule:nonzero;fill:rgb(100%,49.803922%,5.490196%);fill-opacity:1;stroke-width:1;stroke-linecap:butt;stroke-linejoin:miter;stroke:rgb(0%,0%,0%);stroke-opacity:1;stroke-miterlimit:10;\" d=\"M 53.53125 117.613281 C 53.53125 123.136719 49.050781 127.613281 43.53125 127.613281 C 38.007812 127.613281 33.53125 123.136719 33.53125 117.613281 C 33.53125 112.09375 38.007812 107.613281 43.53125 107.613281 C 49.050781 107.613281 53.53125 112.09375 53.53125 117.613281 \"/>\n",
       "<path style=\"fill-rule:nonzero;fill:rgb(100%,49.803922%,5.490196%);fill-opacity:1;stroke-width:1;stroke-linecap:butt;stroke-linejoin:miter;stroke:rgb(0%,0%,0%);stroke-opacity:1;stroke-miterlimit:10;\" d=\"M 195.917969 127.445312 C 195.917969 132.96875 191.441406 137.445312 185.917969 137.445312 C 180.394531 137.445312 175.917969 132.96875 175.917969 127.445312 C 175.917969 121.921875 180.394531 117.445312 185.917969 117.445312 C 191.441406 117.445312 195.917969 121.921875 195.917969 127.445312 \"/>\n",
       "<path style=\"fill-rule:nonzero;fill:rgb(100%,49.803922%,5.490196%);fill-opacity:1;stroke-width:1;stroke-linecap:butt;stroke-linejoin:miter;stroke:rgb(0%,0%,0%);stroke-opacity:1;stroke-miterlimit:10;\" d=\"M 109.78125 86.125 C 109.78125 91.644531 105.304688 96.125 99.78125 96.125 C 94.257812 96.125 89.78125 91.644531 89.78125 86.125 C 89.78125 80.601562 94.257812 76.125 99.78125 76.125 C 105.304688 76.125 109.78125 80.601562 109.78125 86.125 \"/>\n",
       "<path style=\"fill-rule:nonzero;fill:rgb(100%,49.803922%,5.490196%);fill-opacity:1;stroke-width:1;stroke-linecap:butt;stroke-linejoin:miter;stroke:rgb(0%,0%,0%);stroke-opacity:1;stroke-miterlimit:10;\" d=\"M 127.730469 82.863281 C 127.730469 88.386719 123.253906 92.863281 117.730469 92.863281 C 112.207031 92.863281 107.730469 88.386719 107.730469 82.863281 C 107.730469 77.339844 112.207031 72.863281 117.730469 72.863281 C 123.253906 72.863281 127.730469 77.339844 127.730469 82.863281 \"/>\n",
       "</g>\n",
       "</svg>\n"
      ],
      "text/plain": [
       "<igraph.drawing.cairo.plot.CairoPlot at 0x7f7a891e46d0>"
      ]
     },
     "execution_count": 4,
     "metadata": {
      "image/svg+xml": {
       "isolated": true
      }
     },
     "output_type": "execute_result"
    }
   ],
   "source": [
    "import seaborn as sns\n",
    "\n",
    "category_list = np.unique(categories)\n",
    "cmap = sns.color_palette()\n",
    "palette = dict(zip(category_list, cmap[: len(category_list)]))\n",
    "node_color = [palette[c] for c in categories]\n",
    "igraph.plot(g, vertex_color=node_color, bbox=(300, 300))"
   ]
  },
  {
   "cell_type": "markdown",
   "id": "2cb66296",
   "metadata": {},
   "source": [
    "We see that the network is highly assortative for who to support. Now, let's consider how to *quantify* the assortativity.\n",
    "A network with strong assortativity has many edges between nodes with the same node attribute. Thus, if we randomly pick an edge from a network, two nodes connected by the edge tend to have the same node attribute.\n",
    "\n",
    "Let's count the node attributes' co-occurrence directly connected by an edge."
   ]
  },
  {
   "cell_type": "code",
   "execution_count": 6,
   "id": "7ed75a9e",
   "metadata": {},
   "outputs": [
    {
     "data": {
      "text/html": [
       "<div>\n",
       "<style scoped>\n",
       "    .dataframe tbody tr th:only-of-type {\n",
       "        vertical-align: middle;\n",
       "    }\n",
       "\n",
       "    .dataframe tbody tr th {\n",
       "        vertical-align: top;\n",
       "    }\n",
       "\n",
       "    .dataframe thead th {\n",
       "        text-align: right;\n",
       "    }\n",
       "</style>\n",
       "<table border=\"1\" class=\"dataframe\">\n",
       "  <thead>\n",
       "    <tr style=\"text-align: right;\">\n",
       "      <th></th>\n",
       "      <th>Mr. Hi</th>\n",
       "      <th>Officer</th>\n",
       "    </tr>\n",
       "  </thead>\n",
       "  <tbody>\n",
       "    <tr>\n",
       "      <th>Mr. Hi</th>\n",
       "      <td>70</td>\n",
       "      <td>11</td>\n",
       "    </tr>\n",
       "    <tr>\n",
       "      <th>Officer</th>\n",
       "      <td>11</td>\n",
       "      <td>64</td>\n",
       "    </tr>\n",
       "  </tbody>\n",
       "</table>\n",
       "</div>"
      ],
      "text/plain": [
       "         Mr. Hi  Officer\n",
       "Mr. Hi       70       11\n",
       "Officer      11       64"
      ]
     },
     "execution_count": 6,
     "metadata": {},
     "output_type": "execute_result"
    }
   ],
   "source": [
    "import pandas as pd\n",
    "\n",
    "# Get the arrays of the source and target nodes\n",
    "src, trg, _ = sparse.find(A)\n",
    "\n",
    "# When using enumerative variables, it is often convenient to construct a membership matrix U, where\n",
    "# The membership matrix is an NxK matrix, where N is the number of nodes, and K is the number of categories (# of unique values the variable can take)\n",
    "# U[i, k] = 1 if node i belongs to category k\n",
    "# U[i, k] = 0 if node i does not belong to category k\n",
    "category_list, category_ids = np.unique(categories, return_inverse=True)\n",
    "rows, cols = np.arange(len(categories), dtype=int), category_ids\n",
    "nrows, ncols = A.shape[0], len(category_list)\n",
    "U = sparse.csr_matrix(\n",
    "    (np.ones_like(rows), (rows, cols)),\n",
    "    shape=(nrows, ncols),\n",
    ")\n",
    "\n",
    "\n",
    "# We can count the number of edges within and between the categories by multiplying\n",
    "# the membership matrix to the adjacency matrix.\n",
    "E = U.T @ A @ U\n",
    "\n",
    "pd.DataFrame(E.toarray(), columns=category_list, index=category_list)"
   ]
  },
  {
   "cell_type": "markdown",
   "id": "3b38e1b2",
   "metadata": {},
   "source": [
    "Now, let's approach it from a statistical perspective by thinking the joint probability distribution $P(X, Y)$ of nodes' attributes, where $X$ and $Y$ represent the node attributes. To ensure that the joint probability adds up to one, let's normalize the count by dividing it by the total count.\n"
   ]
  },
  {
   "cell_type": "code",
   "execution_count": 7,
   "id": "8b7f0b7b",
   "metadata": {},
   "outputs": [
    {
     "data": {
      "text/html": [
       "<div>\n",
       "<style scoped>\n",
       "    .dataframe tbody tr th:only-of-type {\n",
       "        vertical-align: middle;\n",
       "    }\n",
       "\n",
       "    .dataframe tbody tr th {\n",
       "        vertical-align: top;\n",
       "    }\n",
       "\n",
       "    .dataframe thead th {\n",
       "        text-align: right;\n",
       "    }\n",
       "</style>\n",
       "<table border=\"1\" class=\"dataframe\">\n",
       "  <thead>\n",
       "    <tr style=\"text-align: right;\">\n",
       "      <th></th>\n",
       "      <th>Mr. Hi</th>\n",
       "      <th>Officer</th>\n",
       "    </tr>\n",
       "  </thead>\n",
       "  <tbody>\n",
       "    <tr>\n",
       "      <th>Mr. Hi</th>\n",
       "      <td>0.448718</td>\n",
       "      <td>0.070513</td>\n",
       "    </tr>\n",
       "    <tr>\n",
       "      <th>Officer</th>\n",
       "      <td>0.070513</td>\n",
       "      <td>0.410256</td>\n",
       "    </tr>\n",
       "  </tbody>\n",
       "</table>\n",
       "</div>"
      ],
      "text/plain": [
       "           Mr. Hi   Officer\n",
       "Mr. Hi   0.448718  0.070513\n",
       "Officer  0.070513  0.410256"
      ]
     },
     "execution_count": 7,
     "metadata": {},
     "output_type": "execute_result"
    }
   ],
   "source": [
    "total_edges = E.sum()\n",
    "Pxy = E.toarray() / total_edges\n",
    "pd.DataFrame(Pxy, columns=category_list, index=category_list)"
   ]
  },
  {
   "cell_type": "markdown",
   "id": "c34a662a",
   "metadata": {},
   "source": [
    "We see that the same node attributes (diagonals) have a larger co-occurrence probability than different node attributes (off-diagonals), which signals a strong assortativity.\n",
    "\n",
    "But how large is large enough to say that the network is assortative? The network is assortative if the diagonals of the joint probability are larger than that for a network *without* assortative mixing. We can generate a network without assortative mixing by randomly shuffling the node attributes across different nodes. This shuffling breaks the assortative mixing as each node's attribute becomes independent of another node's attribute.\n",
    "\n",
    "To be more precise, the joint probability $P(X,Y) $ in the shuffled data can be expressed as the product of the marginal probabilities $P(X)$ and $P(Y)$, denoted as $P_{\\text{random}}(X,Y) = P(X)P(Y)$.\n",
    "\n",
    "Now, let's calculate the joint probability for this random network."
   ]
  },
  {
   "cell_type": "code",
   "execution_count": 8,
   "id": "0d580f87",
   "metadata": {},
   "outputs": [
    {
     "data": {
      "text/plain": [
       "array([0.51923077, 0.48076923])"
      ]
     },
     "execution_count": 8,
     "metadata": {},
     "output_type": "execute_result"
    }
   ],
   "source": [
    "src, trg, _ = sparse.find(A)\n",
    "Px = np.bincount(category_ids[src]) / len(src)\n",
    "Px"
   ]
  },
  {
   "cell_type": "code",
   "execution_count": 9,
   "id": "760a1c6f",
   "metadata": {},
   "outputs": [
    {
     "data": {
      "text/html": [
       "<div>\n",
       "<style scoped>\n",
       "    .dataframe tbody tr th:only-of-type {\n",
       "        vertical-align: middle;\n",
       "    }\n",
       "\n",
       "    .dataframe tbody tr th {\n",
       "        vertical-align: top;\n",
       "    }\n",
       "\n",
       "    .dataframe thead th {\n",
       "        text-align: right;\n",
       "    }\n",
       "</style>\n",
       "<table border=\"1\" class=\"dataframe\">\n",
       "  <thead>\n",
       "    <tr style=\"text-align: right;\">\n",
       "      <th></th>\n",
       "      <th>Mr. Hi</th>\n",
       "      <th>Officer</th>\n",
       "    </tr>\n",
       "  </thead>\n",
       "  <tbody>\n",
       "    <tr>\n",
       "      <th>Mr. Hi</th>\n",
       "      <td>0.269601</td>\n",
       "      <td>0.249630</td>\n",
       "    </tr>\n",
       "    <tr>\n",
       "      <th>Officer</th>\n",
       "      <td>0.249630</td>\n",
       "      <td>0.231139</td>\n",
       "    </tr>\n",
       "  </tbody>\n",
       "</table>\n",
       "</div>"
      ],
      "text/plain": [
       "           Mr. Hi   Officer\n",
       "Mr. Hi   0.269601  0.249630\n",
       "Officer  0.249630  0.231139"
      ]
     },
     "execution_count": 9,
     "metadata": {},
     "output_type": "execute_result"
    }
   ],
   "source": [
    "Pxy_random = np.outer(Px, Px)\n",
    "pd.DataFrame(Pxy_random, columns=category_list, index=category_list)"
   ]
  },
  {
   "cell_type": "markdown",
   "id": "c808fe63",
   "metadata": {},
   "source": [
    "We now have all the elements to describe ***Modularity*** formally.\n",
    "Modularity quantifies the tendency of connected nodes to have similar attributes more frequently than would be expected by chance. The probability that two nodes share the same attribute is obtained by summing the diagonal values, denoted as $\\sum_{X}P(X,X)$. By comparing this value to the corresponding probability in a random network ($ P_{ \\text{random}}(X,X)$), the modularity is formally defined as\n",
    "$$\n",
    "Q := \\sum_{X}\\left[P(X,X) - P_{\\text{random}}(X, X) \\right]\n",
    "$$\n",
    "\n",
    "or equivalently,\n",
    "\n",
    "$$\n",
    " Q :=\\frac{1}{2m} \\sum_{i,j} \\left(A_{ij} - \\frac{d_i d_j}{2m} \\right) \\delta(x_i,x_j)\n",
    "$$\n",
    "where $d_i$ is the degree of node $i$, $m$ is the number of edges in the network, $x_i$ is the enumerative variable of node $i$, and $\\delta$ is Kronecker's delta which is $\\delta(x_i,x_j)=1$ if $x_i=x_j$ and otherwise $\\delta(x_i,x_j)=0$. The modularity varies between -0.5 and 1, and a higher value implies a stronger assortativity. A negative modularity indicate disassortativity, i.e., nodes are likely to connect to other nodes with a different attribute."
   ]
  },
  {
   "cell_type": "code",
   "execution_count": 13,
   "id": "e78e6c37",
   "metadata": {},
   "outputs": [],
   "source": [
    "Q = np.trace(Pxy - Pxy_random)  # trace is the sum of the diagonals\n"
   ]
  },
  {
   "cell_type": "markdown",
   "id": "2d58552a",
   "metadata": {},
   "source": [
    "The degree assortativity is negative, suggesting that a node with high degree tends to be connected to nodes with a small degree."
   ]
  },
  {
   "cell_type": "markdown",
   "id": "06e8c16d",
   "metadata": {},
   "source": [
    "## Community detection with modularity\n",
    "\n",
    "### Girvan-Newman algorithm\n",
    "Modularity is a valuable tool not only for measuring the level of assortativity in a node attribute, but also for identifying groups with strong assortativity based on the network structure. This problem can be seen as a community detection problem.\n",
    "\n",
    "The [Girvan-Newman algorithm](https://journals.aps.org/pre/abstract/10.1103/PhysRevE.69.026113) utilizes Modularity to identify communities within networks.\n",
    "The Girvan-Newman algorithm works as follows.\n",
    "1. Calculate the betweenness centrality for each edge in the network. This is known as edge betweenness.\n",
    "2. Remove the edge with the highest betweenness centrality.\n",
    "3. Repeat steps 1 and 2 iteratively until no edges remain in the network.\n",
    "4. The iterative process breaks down the network into smaller connected components, which can be visualized as a dendrogram.\n",
    "5. Treat each connected component as a community and calculate the modularity for every cut from top to bottom in the dendrogram.\n",
    "7. Select the cut that achieves the highest modularity.\n",
    "8. Output the communities at that cut.\n",
    "\n",
    "![](https://ars.els-cdn.com/content/image/1-s2.0-S1470160X2100011X-gr3.jpg)\n",
    "\n",
    "Let's implement the algorithm."
   ]
  },
  {
   "cell_type": "code",
   "execution_count": 14,
   "id": "4e320088",
   "metadata": {},
   "outputs": [],
   "source": [
    "def calc_modularity(A, membership):\n",
    "    \"\"\"\n",
    "    Calculate the modularity of a graph given the membership of the nodes.\n",
    "    A: CSR representation of the adjacency matrix\n",
    "    membership: 1D array of integers\n",
    "\n",
    "    Return the modularity value of the given membership.\n",
    "\n",
    "    Hint:\n",
    "    - use sparse.find(A) to find the node ids of the connected nodes.\n",
    "    - use np.unique to get the unique values of the membership array\n",
    "    - Use a memership matrix U, where U[i, k] = 1 if node i belongs to category k, and U[i, k] = 0 otherwise\n",
    "    \"\"\"\n",
    "    Q = ...\n",
    "    return Q\n",
    "\n",
    "\n",
    "def girvan_newman_algorithm(g):\n",
    "    \"\"\"\n",
    "    Perform the Girvan-Newman algorithm on a graph.\n",
    "    g: igraph Graph object\n",
    "\n",
    "    Return the 1D array of membership of the nodes\n",
    "\n",
    "    Hint:\n",
    "    - copy the graph g.copy() before removing edges\n",
    "    - use g.edge_betweenness() to get the edge betweenness\n",
    "    - use g.remove_edge() to remove an edge\n",
    "    - use g.components() to get the connected components\n",
    "    - compute the modularity Q using the function above\n",
    "    - keep track of the maximum Q and the membership array that gives the maximum Q\n",
    "    \"\"\"\n",
    "    membership = ...\n",
    "    return membership"
   ]
  },
  {
   "cell_type": "markdown",
   "id": "f6330d7f",
   "metadata": {},
   "source": [
    "Identify the communities by the Girvan-Newman algorithm. "
   ]
  },
  {
   "cell_type": "code",
   "execution_count": 15,
   "id": "18713f09",
   "metadata": {},
   "outputs": [
    {
     "ename": "TypeError",
     "evalue": "'ellipsis' object is not iterable",
     "output_type": "error",
     "traceback": [
      "\u001b[0;31m---------------------------------------------------------------------------\u001b[0m",
      "\u001b[0;31mTypeError\u001b[0m                                 Traceback (most recent call last)",
      "\u001b[1;32m/Users/skojaku-admin/Documents/projects/teaching/adv-net-sci/codespaces/CommunityDetection/notebooks/exercise.ipynb Cell 22\u001b[0m line \u001b[0;36m4\n\u001b[1;32m      <a href='vscode-notebook-cell:/Users/skojaku-admin/Documents/projects/teaching/adv-net-sci/codespaces/CommunityDetection/notebooks/exercise.ipynb#X30sZmlsZQ%3D%3D?line=0'>1</a>\u001b[0m community_membership \u001b[39m=\u001b[39m girvan_newman_algorithm(g)\n\u001b[1;32m      <a href='vscode-notebook-cell:/Users/skojaku-admin/Documents/projects/teaching/adv-net-sci/codespaces/CommunityDetection/notebooks/exercise.ipynb#X30sZmlsZQ%3D%3D?line=2'>3</a>\u001b[0m cmap \u001b[39m=\u001b[39m sns\u001b[39m.\u001b[39mcolor_palette(\u001b[39m\"\u001b[39m\u001b[39mcolorblind\u001b[39m\u001b[39m\"\u001b[39m)\n\u001b[0;32m----> <a href='vscode-notebook-cell:/Users/skojaku-admin/Documents/projects/teaching/adv-net-sci/codespaces/CommunityDetection/notebooks/exercise.ipynb#X30sZmlsZQ%3D%3D?line=3'>4</a>\u001b[0m palette \u001b[39m=\u001b[39m \u001b[39mdict\u001b[39m(\u001b[39mzip\u001b[39m(\u001b[39mset\u001b[39;49m(community_membership), cmap[: \u001b[39mlen\u001b[39m(\u001b[39mset\u001b[39m(community_membership))]))\n\u001b[1;32m      <a href='vscode-notebook-cell:/Users/skojaku-admin/Documents/projects/teaching/adv-net-sci/codespaces/CommunityDetection/notebooks/exercise.ipynb#X30sZmlsZQ%3D%3D?line=4'>5</a>\u001b[0m node_color \u001b[39m=\u001b[39m [palette[c] \u001b[39mfor\u001b[39;00m c \u001b[39min\u001b[39;00m community_membership]\n\u001b[1;32m      <a href='vscode-notebook-cell:/Users/skojaku-admin/Documents/projects/teaching/adv-net-sci/codespaces/CommunityDetection/notebooks/exercise.ipynb#X30sZmlsZQ%3D%3D?line=5'>6</a>\u001b[0m igraph\u001b[39m.\u001b[39mplot(g, vertex_color\u001b[39m=\u001b[39mnode_color, bbox\u001b[39m=\u001b[39m(\u001b[39m300\u001b[39m, \u001b[39m300\u001b[39m))\n",
      "\u001b[0;31mTypeError\u001b[0m: 'ellipsis' object is not iterable"
     ]
    }
   ],
   "source": [
    "community_membership = girvan_newman_algorithm(g)\n",
    "\n",
    "cmap = sns.color_palette(\"colorblind\")\n",
    "palette = dict(zip(set(community_membership), cmap[: len(set(community_membership))]))\n",
    "node_color = [palette[c] for c in community_membership]\n",
    "igraph.plot(g, vertex_color=node_color, bbox=(300, 300))"
   ]
  },
  {
   "cell_type": "markdown",
   "id": "1ff39f07",
   "metadata": {},
   "source": [
    "\n",
    "\n",
    "\n",
    "### Modularity maximization\n",
    "\n",
    "The Girvan-Newman algorithm uses the Modularity as a selection criterion to pick the best partition of nodes into communities. But later, people realized that it is possible to directly *maximize* Modularity, which yields an even-more assortative grouping of nodes.\n",
    "\n",
    "Unfortunately, the modularity maximization is an NP-hard problem. So many heuristics are developed to find communities in networks with a reasonably high modularity value. [The Louvain algorithm](https://iopscience.iop.org/article/10.1088/1742-5468/2008/10/P10008) had been the to-go method for the modularity maximization. But the algorithm is replaced by [the Laiden algorithm](https://www.nature.com/articles/s41598-019-41695-z) which runs faster and finds better communities in terms of the modularity. The Leiden algorithm is implemented in igraph.\n"
   ]
  },
  {
   "cell_type": "code",
   "execution_count": 16,
   "id": "9e202d6c",
   "metadata": {},
   "outputs": [
    {
     "data": {
      "text/plain": [
       "array([0, 0, 0, 0, 1, 1, 1, 0, 2, 2, 1, 0, 0, 0, 2, 2, 1, 0, 2, 0, 2, 0,\n",
       "       2, 3, 3, 3, 2, 3, 3, 2, 2, 3, 2, 2])"
      ]
     },
     "execution_count": 16,
     "metadata": {},
     "output_type": "execute_result"
    }
   ],
   "source": [
    "community_membership = g.community_leiden(\"modularity\").membership\n",
    "community_membership = np.array(community_membership)\n",
    "community_membership"
   ]
  },
  {
   "cell_type": "code",
   "execution_count": 17,
   "id": "d3be2d6c",
   "metadata": {},
   "outputs": [
    {
     "data": {
      "image/svg+xml": [
       "<?xml version=\"1.0\" encoding=\"UTF-8\"?>\n",
       "<svg xmlns=\"http://www.w3.org/2000/svg\" xmlns:xlink=\"http://www.w3.org/1999/xlink\" width=\"300pt\" height=\"300pt\" viewBox=\"0 0 300 300\" version=\"1.1\">\n",
       "<g id=\"surface14\">\n",
       "<rect x=\"0\" y=\"0\" width=\"300\" height=\"300\" style=\"fill:rgb(100%,100%,100%);fill-opacity:1;stroke:none;\"/>\n",
       "<path style=\"fill:none;stroke-width:1;stroke-linecap:butt;stroke-linejoin:miter;stroke:rgb(26.666667%,26.666667%,26.666667%);stroke-opacity:1;stroke-miterlimit:10;\" d=\"M 135.25 187.199219 L 88.394531 172.304688 \"/>\n",
       "<path style=\"fill:none;stroke-width:1;stroke-linecap:butt;stroke-linejoin:miter;stroke:rgb(26.666667%,26.666667%,26.666667%);stroke-opacity:1;stroke-miterlimit:10;\" d=\"M 135.25 187.199219 L 152.933594 136.320312 \"/>\n",
       "<path style=\"fill:none;stroke-width:1;stroke-linecap:butt;stroke-linejoin:miter;stroke:rgb(26.666667%,26.666667%,26.666667%);stroke-opacity:1;stroke-miterlimit:10;\" d=\"M 88.394531 172.304688 L 152.933594 136.320312 \"/>\n",
       "<path style=\"fill:none;stroke-width:1;stroke-linecap:butt;stroke-linejoin:miter;stroke:rgb(26.666667%,26.666667%,26.666667%);stroke-opacity:1;stroke-miterlimit:10;\" d=\"M 135.25 187.199219 L 153.957031 175.265625 \"/>\n",
       "<path style=\"fill:none;stroke-width:1;stroke-linecap:butt;stroke-linejoin:miter;stroke:rgb(26.666667%,26.666667%,26.666667%);stroke-opacity:1;stroke-miterlimit:10;\" d=\"M 88.394531 172.304688 L 153.957031 175.265625 \"/>\n",
       "<path style=\"fill:none;stroke-width:1;stroke-linecap:butt;stroke-linejoin:miter;stroke:rgb(26.666667%,26.666667%,26.666667%);stroke-opacity:1;stroke-miterlimit:10;\" d=\"M 152.933594 136.320312 L 153.957031 175.265625 \"/>\n",
       "<path style=\"fill:none;stroke-width:1;stroke-linecap:butt;stroke-linejoin:miter;stroke:rgb(26.666667%,26.666667%,26.666667%);stroke-opacity:1;stroke-miterlimit:10;\" d=\"M 135.25 187.199219 L 239.691406 201.546875 \"/>\n",
       "<path style=\"fill:none;stroke-width:1;stroke-linecap:butt;stroke-linejoin:miter;stroke:rgb(26.666667%,26.666667%,26.666667%);stroke-opacity:1;stroke-miterlimit:10;\" d=\"M 135.25 187.199219 L 159.222656 241.8125 \"/>\n",
       "<path style=\"fill:none;stroke-width:1;stroke-linecap:butt;stroke-linejoin:miter;stroke:rgb(26.666667%,26.666667%,26.666667%);stroke-opacity:1;stroke-miterlimit:10;\" d=\"M 135.25 187.199219 L 204.128906 231.523438 \"/>\n",
       "<path style=\"fill:none;stroke-width:1;stroke-linecap:butt;stroke-linejoin:miter;stroke:rgb(26.666667%,26.666667%,26.666667%);stroke-opacity:1;stroke-miterlimit:10;\" d=\"M 239.691406 201.546875 L 204.128906 231.523438 \"/>\n",
       "<path style=\"fill:none;stroke-width:1;stroke-linecap:butt;stroke-linejoin:miter;stroke:rgb(26.666667%,26.666667%,26.666667%);stroke-opacity:1;stroke-miterlimit:10;\" d=\"M 159.222656 241.8125 L 204.128906 231.523438 \"/>\n",
       "<path style=\"fill:none;stroke-width:1;stroke-linecap:butt;stroke-linejoin:miter;stroke:rgb(26.666667%,26.666667%,26.666667%);stroke-opacity:1;stroke-miterlimit:10;\" d=\"M 135.25 187.199219 L 195.40625 171.046875 \"/>\n",
       "<path style=\"fill:none;stroke-width:1;stroke-linecap:butt;stroke-linejoin:miter;stroke:rgb(26.666667%,26.666667%,26.666667%);stroke-opacity:1;stroke-miterlimit:10;\" d=\"M 88.394531 172.304688 L 195.40625 171.046875 \"/>\n",
       "<path style=\"fill:none;stroke-width:1;stroke-linecap:butt;stroke-linejoin:miter;stroke:rgb(26.666667%,26.666667%,26.666667%);stroke-opacity:1;stroke-miterlimit:10;\" d=\"M 152.933594 136.320312 L 195.40625 171.046875 \"/>\n",
       "<path style=\"fill:none;stroke-width:1;stroke-linecap:butt;stroke-linejoin:miter;stroke:rgb(26.666667%,26.666667%,26.666667%);stroke-opacity:1;stroke-miterlimit:10;\" d=\"M 153.957031 175.265625 L 195.40625 171.046875 \"/>\n",
       "<path style=\"fill:none;stroke-width:1;stroke-linecap:butt;stroke-linejoin:miter;stroke:rgb(26.666667%,26.666667%,26.666667%);stroke-opacity:1;stroke-miterlimit:10;\" d=\"M 135.25 187.199219 L 93.839844 131.648438 \"/>\n",
       "<path style=\"fill:none;stroke-width:1;stroke-linecap:butt;stroke-linejoin:miter;stroke:rgb(26.666667%,26.666667%,26.666667%);stroke-opacity:1;stroke-miterlimit:10;\" d=\"M 152.933594 136.320312 L 93.839844 131.648438 \"/>\n",
       "<path style=\"fill:none;stroke-width:1;stroke-linecap:butt;stroke-linejoin:miter;stroke:rgb(26.666667%,26.666667%,26.666667%);stroke-opacity:1;stroke-miterlimit:10;\" d=\"M 152.933594 136.320312 L 158.285156 93.035156 \"/>\n",
       "<path style=\"fill:none;stroke-width:1;stroke-linecap:butt;stroke-linejoin:miter;stroke:rgb(26.666667%,26.666667%,26.666667%);stroke-opacity:1;stroke-miterlimit:10;\" d=\"M 135.25 187.199219 L 201.183594 216.214844 \"/>\n",
       "<path style=\"fill:none;stroke-width:1;stroke-linecap:butt;stroke-linejoin:miter;stroke:rgb(26.666667%,26.666667%,26.666667%);stroke-opacity:1;stroke-miterlimit:10;\" d=\"M 239.691406 201.546875 L 201.183594 216.214844 \"/>\n",
       "<path style=\"fill:none;stroke-width:1;stroke-linecap:butt;stroke-linejoin:miter;stroke:rgb(26.666667%,26.666667%,26.666667%);stroke-opacity:1;stroke-miterlimit:10;\" d=\"M 159.222656 241.8125 L 201.183594 216.214844 \"/>\n",
       "<path style=\"fill:none;stroke-width:1;stroke-linecap:butt;stroke-linejoin:miter;stroke:rgb(26.666667%,26.666667%,26.666667%);stroke-opacity:1;stroke-miterlimit:10;\" d=\"M 135.25 187.199219 L 81.503906 234.9375 \"/>\n",
       "<path style=\"fill:none;stroke-width:1;stroke-linecap:butt;stroke-linejoin:miter;stroke:rgb(26.666667%,26.666667%,26.666667%);stroke-opacity:1;stroke-miterlimit:10;\" d=\"M 135.25 187.199219 L 121.117188 227.421875 \"/>\n",
       "<path style=\"fill:none;stroke-width:1;stroke-linecap:butt;stroke-linejoin:miter;stroke:rgb(26.666667%,26.666667%,26.666667%);stroke-opacity:1;stroke-miterlimit:10;\" d=\"M 153.957031 175.265625 L 121.117188 227.421875 \"/>\n",
       "<path style=\"fill:none;stroke-width:1;stroke-linecap:butt;stroke-linejoin:miter;stroke:rgb(26.666667%,26.666667%,26.666667%);stroke-opacity:1;stroke-miterlimit:10;\" d=\"M 135.25 187.199219 L 112.117188 142.675781 \"/>\n",
       "<path style=\"fill:none;stroke-width:1;stroke-linecap:butt;stroke-linejoin:miter;stroke:rgb(26.666667%,26.666667%,26.666667%);stroke-opacity:1;stroke-miterlimit:10;\" d=\"M 88.394531 172.304688 L 112.117188 142.675781 \"/>\n",
       "<path style=\"fill:none;stroke-width:1;stroke-linecap:butt;stroke-linejoin:miter;stroke:rgb(26.666667%,26.666667%,26.666667%);stroke-opacity:1;stroke-miterlimit:10;\" d=\"M 152.933594 136.320312 L 112.117188 142.675781 \"/>\n",
       "<path style=\"fill:none;stroke-width:1;stroke-linecap:butt;stroke-linejoin:miter;stroke:rgb(26.666667%,26.666667%,26.666667%);stroke-opacity:1;stroke-miterlimit:10;\" d=\"M 153.957031 175.265625 L 112.117188 142.675781 \"/>\n",
       "<path style=\"fill:none;stroke-width:1;stroke-linecap:butt;stroke-linejoin:miter;stroke:rgb(26.666667%,26.666667%,26.666667%);stroke-opacity:1;stroke-miterlimit:10;\" d=\"M 159.222656 241.8125 L 218.210938 280 \"/>\n",
       "<path style=\"fill:none;stroke-width:1;stroke-linecap:butt;stroke-linejoin:miter;stroke:rgb(26.666667%,26.666667%,26.666667%);stroke-opacity:1;stroke-miterlimit:10;\" d=\"M 204.128906 231.523438 L 218.210938 280 \"/>\n",
       "<path style=\"fill:none;stroke-width:1;stroke-linecap:butt;stroke-linejoin:miter;stroke:rgb(26.666667%,26.666667%,26.666667%);stroke-opacity:1;stroke-miterlimit:10;\" d=\"M 135.25 187.199219 L 36.539062 199.703125 \"/>\n",
       "<path style=\"fill:none;stroke-width:1;stroke-linecap:butt;stroke-linejoin:miter;stroke:rgb(26.666667%,26.666667%,26.666667%);stroke-opacity:1;stroke-miterlimit:10;\" d=\"M 88.394531 172.304688 L 36.539062 199.703125 \"/>\n",
       "<path style=\"fill:none;stroke-width:1;stroke-linecap:butt;stroke-linejoin:miter;stroke:rgb(26.666667%,26.666667%,26.666667%);stroke-opacity:1;stroke-miterlimit:10;\" d=\"M 135.25 187.199219 L 67.367188 142.605469 \"/>\n",
       "<path style=\"fill:none;stroke-width:1;stroke-linecap:butt;stroke-linejoin:miter;stroke:rgb(26.666667%,26.666667%,26.666667%);stroke-opacity:1;stroke-miterlimit:10;\" d=\"M 88.394531 172.304688 L 67.367188 142.605469 \"/>\n",
       "<path style=\"fill:none;stroke-width:1;stroke-linecap:butt;stroke-linejoin:miter;stroke:rgb(26.666667%,26.666667%,26.666667%);stroke-opacity:1;stroke-miterlimit:10;\" d=\"M 135.25 187.199219 L 57.894531 213.238281 \"/>\n",
       "<path style=\"fill:none;stroke-width:1;stroke-linecap:butt;stroke-linejoin:miter;stroke:rgb(26.666667%,26.666667%,26.666667%);stroke-opacity:1;stroke-miterlimit:10;\" d=\"M 88.394531 172.304688 L 57.894531 213.238281 \"/>\n",
       "<path style=\"fill:none;stroke-width:1;stroke-linecap:butt;stroke-linejoin:miter;stroke:rgb(26.666667%,26.666667%,26.666667%);stroke-opacity:1;stroke-miterlimit:10;\" d=\"M 203.121094 60.371094 L 272.636719 116.835938 \"/>\n",
       "<path style=\"fill:none;stroke-width:1;stroke-linecap:butt;stroke-linejoin:miter;stroke:rgb(26.666667%,26.666667%,26.666667%);stroke-opacity:1;stroke-miterlimit:10;\" d=\"M 280 97.191406 L 272.636719 116.835938 \"/>\n",
       "<path style=\"fill:none;stroke-width:1;stroke-linecap:butt;stroke-linejoin:miter;stroke:rgb(26.666667%,26.666667%,26.666667%);stroke-opacity:1;stroke-miterlimit:10;\" d=\"M 152.933594 136.320312 L 210.191406 95.410156 \"/>\n",
       "<path style=\"fill:none;stroke-width:1;stroke-linecap:butt;stroke-linejoin:miter;stroke:rgb(26.666667%,26.666667%,26.666667%);stroke-opacity:1;stroke-miterlimit:10;\" d=\"M 203.121094 60.371094 L 210.191406 95.410156 \"/>\n",
       "<path style=\"fill:none;stroke-width:1;stroke-linecap:butt;stroke-linejoin:miter;stroke:rgb(26.666667%,26.666667%,26.666667%);stroke-opacity:1;stroke-miterlimit:10;\" d=\"M 280 97.191406 L 210.191406 95.410156 \"/>\n",
       "<path style=\"fill:none;stroke-width:1;stroke-linecap:butt;stroke-linejoin:miter;stroke:rgb(26.666667%,26.666667%,26.666667%);stroke-opacity:1;stroke-miterlimit:10;\" d=\"M 152.933594 136.320312 L 186.199219 93.90625 \"/>\n",
       "<path style=\"fill:none;stroke-width:1;stroke-linecap:butt;stroke-linejoin:miter;stroke:rgb(26.666667%,26.666667%,26.666667%);stroke-opacity:1;stroke-miterlimit:10;\" d=\"M 203.121094 60.371094 L 164.558594 42.386719 \"/>\n",
       "<path style=\"fill:none;stroke-width:1;stroke-linecap:butt;stroke-linejoin:miter;stroke:rgb(26.666667%,26.666667%,26.666667%);stroke-opacity:1;stroke-miterlimit:10;\" d=\"M 139.347656 20 L 164.558594 42.386719 \"/>\n",
       "<path style=\"fill:none;stroke-width:1;stroke-linecap:butt;stroke-linejoin:miter;stroke:rgb(26.666667%,26.666667%,26.666667%);stroke-opacity:1;stroke-miterlimit:10;\" d=\"M 88.394531 172.304688 L 43.53125 117.613281 \"/>\n",
       "<path style=\"fill:none;stroke-width:1;stroke-linecap:butt;stroke-linejoin:miter;stroke:rgb(26.666667%,26.666667%,26.666667%);stroke-opacity:1;stroke-miterlimit:10;\" d=\"M 93.839844 131.648438 L 43.53125 117.613281 \"/>\n",
       "<path style=\"fill:none;stroke-width:1;stroke-linecap:butt;stroke-linejoin:miter;stroke:rgb(26.666667%,26.666667%,26.666667%);stroke-opacity:1;stroke-miterlimit:10;\" d=\"M 135.25 187.199219 L 185.917969 127.445312 \"/>\n",
       "<path style=\"fill:none;stroke-width:1;stroke-linecap:butt;stroke-linejoin:miter;stroke:rgb(26.666667%,26.666667%,26.666667%);stroke-opacity:1;stroke-miterlimit:10;\" d=\"M 280 97.191406 L 185.917969 127.445312 \"/>\n",
       "<path style=\"fill:none;stroke-width:1;stroke-linecap:butt;stroke-linejoin:miter;stroke:rgb(26.666667%,26.666667%,26.666667%);stroke-opacity:1;stroke-miterlimit:10;\" d=\"M 272.636719 116.835938 L 185.917969 127.445312 \"/>\n",
       "<path style=\"fill:none;stroke-width:1;stroke-linecap:butt;stroke-linejoin:miter;stroke:rgb(26.666667%,26.666667%,26.666667%);stroke-opacity:1;stroke-miterlimit:10;\" d=\"M 186.199219 93.90625 L 185.917969 127.445312 \"/>\n",
       "<path style=\"fill:none;stroke-width:1;stroke-linecap:butt;stroke-linejoin:miter;stroke:rgb(26.666667%,26.666667%,26.666667%);stroke-opacity:1;stroke-miterlimit:10;\" d=\"M 152.933594 136.320312 L 99.78125 86.125 \"/>\n",
       "<path style=\"fill:none;stroke-width:1;stroke-linecap:butt;stroke-linejoin:miter;stroke:rgb(26.666667%,26.666667%,26.666667%);stroke-opacity:1;stroke-miterlimit:10;\" d=\"M 93.839844 131.648438 L 99.78125 86.125 \"/>\n",
       "<path style=\"fill:none;stroke-width:1;stroke-linecap:butt;stroke-linejoin:miter;stroke:rgb(26.666667%,26.666667%,26.666667%);stroke-opacity:1;stroke-miterlimit:10;\" d=\"M 76.507812 38.511719 L 99.78125 86.125 \"/>\n",
       "<path style=\"fill:none;stroke-width:1;stroke-linecap:butt;stroke-linejoin:miter;stroke:rgb(26.666667%,26.666667%,26.666667%);stroke-opacity:1;stroke-miterlimit:10;\" d=\"M 30.738281 64.691406 L 99.78125 86.125 \"/>\n",
       "<path style=\"fill:none;stroke-width:1;stroke-linecap:butt;stroke-linejoin:miter;stroke:rgb(26.666667%,26.666667%,26.666667%);stroke-opacity:1;stroke-miterlimit:10;\" d=\"M 20 81.96875 L 99.78125 86.125 \"/>\n",
       "<path style=\"fill:none;stroke-width:1;stroke-linecap:butt;stroke-linejoin:miter;stroke:rgb(26.666667%,26.666667%,26.666667%);stroke-opacity:1;stroke-miterlimit:10;\" d=\"M 49.894531 49.550781 L 99.78125 86.125 \"/>\n",
       "<path style=\"fill:none;stroke-width:1;stroke-linecap:butt;stroke-linejoin:miter;stroke:rgb(26.666667%,26.666667%,26.666667%);stroke-opacity:1;stroke-miterlimit:10;\" d=\"M 109.835938 36.0625 L 99.78125 86.125 \"/>\n",
       "<path style=\"fill:none;stroke-width:1;stroke-linecap:butt;stroke-linejoin:miter;stroke:rgb(26.666667%,26.666667%,26.666667%);stroke-opacity:1;stroke-miterlimit:10;\" d=\"M 203.121094 60.371094 L 99.78125 86.125 \"/>\n",
       "<path style=\"fill:none;stroke-width:1;stroke-linecap:butt;stroke-linejoin:miter;stroke:rgb(26.666667%,26.666667%,26.666667%);stroke-opacity:1;stroke-miterlimit:10;\" d=\"M 164.558594 42.386719 L 99.78125 86.125 \"/>\n",
       "<path style=\"fill:none;stroke-width:1;stroke-linecap:butt;stroke-linejoin:miter;stroke:rgb(26.666667%,26.666667%,26.666667%);stroke-opacity:1;stroke-miterlimit:10;\" d=\"M 43.53125 117.613281 L 99.78125 86.125 \"/>\n",
       "<path style=\"fill:none;stroke-width:1;stroke-linecap:butt;stroke-linejoin:miter;stroke:rgb(26.666667%,26.666667%,26.666667%);stroke-opacity:1;stroke-miterlimit:10;\" d=\"M 185.917969 127.445312 L 99.78125 86.125 \"/>\n",
       "<path style=\"fill:none;stroke-width:1;stroke-linecap:butt;stroke-linejoin:miter;stroke:rgb(26.666667%,26.666667%,26.666667%);stroke-opacity:1;stroke-miterlimit:10;\" d=\"M 93.839844 131.648438 L 117.730469 82.863281 \"/>\n",
       "<path style=\"fill:none;stroke-width:1;stroke-linecap:butt;stroke-linejoin:miter;stroke:rgb(26.666667%,26.666667%,26.666667%);stroke-opacity:1;stroke-miterlimit:10;\" d=\"M 158.285156 93.035156 L 117.730469 82.863281 \"/>\n",
       "<path style=\"fill:none;stroke-width:1;stroke-linecap:butt;stroke-linejoin:miter;stroke:rgb(26.666667%,26.666667%,26.666667%);stroke-opacity:1;stroke-miterlimit:10;\" d=\"M 112.117188 142.675781 L 117.730469 82.863281 \"/>\n",
       "<path style=\"fill:none;stroke-width:1;stroke-linecap:butt;stroke-linejoin:miter;stroke:rgb(26.666667%,26.666667%,26.666667%);stroke-opacity:1;stroke-miterlimit:10;\" d=\"M 76.507812 38.511719 L 117.730469 82.863281 \"/>\n",
       "<path style=\"fill:none;stroke-width:1;stroke-linecap:butt;stroke-linejoin:miter;stroke:rgb(26.666667%,26.666667%,26.666667%);stroke-opacity:1;stroke-miterlimit:10;\" d=\"M 30.738281 64.691406 L 117.730469 82.863281 \"/>\n",
       "<path style=\"fill:none;stroke-width:1;stroke-linecap:butt;stroke-linejoin:miter;stroke:rgb(26.666667%,26.666667%,26.666667%);stroke-opacity:1;stroke-miterlimit:10;\" d=\"M 20 81.96875 L 117.730469 82.863281 \"/>\n",
       "<path style=\"fill:none;stroke-width:1;stroke-linecap:butt;stroke-linejoin:miter;stroke:rgb(26.666667%,26.666667%,26.666667%);stroke-opacity:1;stroke-miterlimit:10;\" d=\"M 67.367188 142.605469 L 117.730469 82.863281 \"/>\n",
       "<path style=\"fill:none;stroke-width:1;stroke-linecap:butt;stroke-linejoin:miter;stroke:rgb(26.666667%,26.666667%,26.666667%);stroke-opacity:1;stroke-miterlimit:10;\" d=\"M 49.894531 49.550781 L 117.730469 82.863281 \"/>\n",
       "<path style=\"fill:none;stroke-width:1;stroke-linecap:butt;stroke-linejoin:miter;stroke:rgb(26.666667%,26.666667%,26.666667%);stroke-opacity:1;stroke-miterlimit:10;\" d=\"M 109.835938 36.0625 L 117.730469 82.863281 \"/>\n",
       "<path style=\"fill:none;stroke-width:1;stroke-linecap:butt;stroke-linejoin:miter;stroke:rgb(26.666667%,26.666667%,26.666667%);stroke-opacity:1;stroke-miterlimit:10;\" d=\"M 203.121094 60.371094 L 117.730469 82.863281 \"/>\n",
       "<path style=\"fill:none;stroke-width:1;stroke-linecap:butt;stroke-linejoin:miter;stroke:rgb(26.666667%,26.666667%,26.666667%);stroke-opacity:1;stroke-miterlimit:10;\" d=\"M 139.347656 20 L 117.730469 82.863281 \"/>\n",
       "<path style=\"fill:none;stroke-width:1;stroke-linecap:butt;stroke-linejoin:miter;stroke:rgb(26.666667%,26.666667%,26.666667%);stroke-opacity:1;stroke-miterlimit:10;\" d=\"M 210.191406 95.410156 L 117.730469 82.863281 \"/>\n",
       "<path style=\"fill:none;stroke-width:1;stroke-linecap:butt;stroke-linejoin:miter;stroke:rgb(26.666667%,26.666667%,26.666667%);stroke-opacity:1;stroke-miterlimit:10;\" d=\"M 186.199219 93.90625 L 117.730469 82.863281 \"/>\n",
       "<path style=\"fill:none;stroke-width:1;stroke-linecap:butt;stroke-linejoin:miter;stroke:rgb(26.666667%,26.666667%,26.666667%);stroke-opacity:1;stroke-miterlimit:10;\" d=\"M 164.558594 42.386719 L 117.730469 82.863281 \"/>\n",
       "<path style=\"fill:none;stroke-width:1;stroke-linecap:butt;stroke-linejoin:miter;stroke:rgb(26.666667%,26.666667%,26.666667%);stroke-opacity:1;stroke-miterlimit:10;\" d=\"M 43.53125 117.613281 L 117.730469 82.863281 \"/>\n",
       "<path style=\"fill:none;stroke-width:1;stroke-linecap:butt;stroke-linejoin:miter;stroke:rgb(26.666667%,26.666667%,26.666667%);stroke-opacity:1;stroke-miterlimit:10;\" d=\"M 185.917969 127.445312 L 117.730469 82.863281 \"/>\n",
       "<path style=\"fill:none;stroke-width:1;stroke-linecap:butt;stroke-linejoin:miter;stroke:rgb(26.666667%,26.666667%,26.666667%);stroke-opacity:1;stroke-miterlimit:10;\" d=\"M 99.78125 86.125 L 117.730469 82.863281 \"/>\n",
       "<path style=\"fill-rule:nonzero;fill:rgb(0.392157%,45.098039%,69.803922%);fill-opacity:1;stroke-width:1;stroke-linecap:butt;stroke-linejoin:miter;stroke:rgb(0%,0%,0%);stroke-opacity:1;stroke-miterlimit:10;\" d=\"M 145.25 187.199219 C 145.25 192.722656 140.773438 197.199219 135.25 197.199219 C 129.730469 197.199219 125.25 192.722656 125.25 187.199219 C 125.25 181.675781 129.730469 177.199219 135.25 177.199219 C 140.773438 177.199219 145.25 181.675781 145.25 187.199219 \"/>\n",
       "<path style=\"fill-rule:nonzero;fill:rgb(0.392157%,45.098039%,69.803922%);fill-opacity:1;stroke-width:1;stroke-linecap:butt;stroke-linejoin:miter;stroke:rgb(0%,0%,0%);stroke-opacity:1;stroke-miterlimit:10;\" d=\"M 98.394531 172.304688 C 98.394531 177.828125 93.917969 182.304688 88.394531 182.304688 C 82.871094 182.304688 78.394531 177.828125 78.394531 172.304688 C 78.394531 166.78125 82.871094 162.304688 88.394531 162.304688 C 93.917969 162.304688 98.394531 166.78125 98.394531 172.304688 \"/>\n",
       "<path style=\"fill-rule:nonzero;fill:rgb(0.392157%,45.098039%,69.803922%);fill-opacity:1;stroke-width:1;stroke-linecap:butt;stroke-linejoin:miter;stroke:rgb(0%,0%,0%);stroke-opacity:1;stroke-miterlimit:10;\" d=\"M 162.933594 136.320312 C 162.933594 141.84375 158.457031 146.320312 152.933594 146.320312 C 147.410156 146.320312 142.933594 141.84375 142.933594 136.320312 C 142.933594 130.796875 147.410156 126.320312 152.933594 126.320312 C 158.457031 126.320312 162.933594 130.796875 162.933594 136.320312 \"/>\n",
       "<path style=\"fill-rule:nonzero;fill:rgb(0.392157%,45.098039%,69.803922%);fill-opacity:1;stroke-width:1;stroke-linecap:butt;stroke-linejoin:miter;stroke:rgb(0%,0%,0%);stroke-opacity:1;stroke-miterlimit:10;\" d=\"M 163.957031 175.265625 C 163.957031 180.789062 159.480469 185.265625 153.957031 185.265625 C 148.433594 185.265625 143.957031 180.789062 143.957031 175.265625 C 143.957031 169.742188 148.433594 165.265625 153.957031 165.265625 C 159.480469 165.265625 163.957031 169.742188 163.957031 175.265625 \"/>\n",
       "<path style=\"fill-rule:nonzero;fill:rgb(87.058824%,56.078431%,1.960784%);fill-opacity:1;stroke-width:1;stroke-linecap:butt;stroke-linejoin:miter;stroke:rgb(0%,0%,0%);stroke-opacity:1;stroke-miterlimit:10;\" d=\"M 249.691406 201.546875 C 249.691406 207.070312 245.214844 211.546875 239.691406 211.546875 C 234.171875 211.546875 229.691406 207.070312 229.691406 201.546875 C 229.691406 196.023438 234.171875 191.546875 239.691406 191.546875 C 245.214844 191.546875 249.691406 196.023438 249.691406 201.546875 \"/>\n",
       "<path style=\"fill-rule:nonzero;fill:rgb(87.058824%,56.078431%,1.960784%);fill-opacity:1;stroke-width:1;stroke-linecap:butt;stroke-linejoin:miter;stroke:rgb(0%,0%,0%);stroke-opacity:1;stroke-miterlimit:10;\" d=\"M 169.222656 241.8125 C 169.222656 247.335938 164.746094 251.8125 159.222656 251.8125 C 153.703125 251.8125 149.222656 247.335938 149.222656 241.8125 C 149.222656 236.289062 153.703125 231.8125 159.222656 231.8125 C 164.746094 231.8125 169.222656 236.289062 169.222656 241.8125 \"/>\n",
       "<path style=\"fill-rule:nonzero;fill:rgb(87.058824%,56.078431%,1.960784%);fill-opacity:1;stroke-width:1;stroke-linecap:butt;stroke-linejoin:miter;stroke:rgb(0%,0%,0%);stroke-opacity:1;stroke-miterlimit:10;\" d=\"M 214.128906 231.523438 C 214.128906 237.042969 209.652344 241.523438 204.128906 241.523438 C 198.609375 241.523438 194.128906 237.042969 194.128906 231.523438 C 194.128906 226 198.609375 221.523438 204.128906 221.523438 C 209.652344 221.523438 214.128906 226 214.128906 231.523438 \"/>\n",
       "<path style=\"fill-rule:nonzero;fill:rgb(0.392157%,45.098039%,69.803922%);fill-opacity:1;stroke-width:1;stroke-linecap:butt;stroke-linejoin:miter;stroke:rgb(0%,0%,0%);stroke-opacity:1;stroke-miterlimit:10;\" d=\"M 205.40625 171.046875 C 205.40625 176.570312 200.929688 181.046875 195.40625 181.046875 C 189.882812 181.046875 185.40625 176.570312 185.40625 171.046875 C 185.40625 165.523438 189.882812 161.046875 195.40625 161.046875 C 200.929688 161.046875 205.40625 165.523438 205.40625 171.046875 \"/>\n",
       "<path style=\"fill-rule:nonzero;fill:rgb(0.784314%,61.960784%,45.098039%);fill-opacity:1;stroke-width:1;stroke-linecap:butt;stroke-linejoin:miter;stroke:rgb(0%,0%,0%);stroke-opacity:1;stroke-miterlimit:10;\" d=\"M 103.839844 131.648438 C 103.839844 137.171875 99.359375 141.648438 93.839844 141.648438 C 88.316406 141.648438 83.839844 137.171875 83.839844 131.648438 C 83.839844 126.125 88.316406 121.648438 93.839844 121.648438 C 99.359375 121.648438 103.839844 126.125 103.839844 131.648438 \"/>\n",
       "<path style=\"fill-rule:nonzero;fill:rgb(0.784314%,61.960784%,45.098039%);fill-opacity:1;stroke-width:1;stroke-linecap:butt;stroke-linejoin:miter;stroke:rgb(0%,0%,0%);stroke-opacity:1;stroke-miterlimit:10;\" d=\"M 168.285156 93.035156 C 168.285156 98.558594 163.808594 103.035156 158.285156 103.035156 C 152.765625 103.035156 148.285156 98.558594 148.285156 93.035156 C 148.285156 87.511719 152.765625 83.035156 158.285156 83.035156 C 163.808594 83.035156 168.285156 87.511719 168.285156 93.035156 \"/>\n",
       "<path style=\"fill-rule:nonzero;fill:rgb(87.058824%,56.078431%,1.960784%);fill-opacity:1;stroke-width:1;stroke-linecap:butt;stroke-linejoin:miter;stroke:rgb(0%,0%,0%);stroke-opacity:1;stroke-miterlimit:10;\" d=\"M 211.183594 216.214844 C 211.183594 221.738281 206.707031 226.214844 201.183594 226.214844 C 195.664062 226.214844 191.183594 221.738281 191.183594 216.214844 C 191.183594 210.691406 195.664062 206.214844 201.183594 206.214844 C 206.707031 206.214844 211.183594 210.691406 211.183594 216.214844 \"/>\n",
       "<path style=\"fill-rule:nonzero;fill:rgb(0.392157%,45.098039%,69.803922%);fill-opacity:1;stroke-width:1;stroke-linecap:butt;stroke-linejoin:miter;stroke:rgb(0%,0%,0%);stroke-opacity:1;stroke-miterlimit:10;\" d=\"M 91.503906 234.9375 C 91.503906 240.460938 87.027344 244.9375 81.503906 244.9375 C 75.984375 244.9375 71.503906 240.460938 71.503906 234.9375 C 71.503906 229.414062 75.984375 224.9375 81.503906 224.9375 C 87.027344 224.9375 91.503906 229.414062 91.503906 234.9375 \"/>\n",
       "<path style=\"fill-rule:nonzero;fill:rgb(0.392157%,45.098039%,69.803922%);fill-opacity:1;stroke-width:1;stroke-linecap:butt;stroke-linejoin:miter;stroke:rgb(0%,0%,0%);stroke-opacity:1;stroke-miterlimit:10;\" d=\"M 131.117188 227.421875 C 131.117188 232.941406 126.640625 237.421875 121.117188 237.421875 C 115.59375 237.421875 111.117188 232.941406 111.117188 227.421875 C 111.117188 221.898438 115.59375 217.421875 121.117188 217.421875 C 126.640625 217.421875 131.117188 221.898438 131.117188 227.421875 \"/>\n",
       "<path style=\"fill-rule:nonzero;fill:rgb(0.392157%,45.098039%,69.803922%);fill-opacity:1;stroke-width:1;stroke-linecap:butt;stroke-linejoin:miter;stroke:rgb(0%,0%,0%);stroke-opacity:1;stroke-miterlimit:10;\" d=\"M 122.117188 142.675781 C 122.117188 148.199219 117.640625 152.675781 112.117188 152.675781 C 106.59375 152.675781 102.117188 148.199219 102.117188 142.675781 C 102.117188 137.152344 106.59375 132.675781 112.117188 132.675781 C 117.640625 132.675781 122.117188 137.152344 122.117188 142.675781 \"/>\n",
       "<path style=\"fill-rule:nonzero;fill:rgb(0.784314%,61.960784%,45.098039%);fill-opacity:1;stroke-width:1;stroke-linecap:butt;stroke-linejoin:miter;stroke:rgb(0%,0%,0%);stroke-opacity:1;stroke-miterlimit:10;\" d=\"M 86.507812 38.511719 C 86.507812 44.03125 82.03125 48.511719 76.507812 48.511719 C 70.984375 48.511719 66.507812 44.03125 66.507812 38.511719 C 66.507812 32.988281 70.984375 28.511719 76.507812 28.511719 C 82.03125 28.511719 86.507812 32.988281 86.507812 38.511719 \"/>\n",
       "<path style=\"fill-rule:nonzero;fill:rgb(0.784314%,61.960784%,45.098039%);fill-opacity:1;stroke-width:1;stroke-linecap:butt;stroke-linejoin:miter;stroke:rgb(0%,0%,0%);stroke-opacity:1;stroke-miterlimit:10;\" d=\"M 40.738281 64.691406 C 40.738281 70.214844 36.261719 74.691406 30.738281 74.691406 C 25.214844 74.691406 20.738281 70.214844 20.738281 64.691406 C 20.738281 59.167969 25.214844 54.691406 30.738281 54.691406 C 36.261719 54.691406 40.738281 59.167969 40.738281 64.691406 \"/>\n",
       "<path style=\"fill-rule:nonzero;fill:rgb(87.058824%,56.078431%,1.960784%);fill-opacity:1;stroke-width:1;stroke-linecap:butt;stroke-linejoin:miter;stroke:rgb(0%,0%,0%);stroke-opacity:1;stroke-miterlimit:10;\" d=\"M 228.210938 280 C 228.210938 285.523438 223.734375 290 218.210938 290 C 212.6875 290 208.210938 285.523438 208.210938 280 C 208.210938 274.476562 212.6875 270 218.210938 270 C 223.734375 270 228.210938 274.476562 228.210938 280 \"/>\n",
       "<path style=\"fill-rule:nonzero;fill:rgb(0.392157%,45.098039%,69.803922%);fill-opacity:1;stroke-width:1;stroke-linecap:butt;stroke-linejoin:miter;stroke:rgb(0%,0%,0%);stroke-opacity:1;stroke-miterlimit:10;\" d=\"M 46.539062 199.703125 C 46.539062 205.226562 42.0625 209.703125 36.539062 209.703125 C 31.015625 209.703125 26.539062 205.226562 26.539062 199.703125 C 26.539062 194.183594 31.015625 189.703125 36.539062 189.703125 C 42.0625 189.703125 46.539062 194.183594 46.539062 199.703125 \"/>\n",
       "<path style=\"fill-rule:nonzero;fill:rgb(0.784314%,61.960784%,45.098039%);fill-opacity:1;stroke-width:1;stroke-linecap:butt;stroke-linejoin:miter;stroke:rgb(0%,0%,0%);stroke-opacity:1;stroke-miterlimit:10;\" d=\"M 30 81.96875 C 30 87.492188 25.523438 91.96875 20 91.96875 C 14.476562 91.96875 10 87.492188 10 81.96875 C 10 76.445312 14.476562 71.96875 20 71.96875 C 25.523438 71.96875 30 76.445312 30 81.96875 \"/>\n",
       "<path style=\"fill-rule:nonzero;fill:rgb(0.392157%,45.098039%,69.803922%);fill-opacity:1;stroke-width:1;stroke-linecap:butt;stroke-linejoin:miter;stroke:rgb(0%,0%,0%);stroke-opacity:1;stroke-miterlimit:10;\" d=\"M 77.367188 142.605469 C 77.367188 148.128906 72.890625 152.605469 67.367188 152.605469 C 61.847656 152.605469 57.367188 148.128906 57.367188 142.605469 C 57.367188 137.082031 61.847656 132.605469 67.367188 132.605469 C 72.890625 132.605469 77.367188 137.082031 77.367188 142.605469 \"/>\n",
       "<path style=\"fill-rule:nonzero;fill:rgb(0.784314%,61.960784%,45.098039%);fill-opacity:1;stroke-width:1;stroke-linecap:butt;stroke-linejoin:miter;stroke:rgb(0%,0%,0%);stroke-opacity:1;stroke-miterlimit:10;\" d=\"M 59.894531 49.550781 C 59.894531 55.074219 55.417969 59.550781 49.894531 59.550781 C 44.371094 59.550781 39.894531 55.074219 39.894531 49.550781 C 39.894531 44.027344 44.371094 39.550781 49.894531 39.550781 C 55.417969 39.550781 59.894531 44.027344 59.894531 49.550781 \"/>\n",
       "<path style=\"fill-rule:nonzero;fill:rgb(0.392157%,45.098039%,69.803922%);fill-opacity:1;stroke-width:1;stroke-linecap:butt;stroke-linejoin:miter;stroke:rgb(0%,0%,0%);stroke-opacity:1;stroke-miterlimit:10;\" d=\"M 67.894531 213.238281 C 67.894531 218.761719 63.417969 223.238281 57.894531 223.238281 C 52.375 223.238281 47.894531 218.761719 47.894531 213.238281 C 47.894531 207.714844 52.375 203.238281 57.894531 203.238281 C 63.417969 203.238281 67.894531 207.714844 67.894531 213.238281 \"/>\n",
       "<path style=\"fill-rule:nonzero;fill:rgb(0.784314%,61.960784%,45.098039%);fill-opacity:1;stroke-width:1;stroke-linecap:butt;stroke-linejoin:miter;stroke:rgb(0%,0%,0%);stroke-opacity:1;stroke-miterlimit:10;\" d=\"M 119.835938 36.0625 C 119.835938 41.585938 115.359375 46.0625 109.835938 46.0625 C 104.3125 46.0625 99.835938 41.585938 99.835938 36.0625 C 99.835938 30.539062 104.3125 26.0625 109.835938 26.0625 C 115.359375 26.0625 119.835938 30.539062 119.835938 36.0625 \"/>\n",
       "<path style=\"fill-rule:nonzero;fill:rgb(83.529412%,36.862745%,0%);fill-opacity:1;stroke-width:1;stroke-linecap:butt;stroke-linejoin:miter;stroke:rgb(0%,0%,0%);stroke-opacity:1;stroke-miterlimit:10;\" d=\"M 213.121094 60.371094 C 213.121094 65.894531 208.644531 70.371094 203.121094 70.371094 C 197.597656 70.371094 193.121094 65.894531 193.121094 60.371094 C 193.121094 54.847656 197.597656 50.371094 203.121094 50.371094 C 208.644531 50.371094 213.121094 54.847656 213.121094 60.371094 \"/>\n",
       "<path style=\"fill-rule:nonzero;fill:rgb(83.529412%,36.862745%,0%);fill-opacity:1;stroke-width:1;stroke-linecap:butt;stroke-linejoin:miter;stroke:rgb(0%,0%,0%);stroke-opacity:1;stroke-miterlimit:10;\" d=\"M 290 97.191406 C 290 102.714844 285.523438 107.191406 280 107.191406 C 274.476562 107.191406 270 102.714844 270 97.191406 C 270 91.671875 274.476562 87.191406 280 87.191406 C 285.523438 87.191406 290 91.671875 290 97.191406 \"/>\n",
       "<path style=\"fill-rule:nonzero;fill:rgb(83.529412%,36.862745%,0%);fill-opacity:1;stroke-width:1;stroke-linecap:butt;stroke-linejoin:miter;stroke:rgb(0%,0%,0%);stroke-opacity:1;stroke-miterlimit:10;\" d=\"M 282.636719 116.835938 C 282.636719 122.359375 278.160156 126.835938 272.636719 126.835938 C 267.113281 126.835938 262.636719 122.359375 262.636719 116.835938 C 262.636719 111.3125 267.113281 106.835938 272.636719 106.835938 C 278.160156 106.835938 282.636719 111.3125 282.636719 116.835938 \"/>\n",
       "<path style=\"fill-rule:nonzero;fill:rgb(0.784314%,61.960784%,45.098039%);fill-opacity:1;stroke-width:1;stroke-linecap:butt;stroke-linejoin:miter;stroke:rgb(0%,0%,0%);stroke-opacity:1;stroke-miterlimit:10;\" d=\"M 149.347656 20 C 149.347656 25.523438 144.871094 30 139.347656 30 C 133.824219 30 129.347656 25.523438 129.347656 20 C 129.347656 14.476562 133.824219 10 139.347656 10 C 144.871094 10 149.347656 14.476562 149.347656 20 \"/>\n",
       "<path style=\"fill-rule:nonzero;fill:rgb(83.529412%,36.862745%,0%);fill-opacity:1;stroke-width:1;stroke-linecap:butt;stroke-linejoin:miter;stroke:rgb(0%,0%,0%);stroke-opacity:1;stroke-miterlimit:10;\" d=\"M 220.191406 95.410156 C 220.191406 100.933594 215.714844 105.410156 210.191406 105.410156 C 204.671875 105.410156 200.191406 100.933594 200.191406 95.410156 C 200.191406 89.886719 204.671875 85.410156 210.191406 85.410156 C 215.714844 85.410156 220.191406 89.886719 220.191406 95.410156 \"/>\n",
       "<path style=\"fill-rule:nonzero;fill:rgb(83.529412%,36.862745%,0%);fill-opacity:1;stroke-width:1;stroke-linecap:butt;stroke-linejoin:miter;stroke:rgb(0%,0%,0%);stroke-opacity:1;stroke-miterlimit:10;\" d=\"M 196.199219 93.90625 C 196.199219 99.429688 191.71875 103.90625 186.199219 103.90625 C 180.675781 103.90625 176.199219 99.429688 176.199219 93.90625 C 176.199219 88.382812 180.675781 83.90625 186.199219 83.90625 C 191.71875 83.90625 196.199219 88.382812 196.199219 93.90625 \"/>\n",
       "<path style=\"fill-rule:nonzero;fill:rgb(0.784314%,61.960784%,45.098039%);fill-opacity:1;stroke-width:1;stroke-linecap:butt;stroke-linejoin:miter;stroke:rgb(0%,0%,0%);stroke-opacity:1;stroke-miterlimit:10;\" d=\"M 174.558594 42.386719 C 174.558594 47.90625 170.082031 52.386719 164.558594 52.386719 C 159.035156 52.386719 154.558594 47.90625 154.558594 42.386719 C 154.558594 36.863281 159.035156 32.386719 164.558594 32.386719 C 170.082031 32.386719 174.558594 36.863281 174.558594 42.386719 \"/>\n",
       "<path style=\"fill-rule:nonzero;fill:rgb(0.784314%,61.960784%,45.098039%);fill-opacity:1;stroke-width:1;stroke-linecap:butt;stroke-linejoin:miter;stroke:rgb(0%,0%,0%);stroke-opacity:1;stroke-miterlimit:10;\" d=\"M 53.53125 117.613281 C 53.53125 123.136719 49.050781 127.613281 43.53125 127.613281 C 38.007812 127.613281 33.53125 123.136719 33.53125 117.613281 C 33.53125 112.09375 38.007812 107.613281 43.53125 107.613281 C 49.050781 107.613281 53.53125 112.09375 53.53125 117.613281 \"/>\n",
       "<path style=\"fill-rule:nonzero;fill:rgb(83.529412%,36.862745%,0%);fill-opacity:1;stroke-width:1;stroke-linecap:butt;stroke-linejoin:miter;stroke:rgb(0%,0%,0%);stroke-opacity:1;stroke-miterlimit:10;\" d=\"M 195.917969 127.445312 C 195.917969 132.96875 191.441406 137.445312 185.917969 137.445312 C 180.394531 137.445312 175.917969 132.96875 175.917969 127.445312 C 175.917969 121.921875 180.394531 117.445312 185.917969 117.445312 C 191.441406 117.445312 195.917969 121.921875 195.917969 127.445312 \"/>\n",
       "<path style=\"fill-rule:nonzero;fill:rgb(0.784314%,61.960784%,45.098039%);fill-opacity:1;stroke-width:1;stroke-linecap:butt;stroke-linejoin:miter;stroke:rgb(0%,0%,0%);stroke-opacity:1;stroke-miterlimit:10;\" d=\"M 109.78125 86.125 C 109.78125 91.644531 105.304688 96.125 99.78125 96.125 C 94.257812 96.125 89.78125 91.644531 89.78125 86.125 C 89.78125 80.601562 94.257812 76.125 99.78125 76.125 C 105.304688 76.125 109.78125 80.601562 109.78125 86.125 \"/>\n",
       "<path style=\"fill-rule:nonzero;fill:rgb(0.784314%,61.960784%,45.098039%);fill-opacity:1;stroke-width:1;stroke-linecap:butt;stroke-linejoin:miter;stroke:rgb(0%,0%,0%);stroke-opacity:1;stroke-miterlimit:10;\" d=\"M 127.730469 82.863281 C 127.730469 88.386719 123.253906 92.863281 117.730469 92.863281 C 112.207031 92.863281 107.730469 88.386719 107.730469 82.863281 C 107.730469 77.339844 112.207031 72.863281 117.730469 72.863281 C 123.253906 72.863281 127.730469 77.339844 127.730469 82.863281 \"/>\n",
       "</g>\n",
       "</svg>\n"
      ],
      "text/plain": [
       "<igraph.drawing.cairo.plot.CairoPlot at 0x7f7a699412e0>"
      ]
     },
     "execution_count": 17,
     "metadata": {
      "image/svg+xml": {
       "isolated": true
      }
     },
     "output_type": "execute_result"
    }
   ],
   "source": [
    "cmap = sns.color_palette(\"colorblind\")\n",
    "palette = dict(zip(set(community_membership), cmap[: len(set(community_membership))]))\n",
    "node_color = [palette[c] for c in community_membership]\n",
    "igraph.plot(g, vertex_color=node_color, bbox=(300, 300))"
   ]
  },
  {
   "cell_type": "markdown",
   "id": "5c8d9141",
   "metadata": {},
   "source": [
    "# Modeling communities in networks\n",
    "\n",
    "The stochastic block model (SBM) characterizes communities in networks from a perspective of probabilities. Specifically, in SBM, every node belongs to one of the $K$ groups, where $K$ is the number of groups. A node $i$ in group $k$ is connected to another node $j$ in group $\\ell$ by a probability $p_{k\\ell}$ determined by the nodes' group membership (i.e., $k$ and $\\ell$).\n",
    "\n",
    "Let's implement the SBM. First, here is an example of the parameter configuration."
   ]
  },
  {
   "cell_type": "code",
   "execution_count": 18,
   "id": "30ff35bf",
   "metadata": {},
   "outputs": [],
   "source": [
    "# Determine the size of the network\n",
    "n_nodes = 100\n",
    "\n",
    "# Number of groups\n",
    "K = 3\n",
    "\n",
    "# Define the membership of nodes to a group\n",
    "membership = np.random.choice(K, size=n_nodes)\n",
    "\n",
    "# Define the probability of connection between groups\n",
    "P = np.array([[0.3, 0.05, 0.05], [0.05, 0.3, 0.05], [0.05, 0.05, 0.3]])"
   ]
  },
  {
   "cell_type": "markdown",
   "id": "95bb3c62",
   "metadata": {},
   "source": [
    "And implement the following function to generate a network with the SBM."
   ]
  },
  {
   "cell_type": "code",
   "execution_count": 19,
   "id": "e049ee1b",
   "metadata": {},
   "outputs": [
    {
     "ename": "NameError",
     "evalue": "name 'net' is not defined",
     "output_type": "error",
     "traceback": [
      "\u001b[0;31m---------------------------------------------------------------------------\u001b[0m",
      "\u001b[0;31mNameError\u001b[0m                                 Traceback (most recent call last)",
      "\u001b[1;32m/Users/skojaku-admin/Documents/projects/teaching/adv-net-sci/codespaces/CommunityDetection/notebooks/exercise.ipynb Cell 29\u001b[0m line \u001b[0;36m1\n\u001b[1;32m      <a href='vscode-notebook-cell:/Users/skojaku-admin/Documents/projects/teaching/adv-net-sci/codespaces/CommunityDetection/notebooks/exercise.ipynb#X40sZmlsZQ%3D%3D?line=1'>2</a>\u001b[0m \u001b[39m    \u001b[39m\u001b[39m\"\"\"\u001b[39;00m\n\u001b[1;32m      <a href='vscode-notebook-cell:/Users/skojaku-admin/Documents/projects/teaching/adv-net-sci/codespaces/CommunityDetection/notebooks/exercise.ipynb#X40sZmlsZQ%3D%3D?line=2'>3</a>\u001b[0m \u001b[39m    Generate a stochastic block model network\u001b[39;00m\n\u001b[1;32m      <a href='vscode-notebook-cell:/Users/skojaku-admin/Documents/projects/teaching/adv-net-sci/codespaces/CommunityDetection/notebooks/exercise.ipynb#X40sZmlsZQ%3D%3D?line=3'>4</a>\u001b[0m \u001b[39m    n_nodes: number of nodes\u001b[39;00m\n\u001b[0;32m   (...)\u001b[0m\n\u001b[1;32m     <a href='vscode-notebook-cell:/Users/skojaku-admin/Documents/projects/teaching/adv-net-sci/codespaces/CommunityDetection/notebooks/exercise.ipynb#X40sZmlsZQ%3D%3D?line=9'>10</a>\u001b[0m \n\u001b[1;32m     <a href='vscode-notebook-cell:/Users/skojaku-admin/Documents/projects/teaching/adv-net-sci/codespaces/CommunityDetection/notebooks/exercise.ipynb#X40sZmlsZQ%3D%3D?line=10'>11</a>\u001b[0m \u001b[39m    \"\"\"\u001b[39;00m\n\u001b[1;32m     <a href='vscode-notebook-cell:/Users/skojaku-admin/Documents/projects/teaching/adv-net-sci/codespaces/CommunityDetection/notebooks/exercise.ipynb#X40sZmlsZQ%3D%3D?line=11'>12</a>\u001b[0m     \u001b[39mreturn\u001b[39;00m net\n\u001b[0;32m---> <a href='vscode-notebook-cell:/Users/skojaku-admin/Documents/projects/teaching/adv-net-sci/codespaces/CommunityDetection/notebooks/exercise.ipynb#X40sZmlsZQ%3D%3D?line=14'>15</a>\u001b[0m Asbm \u001b[39m=\u001b[39m generate_SBM_network(n_nodes, membership, P)\n",
      "\u001b[1;32m/Users/skojaku-admin/Documents/projects/teaching/adv-net-sci/codespaces/CommunityDetection/notebooks/exercise.ipynb Cell 29\u001b[0m line \u001b[0;36m1\n\u001b[1;32m      <a href='vscode-notebook-cell:/Users/skojaku-admin/Documents/projects/teaching/adv-net-sci/codespaces/CommunityDetection/notebooks/exercise.ipynb#X40sZmlsZQ%3D%3D?line=0'>1</a>\u001b[0m \u001b[39mdef\u001b[39;00m \u001b[39mgenerate_SBM_network\u001b[39m(n_nodes, membership, P):\n\u001b[1;32m      <a href='vscode-notebook-cell:/Users/skojaku-admin/Documents/projects/teaching/adv-net-sci/codespaces/CommunityDetection/notebooks/exercise.ipynb#X40sZmlsZQ%3D%3D?line=1'>2</a>\u001b[0m \u001b[39m    \u001b[39m\u001b[39m\"\"\"\u001b[39;00m\n\u001b[1;32m      <a href='vscode-notebook-cell:/Users/skojaku-admin/Documents/projects/teaching/adv-net-sci/codespaces/CommunityDetection/notebooks/exercise.ipynb#X40sZmlsZQ%3D%3D?line=2'>3</a>\u001b[0m \u001b[39m    Generate a stochastic block model network\u001b[39;00m\n\u001b[1;32m      <a href='vscode-notebook-cell:/Users/skojaku-admin/Documents/projects/teaching/adv-net-sci/codespaces/CommunityDetection/notebooks/exercise.ipynb#X40sZmlsZQ%3D%3D?line=3'>4</a>\u001b[0m \u001b[39m    n_nodes: number of nodes\u001b[39;00m\n\u001b[0;32m   (...)\u001b[0m\n\u001b[1;32m     <a href='vscode-notebook-cell:/Users/skojaku-admin/Documents/projects/teaching/adv-net-sci/codespaces/CommunityDetection/notebooks/exercise.ipynb#X40sZmlsZQ%3D%3D?line=9'>10</a>\u001b[0m \n\u001b[1;32m     <a href='vscode-notebook-cell:/Users/skojaku-admin/Documents/projects/teaching/adv-net-sci/codespaces/CommunityDetection/notebooks/exercise.ipynb#X40sZmlsZQ%3D%3D?line=10'>11</a>\u001b[0m \u001b[39m    \"\"\"\u001b[39;00m\n\u001b[0;32m---> <a href='vscode-notebook-cell:/Users/skojaku-admin/Documents/projects/teaching/adv-net-sci/codespaces/CommunityDetection/notebooks/exercise.ipynb#X40sZmlsZQ%3D%3D?line=11'>12</a>\u001b[0m     \u001b[39mreturn\u001b[39;00m net\n",
      "\u001b[0;31mNameError\u001b[0m: name 'net' is not defined"
     ]
    }
   ],
   "source": [
    "def generate_SBM_network(n_nodes, membership, P):\n",
    "    \"\"\"\n",
    "    Generate a stochastic block model network\n",
    "    n_nodes: number of nodes\n",
    "    membership: 1D array of integers\n",
    "    P: 2D array of connection probability between groups\n",
    "\n",
    "    Return:\n",
    "    net: CSR representation of the adjacency matrix generated by the SBM\n",
    "\n",
    "    \"\"\"\n",
    "    return net\n",
    "\n",
    "\n",
    "Asbm = generate_SBM_network(n_nodes, membership, P)"
   ]
  },
  {
   "cell_type": "markdown",
   "id": "829e7577",
   "metadata": {},
   "source": [
    "And let's visualize it"
   ]
  },
  {
   "cell_type": "code",
   "execution_count": 20,
   "id": "aec4b654",
   "metadata": {},
   "outputs": [
    {
     "ename": "NameError",
     "evalue": "name 'Asbm' is not defined",
     "output_type": "error",
     "traceback": [
      "\u001b[0;31m---------------------------------------------------------------------------\u001b[0m",
      "\u001b[0;31mNameError\u001b[0m                                 Traceback (most recent call last)",
      "\u001b[1;32m/Users/skojaku-admin/Documents/projects/teaching/adv-net-sci/codespaces/CommunityDetection/notebooks/exercise.ipynb Cell 31\u001b[0m line \u001b[0;36m2\n\u001b[1;32m      <a href='vscode-notebook-cell:/Users/skojaku-admin/Documents/projects/teaching/adv-net-sci/codespaces/CommunityDetection/notebooks/exercise.ipynb#X42sZmlsZQ%3D%3D?line=0'>1</a>\u001b[0m \u001b[39m# Convert to igraph object for visualization\u001b[39;00m\n\u001b[0;32m----> <a href='vscode-notebook-cell:/Users/skojaku-admin/Documents/projects/teaching/adv-net-sci/codespaces/CommunityDetection/notebooks/exercise.ipynb#X42sZmlsZQ%3D%3D?line=1'>2</a>\u001b[0m src, trg, _ \u001b[39m=\u001b[39m sparse\u001b[39m.\u001b[39mfind(sparse\u001b[39m.\u001b[39mtriu(Asbm, \u001b[39m1\u001b[39m))\n\u001b[1;32m      <a href='vscode-notebook-cell:/Users/skojaku-admin/Documents/projects/teaching/adv-net-sci/codespaces/CommunityDetection/notebooks/exercise.ipynb#X42sZmlsZQ%3D%3D?line=2'>3</a>\u001b[0m g \u001b[39m=\u001b[39m igraph\u001b[39m.\u001b[39mGraph(edges\u001b[39m=\u001b[39m\u001b[39mlist\u001b[39m(\u001b[39mzip\u001b[39m(src, trg)), directed\u001b[39m=\u001b[39m\u001b[39mFalse\u001b[39;00m)\n\u001b[1;32m      <a href='vscode-notebook-cell:/Users/skojaku-admin/Documents/projects/teaching/adv-net-sci/codespaces/CommunityDetection/notebooks/exercise.ipynb#X42sZmlsZQ%3D%3D?line=4'>5</a>\u001b[0m palette \u001b[39m=\u001b[39m \u001b[39mdict\u001b[39m(\u001b[39mzip\u001b[39m(\u001b[39mset\u001b[39m(membership), cmap[: \u001b[39mlen\u001b[39m(\u001b[39mset\u001b[39m(membership))]))\n",
      "\u001b[0;31mNameError\u001b[0m: name 'Asbm' is not defined"
     ]
    }
   ],
   "source": [
    "# Convert to igraph object for visualization\n",
    "src, trg, _ = sparse.find(sparse.triu(Asbm, 1))\n",
    "g = igraph.Graph(edges=list(zip(src, trg)), directed=False)\n",
    "\n",
    "palette = dict(zip(set(membership), cmap[: len(set(membership))]))\n",
    "node_color = [palette[c] for c in membership]\n",
    "igraph.plot(g, layout=\"kk\", vertex_color=node_color, bbox=(300, 300))"
   ]
  },
  {
   "cell_type": "markdown",
   "id": "f760c6ab",
   "metadata": {},
   "source": [
    "#  Modularity is not a silver bullet\n",
    "\n",
    "Modularity has some critical drawbacks ([see here](https://skewed.de/tiago/blog/modularity-harmful)). One notable limitation is the [resolution limit](https://www.pnas.org/doi/10.1073/pnas.0605965104) which states that the modularity maximization fails to find small groups even if they exist in the network.\n",
    "\n",
    "Let's confirm the limitation by running a modularity maximization on a network with many small communities. We generate the network by using the SBM with the following configuration: \n",
    "- Number of nodes is 120\n",
    "- Number of groups is 20 \n",
    "- Each group consists of 6 nodes \n",
    "- Nodes in the same group are connected by an edge with probability 0.9\n",
    "- Nodes in different groups are connected by an edge with probability 1/120.\n",
    "\n",
    "Let's generate a network with the SBM and run the Leiden algorithm "
   ]
  },
  {
   "cell_type": "code",
   "execution_count": 21,
   "id": "b11e94ac",
   "metadata": {},
   "outputs": [
    {
     "ename": "NameError",
     "evalue": "name 'net' is not defined",
     "output_type": "error",
     "traceback": [
      "\u001b[0;31m---------------------------------------------------------------------------\u001b[0m",
      "\u001b[0;31mNameError\u001b[0m                                 Traceback (most recent call last)",
      "\u001b[1;32m/Users/skojaku-admin/Documents/projects/teaching/adv-net-sci/codespaces/CommunityDetection/notebooks/exercise.ipynb Cell 33\u001b[0m line \u001b[0;36m7\n\u001b[1;32m      <a href='vscode-notebook-cell:/Users/skojaku-admin/Documents/projects/teaching/adv-net-sci/codespaces/CommunityDetection/notebooks/exercise.ipynb#X44sZmlsZQ%3D%3D?line=3'>4</a>\u001b[0m membership \u001b[39m=\u001b[39m np\u001b[39m.\u001b[39marange(n_nodes) \u001b[39m/\u001b[39m\u001b[39m/\u001b[39m n_nodes_per_community\n\u001b[1;32m      <a href='vscode-notebook-cell:/Users/skojaku-admin/Documents/projects/teaching/adv-net-sci/codespaces/CommunityDetection/notebooks/exercise.ipynb#X44sZmlsZQ%3D%3D?line=4'>5</a>\u001b[0m P \u001b[39m=\u001b[39m np\u001b[39m.\u001b[39mones(K) \u001b[39m*\u001b[39m (\u001b[39m1.0\u001b[39m \u001b[39m/\u001b[39m n_nodes) \u001b[39m+\u001b[39m np\u001b[39m.\u001b[39meye(K) \u001b[39m*\u001b[39m \u001b[39m0.9\u001b[39m\n\u001b[0;32m----> <a href='vscode-notebook-cell:/Users/skojaku-admin/Documents/projects/teaching/adv-net-sci/codespaces/CommunityDetection/notebooks/exercise.ipynb#X44sZmlsZQ%3D%3D?line=6'>7</a>\u001b[0m net \u001b[39m=\u001b[39m generate_SBM_network(n_nodes\u001b[39m=\u001b[39;49mn_nodes, membership\u001b[39m=\u001b[39;49mmembership, P\u001b[39m=\u001b[39;49mP)\n",
      "\u001b[1;32m/Users/skojaku-admin/Documents/projects/teaching/adv-net-sci/codespaces/CommunityDetection/notebooks/exercise.ipynb Cell 33\u001b[0m line \u001b[0;36m1\n\u001b[1;32m      <a href='vscode-notebook-cell:/Users/skojaku-admin/Documents/projects/teaching/adv-net-sci/codespaces/CommunityDetection/notebooks/exercise.ipynb#X44sZmlsZQ%3D%3D?line=0'>1</a>\u001b[0m \u001b[39mdef\u001b[39;00m \u001b[39mgenerate_SBM_network\u001b[39m(n_nodes, membership, P):\n\u001b[1;32m      <a href='vscode-notebook-cell:/Users/skojaku-admin/Documents/projects/teaching/adv-net-sci/codespaces/CommunityDetection/notebooks/exercise.ipynb#X44sZmlsZQ%3D%3D?line=1'>2</a>\u001b[0m \u001b[39m    \u001b[39m\u001b[39m\"\"\"\u001b[39;00m\n\u001b[1;32m      <a href='vscode-notebook-cell:/Users/skojaku-admin/Documents/projects/teaching/adv-net-sci/codespaces/CommunityDetection/notebooks/exercise.ipynb#X44sZmlsZQ%3D%3D?line=2'>3</a>\u001b[0m \u001b[39m    Generate a stochastic block model network\u001b[39;00m\n\u001b[1;32m      <a href='vscode-notebook-cell:/Users/skojaku-admin/Documents/projects/teaching/adv-net-sci/codespaces/CommunityDetection/notebooks/exercise.ipynb#X44sZmlsZQ%3D%3D?line=3'>4</a>\u001b[0m \u001b[39m    n_nodes: number of nodes\u001b[39;00m\n\u001b[0;32m   (...)\u001b[0m\n\u001b[1;32m     <a href='vscode-notebook-cell:/Users/skojaku-admin/Documents/projects/teaching/adv-net-sci/codespaces/CommunityDetection/notebooks/exercise.ipynb#X44sZmlsZQ%3D%3D?line=9'>10</a>\u001b[0m \n\u001b[1;32m     <a href='vscode-notebook-cell:/Users/skojaku-admin/Documents/projects/teaching/adv-net-sci/codespaces/CommunityDetection/notebooks/exercise.ipynb#X44sZmlsZQ%3D%3D?line=10'>11</a>\u001b[0m \u001b[39m    \"\"\"\u001b[39;00m\n\u001b[0;32m---> <a href='vscode-notebook-cell:/Users/skojaku-admin/Documents/projects/teaching/adv-net-sci/codespaces/CommunityDetection/notebooks/exercise.ipynb#X44sZmlsZQ%3D%3D?line=11'>12</a>\u001b[0m     \u001b[39mreturn\u001b[39;00m net\n",
      "\u001b[0;31mNameError\u001b[0m: name 'net' is not defined"
     ]
    }
   ],
   "source": [
    "n_nodes = 120\n",
    "K = 20\n",
    "n_nodes_per_community = 6\n",
    "membership = np.arange(n_nodes) // n_nodes_per_community\n",
    "P = np.ones(K) * (1.0 / n_nodes) + np.eye(K) * 0.9\n",
    "\n",
    "net = generate_SBM_network(n_nodes=n_nodes, membership=membership, P=P)"
   ]
  },
  {
   "cell_type": "code",
   "execution_count": 22,
   "id": "32de01f4",
   "metadata": {},
   "outputs": [
    {
     "ename": "NameError",
     "evalue": "name 'net' is not defined",
     "output_type": "error",
     "traceback": [
      "\u001b[0;31m---------------------------------------------------------------------------\u001b[0m",
      "\u001b[0;31mNameError\u001b[0m                                 Traceback (most recent call last)",
      "\u001b[1;32m/Users/skojaku-admin/Documents/projects/teaching/adv-net-sci/codespaces/CommunityDetection/notebooks/exercise.ipynb Cell 34\u001b[0m line \u001b[0;36m2\n\u001b[1;32m      <a href='vscode-notebook-cell:/Users/skojaku-admin/Documents/projects/teaching/adv-net-sci/codespaces/CommunityDetection/notebooks/exercise.ipynb#X45sZmlsZQ%3D%3D?line=0'>1</a>\u001b[0m \u001b[39m# Convert to igraph object for visualization\u001b[39;00m\n\u001b[0;32m----> <a href='vscode-notebook-cell:/Users/skojaku-admin/Documents/projects/teaching/adv-net-sci/codespaces/CommunityDetection/notebooks/exercise.ipynb#X45sZmlsZQ%3D%3D?line=1'>2</a>\u001b[0m src, trg, _ \u001b[39m=\u001b[39m sparse\u001b[39m.\u001b[39mfind(sparse\u001b[39m.\u001b[39mtriu(net, \u001b[39m1\u001b[39m))\n\u001b[1;32m      <a href='vscode-notebook-cell:/Users/skojaku-admin/Documents/projects/teaching/adv-net-sci/codespaces/CommunityDetection/notebooks/exercise.ipynb#X45sZmlsZQ%3D%3D?line=2'>3</a>\u001b[0m gsbm \u001b[39m=\u001b[39m igraph\u001b[39m.\u001b[39mGraph(edges\u001b[39m=\u001b[39m\u001b[39mlist\u001b[39m(\u001b[39mzip\u001b[39m(src, trg)))\n\u001b[1;32m      <a href='vscode-notebook-cell:/Users/skojaku-admin/Documents/projects/teaching/adv-net-sci/codespaces/CommunityDetection/notebooks/exercise.ipynb#X45sZmlsZQ%3D%3D?line=4'>5</a>\u001b[0m cmap \u001b[39m=\u001b[39m sns\u001b[39m.\u001b[39mcolor_palette(\u001b[39m\"\u001b[39m\u001b[39mtab20\u001b[39m\u001b[39m\"\u001b[39m)\n",
      "\u001b[0;31mNameError\u001b[0m: name 'net' is not defined"
     ]
    }
   ],
   "source": [
    "# Convert to igraph object for visualization\n",
    "src, trg, _ = sparse.find(sparse.triu(net, 1))\n",
    "gsbm = igraph.Graph(edges=list(zip(src, trg)))\n",
    "\n",
    "cmap = sns.color_palette(\"tab20\")\n",
    "palette = dict(zip(np.unique(membership), cmap[: len(set(membership))]))\n",
    "node_color = [palette[c] for c in membership]\n",
    "igraph.plot(\n",
    "    gsbm,\n",
    "    layout=\"kk\",\n",
    "    vertex_color=node_color,\n",
    "    bbox=(500, 500),\n",
    ")"
   ]
  },
  {
   "cell_type": "markdown",
   "id": "9afaf364",
   "metadata": {},
   "source": [
    "Run the Leiden algorithm and count the number of communities detected. Does it find more communities or less communities than the actual number of communities? "
   ]
  },
  {
   "cell_type": "code",
   "execution_count": null,
   "id": "f0020c89",
   "metadata": {},
   "outputs": [],
   "source": []
  },
  {
   "cell_type": "markdown",
   "id": "43c70c83",
   "metadata": {},
   "source": [
    "Another issue with modularity maximization is that it can identify communities with high modularity even in random networks where no communities actually exist. This problem becomes more significant in the case of sparse networks. \n",
    "\n",
    "To demonstrate the problem, let's generate a network of 100 nodes with no community, in which every node is connected to any other nodes with the same probability of 0.02** "
   ]
  },
  {
   "cell_type": "code",
   "execution_count": 23,
   "id": "5c6b8783",
   "metadata": {},
   "outputs": [
    {
     "ename": "NameError",
     "evalue": "name 'net' is not defined",
     "output_type": "error",
     "traceback": [
      "\u001b[0;31m---------------------------------------------------------------------------\u001b[0m",
      "\u001b[0;31mNameError\u001b[0m                                 Traceback (most recent call last)",
      "\u001b[1;32m/Users/skojaku-admin/Documents/projects/teaching/adv-net-sci/codespaces/CommunityDetection/notebooks/exercise.ipynb Cell 38\u001b[0m line \u001b[0;36m4\n\u001b[1;32m      <a href='vscode-notebook-cell:/Users/skojaku-admin/Documents/projects/teaching/adv-net-sci/codespaces/CommunityDetection/notebooks/exercise.ipynb#X52sZmlsZQ%3D%3D?line=1'>2</a>\u001b[0m membership \u001b[39m=\u001b[39m \u001b[39m.\u001b[39m\u001b[39m.\u001b[39m\u001b[39m.\u001b[39m\n\u001b[1;32m      <a href='vscode-notebook-cell:/Users/skojaku-admin/Documents/projects/teaching/adv-net-sci/codespaces/CommunityDetection/notebooks/exercise.ipynb#X52sZmlsZQ%3D%3D?line=2'>3</a>\u001b[0m P \u001b[39m=\u001b[39m \u001b[39m.\u001b[39m\u001b[39m.\u001b[39m\u001b[39m.\u001b[39m\n\u001b[0;32m----> <a href='vscode-notebook-cell:/Users/skojaku-admin/Documents/projects/teaching/adv-net-sci/codespaces/CommunityDetection/notebooks/exercise.ipynb#X52sZmlsZQ%3D%3D?line=3'>4</a>\u001b[0m net \u001b[39m=\u001b[39m generate_SBM_network(n_nodes, membership, P)\n\u001b[1;32m      <a href='vscode-notebook-cell:/Users/skojaku-admin/Documents/projects/teaching/adv-net-sci/codespaces/CommunityDetection/notebooks/exercise.ipynb#X52sZmlsZQ%3D%3D?line=5'>6</a>\u001b[0m \u001b[39massert\u001b[39;00m n_nodes \u001b[39m==\u001b[39m np\u001b[39m.\u001b[39mshape[\u001b[39m0\u001b[39m]\n\u001b[1;32m      <a href='vscode-notebook-cell:/Users/skojaku-admin/Documents/projects/teaching/adv-net-sci/codespaces/CommunityDetection/notebooks/exercise.ipynb#X52sZmlsZQ%3D%3D?line=6'>7</a>\u001b[0m \u001b[39massert\u001b[39;00m np\u001b[39m.\u001b[39misclose(net\u001b[39m.\u001b[39msum() \u001b[39m/\u001b[39m np\u001b[39m.\u001b[39mprod(net\u001b[39m.\u001b[39mshape), \u001b[39m0.02\u001b[39m, atol\u001b[39m=\u001b[39m\u001b[39m0.05\u001b[39m)\n",
      "\u001b[1;32m/Users/skojaku-admin/Documents/projects/teaching/adv-net-sci/codespaces/CommunityDetection/notebooks/exercise.ipynb Cell 38\u001b[0m line \u001b[0;36m1\n\u001b[1;32m      <a href='vscode-notebook-cell:/Users/skojaku-admin/Documents/projects/teaching/adv-net-sci/codespaces/CommunityDetection/notebooks/exercise.ipynb#X52sZmlsZQ%3D%3D?line=0'>1</a>\u001b[0m \u001b[39mdef\u001b[39;00m \u001b[39mgenerate_SBM_network\u001b[39m(n_nodes, membership, P):\n\u001b[1;32m      <a href='vscode-notebook-cell:/Users/skojaku-admin/Documents/projects/teaching/adv-net-sci/codespaces/CommunityDetection/notebooks/exercise.ipynb#X52sZmlsZQ%3D%3D?line=1'>2</a>\u001b[0m \u001b[39m    \u001b[39m\u001b[39m\"\"\"\u001b[39;00m\n\u001b[1;32m      <a href='vscode-notebook-cell:/Users/skojaku-admin/Documents/projects/teaching/adv-net-sci/codespaces/CommunityDetection/notebooks/exercise.ipynb#X52sZmlsZQ%3D%3D?line=2'>3</a>\u001b[0m \u001b[39m    Generate a stochastic block model network\u001b[39;00m\n\u001b[1;32m      <a href='vscode-notebook-cell:/Users/skojaku-admin/Documents/projects/teaching/adv-net-sci/codespaces/CommunityDetection/notebooks/exercise.ipynb#X52sZmlsZQ%3D%3D?line=3'>4</a>\u001b[0m \u001b[39m    n_nodes: number of nodes\u001b[39;00m\n\u001b[0;32m   (...)\u001b[0m\n\u001b[1;32m     <a href='vscode-notebook-cell:/Users/skojaku-admin/Documents/projects/teaching/adv-net-sci/codespaces/CommunityDetection/notebooks/exercise.ipynb#X52sZmlsZQ%3D%3D?line=9'>10</a>\u001b[0m \n\u001b[1;32m     <a href='vscode-notebook-cell:/Users/skojaku-admin/Documents/projects/teaching/adv-net-sci/codespaces/CommunityDetection/notebooks/exercise.ipynb#X52sZmlsZQ%3D%3D?line=10'>11</a>\u001b[0m \u001b[39m    \"\"\"\u001b[39;00m\n\u001b[0;32m---> <a href='vscode-notebook-cell:/Users/skojaku-admin/Documents/projects/teaching/adv-net-sci/codespaces/CommunityDetection/notebooks/exercise.ipynb#X52sZmlsZQ%3D%3D?line=11'>12</a>\u001b[0m     \u001b[39mreturn\u001b[39;00m net\n",
      "\u001b[0;31mNameError\u001b[0m: name 'net' is not defined"
     ]
    }
   ],
   "source": [
    "n_nodes = 100\n",
    "membership = ...\n",
    "P = ...\n",
    "net = generate_SBM_network(n_nodes, membership, P)\n",
    "\n",
    "assert n_nodes == np.shape[0]\n",
    "assert np.isclose(net.sum() / np.prod(net.shape), 0.02, atol=0.05)\n",
    "assert set(membership) == 1"
   ]
  },
  {
   "cell_type": "markdown",
   "id": "9f72b941",
   "metadata": {},
   "source": [
    "Find the communities by using the Leiden algorithm"
   ]
  },
  {
   "cell_type": "code",
   "execution_count": null,
   "id": "103937c5",
   "metadata": {},
   "outputs": [],
   "source": []
  },
  {
   "cell_type": "markdown",
   "id": "691c8f9f",
   "metadata": {},
   "source": [
    "Check out the modularity value. How high is the modularity value?"
   ]
  },
  {
   "cell_type": "code",
   "execution_count": null,
   "id": "aca75693",
   "metadata": {},
   "outputs": [],
   "source": [
    "calc_modularity(net, detected_membership)"
   ]
  },
  {
   "cell_type": "markdown",
   "id": "8f1885df",
   "metadata": {},
   "source": [
    "How does this pseudo community look like?"
   ]
  },
  {
   "cell_type": "code",
   "execution_count": null,
   "id": "61c1aec4",
   "metadata": {},
   "outputs": [],
   "source": [
    "# Convert to igraph object for visualization\n",
    "src, trg, _ = sparse.find(sparse.triu(net, 1))\n",
    "gsbm = igraph.Graph(edges=list(zip(src, trg)))\n",
    "\n",
    "cmap = sns.color_palette(\"tab20\")\n",
    "palette = dict(zip(np.unique(membership), cmap[: len(set(membership))]))\n",
    "node_color = [palette[c] for c in membership]\n",
    "igraph.plot(\n",
    "    gsbm,\n",
    "    layout=\"kk\",\n",
    "    vertex_color=node_color,\n",
    "    bbox=(500, 500),\n",
    ")"
   ]
  },
  {
   "cell_type": "markdown",
   "id": "9eaa7df3",
   "metadata": {},
   "source": [
    "So why does the modularity high even for random networks, where communities do not exist. It's because we *maximize* the modularity. The modularity maximization partition nodes into an exclusive set of nodes. And there are an exponential number of possible partitions of nodes. Most partitions have a small modularity. But,  in one of the countless number of possible partitions, many edges appear within each group by a random chance. And the algorithm picks this partition with the highest (or nearly highest) modularity. "
   ]
  },
  {
   "cell_type": "markdown",
   "id": "8dd3b4b6",
   "metadata": {},
   "source": [
    "While the modularity has many critical limitations, it is still by far the most widely used method in practice.\n",
    "\n",
    "Alternatives to the modularity maximizations are \n",
    "- [Infomap](https://www.mapequation.org/infomap/)\n",
    "- [Baysian stochastic block model](https://graph-tool.skewed.de/static/doc/demos/inference/inference.html)\n",
    "- [Belief propagation method](https://journals.aps.org/prl/abstract/10.1103/PhysRevLett.107.065701)\n",
    "\n",
    "If you are interested in the community detection problem, here are good reviews: \n",
    "1. [Community detection in graph by Santo Fortunato](https://arxiv.org/abs/0906.0612)\n",
    "2. [Community detection in networks: A user guide by Santo Fortunato](https://www.cs.cornell.edu/courses/cs6241/2020sp/readings/Fortunato-2016-guide.pdf)"
   ]
  }
 ],
 "metadata": {
  "kernelspec": {
   "display_name": "advnetsci",
   "language": "python",
   "name": "python3"
  },
  "language_info": {
   "codemirror_mode": {
    "name": "ipython",
    "version": 3
   },
   "file_extension": ".py",
   "mimetype": "text/x-python",
   "name": "python",
   "nbconvert_exporter": "python",
   "pygments_lexer": "ipython3",
   "version": "3.9.16"
  }
 },
 "nbformat": 4,
 "nbformat_minor": 5
}
